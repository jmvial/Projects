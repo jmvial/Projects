{
 "cells": [
  {
   "cell_type": "markdown",
   "id": "d2aa4806-57b1-4eaa-970c-2e74197a056e",
   "metadata": {},
   "source": [
    "# 1. Inicio Proyecto en R"
   ]
  },
  {
   "cell_type": "markdown",
   "id": "87762047-6af9-4cc2-b71c-46eb469f0776",
   "metadata": {},
   "source": [
    "Leemos desde market.db"
   ]
  },
  {
   "cell_type": "code",
   "execution_count": 90,
   "id": "8ef0eadb-55c5-4805-b20c-fe93b1429543",
   "metadata": {},
   "outputs": [],
   "source": [
    "library('DBI')\n",
    "library('RSQLite')\n",
    "library('magrittr')\n",
    "library('dplyr')\n",
    "library('lubridate')\n",
    "library('tidyr')\n",
    "library('ggplot2')"
   ]
  },
  {
   "cell_type": "code",
   "execution_count": 91,
   "id": "7d3057ac-edec-4c9e-a454-653878d4de05",
   "metadata": {},
   "outputs": [],
   "source": [
    "con = dbConnect(RSQLite::SQLite(), \"../../01_Datos/market.db\")"
   ]
  },
  {
   "cell_type": "code",
   "execution_count": 92,
   "id": "e90b0b7c-c0b5-4efe-8e36-025b3b67ce05",
   "metadata": {},
   "outputs": [
    {
     "data": {
      "text/html": [
       "<style>\n",
       ".list-inline {list-style: none; margin:0; padding: 0}\n",
       ".list-inline>li {display: inline-block}\n",
       ".list-inline>li:not(:last-child)::after {content: \"\\00b7\"; padding: 0 .5ex}\n",
       "</style>\n",
       "<ol class=list-inline><li>'calendar'</li><li>'sales'</li><li>'sell_prices'</li></ol>\n"
      ],
      "text/latex": [
       "\\begin{enumerate*}\n",
       "\\item 'calendar'\n",
       "\\item 'sales'\n",
       "\\item 'sell\\_prices'\n",
       "\\end{enumerate*}\n"
      ],
      "text/markdown": [
       "1. 'calendar'\n",
       "2. 'sales'\n",
       "3. 'sell_prices'\n",
       "\n",
       "\n"
      ],
      "text/plain": [
       "[1] \"calendar\"    \"sales\"       \"sell_prices\""
      ]
     },
     "metadata": {},
     "output_type": "display_data"
    }
   ],
   "source": [
    "dbListTables(con)"
   ]
  },
  {
   "cell_type": "markdown",
   "id": "721214d8-cb68-42e8-ac27-26e563c28468",
   "metadata": {},
   "source": [
    "Vamos a leer las tablas y ver el contenido."
   ]
  },
  {
   "cell_type": "code",
   "execution_count": 93,
   "id": "c996b0ae-f537-497a-8f9a-532ea2cd6cad",
   "metadata": {},
   "outputs": [],
   "source": [
    "calendar = dbReadTable(con, \"calendar\")\n",
    "sales = dbReadTable(con, \"sales\")\n",
    "sell_prices = dbReadTable(con, \"sell_prices\")"
   ]
  },
  {
   "cell_type": "code",
   "execution_count": 94,
   "id": "c31c3eb9-2d5f-4f66-b3b7-cc6c280c0776",
   "metadata": {},
   "outputs": [
    {
     "data": {
      "text/html": [
       "<table class=\"dataframe\">\n",
       "<caption>A data.frame: 6 × 12</caption>\n",
       "<thead>\n",
       "\t<tr><th></th><th scope=col>index</th><th scope=col>date</th><th scope=col>wm_yr_wk</th><th scope=col>weekday</th><th scope=col>wday</th><th scope=col>month</th><th scope=col>year</th><th scope=col>d</th><th scope=col>event_name_1</th><th scope=col>event_type_1</th><th scope=col>event_name_2</th><th scope=col>event_type_2</th></tr>\n",
       "\t<tr><th></th><th scope=col>&lt;int&gt;</th><th scope=col>&lt;chr&gt;</th><th scope=col>&lt;int&gt;</th><th scope=col>&lt;chr&gt;</th><th scope=col>&lt;int&gt;</th><th scope=col>&lt;int&gt;</th><th scope=col>&lt;int&gt;</th><th scope=col>&lt;chr&gt;</th><th scope=col>&lt;chr&gt;</th><th scope=col>&lt;chr&gt;</th><th scope=col>&lt;chr&gt;</th><th scope=col>&lt;chr&gt;</th></tr>\n",
       "</thead>\n",
       "<tbody>\n",
       "\t<tr><th scope=row>1</th><td>0</td><td>2013-01-01</td><td>11249</td><td>Tuesday  </td><td>4</td><td>1</td><td>2013</td><td>d_704</td><td>NewYear</td><td>National</td><td>NA</td><td>NA</td></tr>\n",
       "\t<tr><th scope=row>2</th><td>1</td><td>2013-01-02</td><td>11249</td><td>Wednesday</td><td>5</td><td>1</td><td>2013</td><td>d_705</td><td>NA     </td><td>NA      </td><td>NA</td><td>NA</td></tr>\n",
       "\t<tr><th scope=row>3</th><td>2</td><td>2013-01-03</td><td>11249</td><td>Thursday </td><td>6</td><td>1</td><td>2013</td><td>d_706</td><td>NA     </td><td>NA      </td><td>NA</td><td>NA</td></tr>\n",
       "\t<tr><th scope=row>4</th><td>3</td><td>2013-01-04</td><td>11249</td><td>Friday   </td><td>7</td><td>1</td><td>2013</td><td>d_707</td><td>NA     </td><td>NA      </td><td>NA</td><td>NA</td></tr>\n",
       "\t<tr><th scope=row>5</th><td>4</td><td>2013-01-05</td><td>11250</td><td>Saturday </td><td>1</td><td>1</td><td>2013</td><td>d_708</td><td>NA     </td><td>NA      </td><td>NA</td><td>NA</td></tr>\n",
       "\t<tr><th scope=row>6</th><td>5</td><td>2013-01-06</td><td>11250</td><td>Sunday   </td><td>2</td><td>1</td><td>2013</td><td>d_709</td><td>NA     </td><td>NA      </td><td>NA</td><td>NA</td></tr>\n",
       "</tbody>\n",
       "</table>\n"
      ],
      "text/latex": [
       "A data.frame: 6 × 12\n",
       "\\begin{tabular}{r|llllllllllll}\n",
       "  & index & date & wm\\_yr\\_wk & weekday & wday & month & year & d & event\\_name\\_1 & event\\_type\\_1 & event\\_name\\_2 & event\\_type\\_2\\\\\n",
       "  & <int> & <chr> & <int> & <chr> & <int> & <int> & <int> & <chr> & <chr> & <chr> & <chr> & <chr>\\\\\n",
       "\\hline\n",
       "\t1 & 0 & 2013-01-01 & 11249 & Tuesday   & 4 & 1 & 2013 & d\\_704 & NewYear & National & NA & NA\\\\\n",
       "\t2 & 1 & 2013-01-02 & 11249 & Wednesday & 5 & 1 & 2013 & d\\_705 & NA      & NA       & NA & NA\\\\\n",
       "\t3 & 2 & 2013-01-03 & 11249 & Thursday  & 6 & 1 & 2013 & d\\_706 & NA      & NA       & NA & NA\\\\\n",
       "\t4 & 3 & 2013-01-04 & 11249 & Friday    & 7 & 1 & 2013 & d\\_707 & NA      & NA       & NA & NA\\\\\n",
       "\t5 & 4 & 2013-01-05 & 11250 & Saturday  & 1 & 1 & 2013 & d\\_708 & NA      & NA       & NA & NA\\\\\n",
       "\t6 & 5 & 2013-01-06 & 11250 & Sunday    & 2 & 1 & 2013 & d\\_709 & NA      & NA       & NA & NA\\\\\n",
       "\\end{tabular}\n"
      ],
      "text/markdown": [
       "\n",
       "A data.frame: 6 × 12\n",
       "\n",
       "| <!--/--> | index &lt;int&gt; | date &lt;chr&gt; | wm_yr_wk &lt;int&gt; | weekday &lt;chr&gt; | wday &lt;int&gt; | month &lt;int&gt; | year &lt;int&gt; | d &lt;chr&gt; | event_name_1 &lt;chr&gt; | event_type_1 &lt;chr&gt; | event_name_2 &lt;chr&gt; | event_type_2 &lt;chr&gt; |\n",
       "|---|---|---|---|---|---|---|---|---|---|---|---|---|\n",
       "| 1 | 0 | 2013-01-01 | 11249 | Tuesday   | 4 | 1 | 2013 | d_704 | NewYear | National | NA | NA |\n",
       "| 2 | 1 | 2013-01-02 | 11249 | Wednesday | 5 | 1 | 2013 | d_705 | NA      | NA       | NA | NA |\n",
       "| 3 | 2 | 2013-01-03 | 11249 | Thursday  | 6 | 1 | 2013 | d_706 | NA      | NA       | NA | NA |\n",
       "| 4 | 3 | 2013-01-04 | 11249 | Friday    | 7 | 1 | 2013 | d_707 | NA      | NA       | NA | NA |\n",
       "| 5 | 4 | 2013-01-05 | 11250 | Saturday  | 1 | 1 | 2013 | d_708 | NA      | NA       | NA | NA |\n",
       "| 6 | 5 | 2013-01-06 | 11250 | Sunday    | 2 | 1 | 2013 | d_709 | NA      | NA       | NA | NA |\n",
       "\n"
      ],
      "text/plain": [
       "  index date       wm_yr_wk weekday   wday month year d     event_name_1\n",
       "1 0     2013-01-01 11249    Tuesday   4    1     2013 d_704 NewYear     \n",
       "2 1     2013-01-02 11249    Wednesday 5    1     2013 d_705 NA          \n",
       "3 2     2013-01-03 11249    Thursday  6    1     2013 d_706 NA          \n",
       "4 3     2013-01-04 11249    Friday    7    1     2013 d_707 NA          \n",
       "5 4     2013-01-05 11250    Saturday  1    1     2013 d_708 NA          \n",
       "6 5     2013-01-06 11250    Sunday    2    1     2013 d_709 NA          \n",
       "  event_type_1 event_name_2 event_type_2\n",
       "1 National     NA           NA          \n",
       "2 NA           NA           NA          \n",
       "3 NA           NA           NA          \n",
       "4 NA           NA           NA          \n",
       "5 NA           NA           NA          \n",
       "6 NA           NA           NA          "
      ]
     },
     "metadata": {},
     "output_type": "display_data"
    }
   ],
   "source": [
    "calendar %>% head()"
   ]
  },
  {
   "cell_type": "code",
   "execution_count": 95,
   "id": "8a47ed4e-ea0e-4366-88f0-68abb81d4112",
   "metadata": {},
   "outputs": [
    {
     "data": {
      "text/html": [
       "<table class=\"dataframe\">\n",
       "<caption>A data.frame: 6 × 1102</caption>\n",
       "<thead>\n",
       "\t<tr><th></th><th scope=col>index</th><th scope=col>id</th><th scope=col>item_id</th><th scope=col>dept_id</th><th scope=col>cat_id</th><th scope=col>store_id</th><th scope=col>state_id</th><th scope=col>d_704</th><th scope=col>d_705</th><th scope=col>d_706</th><th scope=col>⋯</th><th scope=col>d_1789</th><th scope=col>d_1790</th><th scope=col>d_1791</th><th scope=col>d_1792</th><th scope=col>d_1793</th><th scope=col>d_1794</th><th scope=col>d_1795</th><th scope=col>d_1796</th><th scope=col>d_1797</th><th scope=col>d_1798</th></tr>\n",
       "\t<tr><th></th><th scope=col>&lt;int&gt;</th><th scope=col>&lt;chr&gt;</th><th scope=col>&lt;chr&gt;</th><th scope=col>&lt;chr&gt;</th><th scope=col>&lt;chr&gt;</th><th scope=col>&lt;chr&gt;</th><th scope=col>&lt;chr&gt;</th><th scope=col>&lt;int&gt;</th><th scope=col>&lt;int&gt;</th><th scope=col>&lt;int&gt;</th><th scope=col>⋯</th><th scope=col>&lt;int&gt;</th><th scope=col>&lt;int&gt;</th><th scope=col>&lt;int&gt;</th><th scope=col>&lt;int&gt;</th><th scope=col>&lt;int&gt;</th><th scope=col>&lt;int&gt;</th><th scope=col>&lt;int&gt;</th><th scope=col>&lt;int&gt;</th><th scope=col>&lt;int&gt;</th><th scope=col>&lt;int&gt;</th></tr>\n",
       "</thead>\n",
       "<tbody>\n",
       "\t<tr><th scope=row>1</th><td>8412</td><td>FOODS_3_090_CA_3_validation</td><td>FOODS_3_090</td><td>FOODS_3</td><td>FOODS</td><td>CA_3</td><td>CA</td><td> 0</td><td>224</td><td>241</td><td>⋯</td><td> 5</td><td> 2</td><td> 0</td><td>0</td><td> 6</td><td> 0</td><td>  6</td><td> 0</td><td> 0</td><td> 0</td></tr>\n",
       "\t<tr><th scope=row>2</th><td>8442</td><td>FOODS_3_120_CA_3_validation</td><td>FOODS_3_120</td><td>FOODS_3</td><td>FOODS</td><td>CA_3</td><td>CA</td><td> 0</td><td>  0</td><td>  0</td><td>⋯</td><td>54</td><td>63</td><td>44</td><td>0</td><td>65</td><td>90</td><td>104</td><td>73</td><td>76</td><td>97</td></tr>\n",
       "\t<tr><th scope=row>3</th><td>8524</td><td>FOODS_3_202_CA_3_validation</td><td>FOODS_3_202</td><td>FOODS_3</td><td>FOODS</td><td>CA_3</td><td>CA</td><td>20</td><td> 23</td><td> 23</td><td>⋯</td><td>43</td><td>40</td><td>39</td><td>0</td><td>29</td><td>33</td><td> 27</td><td>13</td><td>26</td><td>47</td></tr>\n",
       "\t<tr><th scope=row>4</th><td>8574</td><td>FOODS_3_252_CA_3_validation</td><td>FOODS_3_252</td><td>FOODS_3</td><td>FOODS</td><td>CA_3</td><td>CA</td><td>34</td><td> 27</td><td> 40</td><td>⋯</td><td>31</td><td>43</td><td>32</td><td>0</td><td>52</td><td>37</td><td> 32</td><td>29</td><td>34</td><td>27</td></tr>\n",
       "\t<tr><th scope=row>5</th><td>8610</td><td>FOODS_3_288_CA_3_validation</td><td>FOODS_3_288</td><td>FOODS_3</td><td>FOODS</td><td>CA_3</td><td>CA</td><td> 0</td><td>  0</td><td>  0</td><td>⋯</td><td>29</td><td>45</td><td>28</td><td>0</td><td>46</td><td>36</td><td> 40</td><td>31</td><td>46</td><td>36</td></tr>\n",
       "\t<tr><th scope=row>6</th><td>8651</td><td>FOODS_3_329_CA_3_validation</td><td>FOODS_3_329</td><td>FOODS_3</td><td>FOODS</td><td>CA_3</td><td>CA</td><td>39</td><td> 75</td><td> 54</td><td>⋯</td><td>66</td><td>56</td><td>60</td><td>0</td><td>46</td><td>64</td><td> 49</td><td>44</td><td>37</td><td>44</td></tr>\n",
       "</tbody>\n",
       "</table>\n"
      ],
      "text/latex": [
       "A data.frame: 6 × 1102\n",
       "\\begin{tabular}{r|lllllllllllllllllllll}\n",
       "  & index & id & item\\_id & dept\\_id & cat\\_id & store\\_id & state\\_id & d\\_704 & d\\_705 & d\\_706 & ⋯ & d\\_1789 & d\\_1790 & d\\_1791 & d\\_1792 & d\\_1793 & d\\_1794 & d\\_1795 & d\\_1796 & d\\_1797 & d\\_1798\\\\\n",
       "  & <int> & <chr> & <chr> & <chr> & <chr> & <chr> & <chr> & <int> & <int> & <int> & ⋯ & <int> & <int> & <int> & <int> & <int> & <int> & <int> & <int> & <int> & <int>\\\\\n",
       "\\hline\n",
       "\t1 & 8412 & FOODS\\_3\\_090\\_CA\\_3\\_validation & FOODS\\_3\\_090 & FOODS\\_3 & FOODS & CA\\_3 & CA &  0 & 224 & 241 & ⋯ &  5 &  2 &  0 & 0 &  6 &  0 &   6 &  0 &  0 &  0\\\\\n",
       "\t2 & 8442 & FOODS\\_3\\_120\\_CA\\_3\\_validation & FOODS\\_3\\_120 & FOODS\\_3 & FOODS & CA\\_3 & CA &  0 &   0 &   0 & ⋯ & 54 & 63 & 44 & 0 & 65 & 90 & 104 & 73 & 76 & 97\\\\\n",
       "\t3 & 8524 & FOODS\\_3\\_202\\_CA\\_3\\_validation & FOODS\\_3\\_202 & FOODS\\_3 & FOODS & CA\\_3 & CA & 20 &  23 &  23 & ⋯ & 43 & 40 & 39 & 0 & 29 & 33 &  27 & 13 & 26 & 47\\\\\n",
       "\t4 & 8574 & FOODS\\_3\\_252\\_CA\\_3\\_validation & FOODS\\_3\\_252 & FOODS\\_3 & FOODS & CA\\_3 & CA & 34 &  27 &  40 & ⋯ & 31 & 43 & 32 & 0 & 52 & 37 &  32 & 29 & 34 & 27\\\\\n",
       "\t5 & 8610 & FOODS\\_3\\_288\\_CA\\_3\\_validation & FOODS\\_3\\_288 & FOODS\\_3 & FOODS & CA\\_3 & CA &  0 &   0 &   0 & ⋯ & 29 & 45 & 28 & 0 & 46 & 36 &  40 & 31 & 46 & 36\\\\\n",
       "\t6 & 8651 & FOODS\\_3\\_329\\_CA\\_3\\_validation & FOODS\\_3\\_329 & FOODS\\_3 & FOODS & CA\\_3 & CA & 39 &  75 &  54 & ⋯ & 66 & 56 & 60 & 0 & 46 & 64 &  49 & 44 & 37 & 44\\\\\n",
       "\\end{tabular}\n"
      ],
      "text/markdown": [
       "\n",
       "A data.frame: 6 × 1102\n",
       "\n",
       "| <!--/--> | index &lt;int&gt; | id &lt;chr&gt; | item_id &lt;chr&gt; | dept_id &lt;chr&gt; | cat_id &lt;chr&gt; | store_id &lt;chr&gt; | state_id &lt;chr&gt; | d_704 &lt;int&gt; | d_705 &lt;int&gt; | d_706 &lt;int&gt; | ⋯ ⋯ | d_1789 &lt;int&gt; | d_1790 &lt;int&gt; | d_1791 &lt;int&gt; | d_1792 &lt;int&gt; | d_1793 &lt;int&gt; | d_1794 &lt;int&gt; | d_1795 &lt;int&gt; | d_1796 &lt;int&gt; | d_1797 &lt;int&gt; | d_1798 &lt;int&gt; |\n",
       "|---|---|---|---|---|---|---|---|---|---|---|---|---|---|---|---|---|---|---|---|---|---|\n",
       "| 1 | 8412 | FOODS_3_090_CA_3_validation | FOODS_3_090 | FOODS_3 | FOODS | CA_3 | CA |  0 | 224 | 241 | ⋯ |  5 |  2 |  0 | 0 |  6 |  0 |   6 |  0 |  0 |  0 |\n",
       "| 2 | 8442 | FOODS_3_120_CA_3_validation | FOODS_3_120 | FOODS_3 | FOODS | CA_3 | CA |  0 |   0 |   0 | ⋯ | 54 | 63 | 44 | 0 | 65 | 90 | 104 | 73 | 76 | 97 |\n",
       "| 3 | 8524 | FOODS_3_202_CA_3_validation | FOODS_3_202 | FOODS_3 | FOODS | CA_3 | CA | 20 |  23 |  23 | ⋯ | 43 | 40 | 39 | 0 | 29 | 33 |  27 | 13 | 26 | 47 |\n",
       "| 4 | 8574 | FOODS_3_252_CA_3_validation | FOODS_3_252 | FOODS_3 | FOODS | CA_3 | CA | 34 |  27 |  40 | ⋯ | 31 | 43 | 32 | 0 | 52 | 37 |  32 | 29 | 34 | 27 |\n",
       "| 5 | 8610 | FOODS_3_288_CA_3_validation | FOODS_3_288 | FOODS_3 | FOODS | CA_3 | CA |  0 |   0 |   0 | ⋯ | 29 | 45 | 28 | 0 | 46 | 36 |  40 | 31 | 46 | 36 |\n",
       "| 6 | 8651 | FOODS_3_329_CA_3_validation | FOODS_3_329 | FOODS_3 | FOODS | CA_3 | CA | 39 |  75 |  54 | ⋯ | 66 | 56 | 60 | 0 | 46 | 64 |  49 | 44 | 37 | 44 |\n",
       "\n"
      ],
      "text/plain": [
       "  index id                          item_id     dept_id cat_id store_id\n",
       "1 8412  FOODS_3_090_CA_3_validation FOODS_3_090 FOODS_3 FOODS  CA_3    \n",
       "2 8442  FOODS_3_120_CA_3_validation FOODS_3_120 FOODS_3 FOODS  CA_3    \n",
       "3 8524  FOODS_3_202_CA_3_validation FOODS_3_202 FOODS_3 FOODS  CA_3    \n",
       "4 8574  FOODS_3_252_CA_3_validation FOODS_3_252 FOODS_3 FOODS  CA_3    \n",
       "5 8610  FOODS_3_288_CA_3_validation FOODS_3_288 FOODS_3 FOODS  CA_3    \n",
       "6 8651  FOODS_3_329_CA_3_validation FOODS_3_329 FOODS_3 FOODS  CA_3    \n",
       "  state_id d_704 d_705 d_706 ⋯ d_1789 d_1790 d_1791 d_1792 d_1793 d_1794 d_1795\n",
       "1 CA        0    224   241   ⋯  5      2      0     0       6      0       6   \n",
       "2 CA        0      0     0   ⋯ 54     63     44     0      65     90     104   \n",
       "3 CA       20     23    23   ⋯ 43     40     39     0      29     33      27   \n",
       "4 CA       34     27    40   ⋯ 31     43     32     0      52     37      32   \n",
       "5 CA        0      0     0   ⋯ 29     45     28     0      46     36      40   \n",
       "6 CA       39     75    54   ⋯ 66     56     60     0      46     64      49   \n",
       "  d_1796 d_1797 d_1798\n",
       "1  0      0      0    \n",
       "2 73     76     97    \n",
       "3 13     26     47    \n",
       "4 29     34     27    \n",
       "5 31     46     36    \n",
       "6 44     37     44    "
      ]
     },
     "metadata": {},
     "output_type": "display_data"
    }
   ],
   "source": [
    "sales %>% head()"
   ]
  },
  {
   "cell_type": "code",
   "execution_count": 96,
   "id": "b007a2d7-f97e-4738-9fe0-0ef411ca1134",
   "metadata": {},
   "outputs": [
    {
     "data": {
      "text/html": [
       "<table class=\"dataframe\">\n",
       "<caption>A data.frame: 6 × 5</caption>\n",
       "<thead>\n",
       "\t<tr><th></th><th scope=col>index</th><th scope=col>store_id</th><th scope=col>item_id</th><th scope=col>wm_yr_wk</th><th scope=col>sell_price</th></tr>\n",
       "\t<tr><th></th><th scope=col>&lt;int&gt;</th><th scope=col>&lt;chr&gt;</th><th scope=col>&lt;chr&gt;</th><th scope=col>&lt;int&gt;</th><th scope=col>&lt;dbl&gt;</th></tr>\n",
       "</thead>\n",
       "<tbody>\n",
       "\t<tr><th scope=row>1</th><td>1862524</td><td>CA_3</td><td>FOODS_3_090</td><td>11249</td><td>1.25</td></tr>\n",
       "\t<tr><th scope=row>2</th><td>1862525</td><td>CA_3</td><td>FOODS_3_090</td><td>11250</td><td>1.25</td></tr>\n",
       "\t<tr><th scope=row>3</th><td>1862526</td><td>CA_3</td><td>FOODS_3_090</td><td>11251</td><td>1.25</td></tr>\n",
       "\t<tr><th scope=row>4</th><td>1862527</td><td>CA_3</td><td>FOODS_3_090</td><td>11252</td><td>1.25</td></tr>\n",
       "\t<tr><th scope=row>5</th><td>1862528</td><td>CA_3</td><td>FOODS_3_090</td><td>11301</td><td>1.38</td></tr>\n",
       "\t<tr><th scope=row>6</th><td>1862529</td><td>CA_3</td><td>FOODS_3_090</td><td>11302</td><td>1.38</td></tr>\n",
       "</tbody>\n",
       "</table>\n"
      ],
      "text/latex": [
       "A data.frame: 6 × 5\n",
       "\\begin{tabular}{r|lllll}\n",
       "  & index & store\\_id & item\\_id & wm\\_yr\\_wk & sell\\_price\\\\\n",
       "  & <int> & <chr> & <chr> & <int> & <dbl>\\\\\n",
       "\\hline\n",
       "\t1 & 1862524 & CA\\_3 & FOODS\\_3\\_090 & 11249 & 1.25\\\\\n",
       "\t2 & 1862525 & CA\\_3 & FOODS\\_3\\_090 & 11250 & 1.25\\\\\n",
       "\t3 & 1862526 & CA\\_3 & FOODS\\_3\\_090 & 11251 & 1.25\\\\\n",
       "\t4 & 1862527 & CA\\_3 & FOODS\\_3\\_090 & 11252 & 1.25\\\\\n",
       "\t5 & 1862528 & CA\\_3 & FOODS\\_3\\_090 & 11301 & 1.38\\\\\n",
       "\t6 & 1862529 & CA\\_3 & FOODS\\_3\\_090 & 11302 & 1.38\\\\\n",
       "\\end{tabular}\n"
      ],
      "text/markdown": [
       "\n",
       "A data.frame: 6 × 5\n",
       "\n",
       "| <!--/--> | index &lt;int&gt; | store_id &lt;chr&gt; | item_id &lt;chr&gt; | wm_yr_wk &lt;int&gt; | sell_price &lt;dbl&gt; |\n",
       "|---|---|---|---|---|---|\n",
       "| 1 | 1862524 | CA_3 | FOODS_3_090 | 11249 | 1.25 |\n",
       "| 2 | 1862525 | CA_3 | FOODS_3_090 | 11250 | 1.25 |\n",
       "| 3 | 1862526 | CA_3 | FOODS_3_090 | 11251 | 1.25 |\n",
       "| 4 | 1862527 | CA_3 | FOODS_3_090 | 11252 | 1.25 |\n",
       "| 5 | 1862528 | CA_3 | FOODS_3_090 | 11301 | 1.38 |\n",
       "| 6 | 1862529 | CA_3 | FOODS_3_090 | 11302 | 1.38 |\n",
       "\n"
      ],
      "text/plain": [
       "  index   store_id item_id     wm_yr_wk sell_price\n",
       "1 1862524 CA_3     FOODS_3_090 11249    1.25      \n",
       "2 1862525 CA_3     FOODS_3_090 11250    1.25      \n",
       "3 1862526 CA_3     FOODS_3_090 11251    1.25      \n",
       "4 1862527 CA_3     FOODS_3_090 11252    1.25      \n",
       "5 1862528 CA_3     FOODS_3_090 11301    1.38      \n",
       "6 1862529 CA_3     FOODS_3_090 11302    1.38      "
      ]
     },
     "metadata": {},
     "output_type": "display_data"
    }
   ],
   "source": [
    "sell_prices %>% head()"
   ]
  },
  {
   "cell_type": "markdown",
   "id": "799cd665-6c8b-47bf-a3ea-0e1ca949c916",
   "metadata": {},
   "source": [
    "En ambas tres tablas, eliminamos la columna index porque no es significativa. De sales también eliminamos id porque es información redundante."
   ]
  },
  {
   "cell_type": "code",
   "execution_count": 97,
   "id": "0857f8c0-67a6-4ed8-8a6d-4862bc85d194",
   "metadata": {},
   "outputs": [],
   "source": [
    "calendar = calendar %>% dplyr::select(-index)\n",
    "sales = sales %>% dplyr::select(-index, -id)\n",
    "sell_prices = sell_prices %>% dplyr::select(-index)"
   ]
  },
  {
   "cell_type": "markdown",
   "id": "ca5c0fdd-75a8-4312-bfa9-c59dddcbabd0",
   "metadata": {},
   "source": [
    "Ahora, haremos pasaremos de formato transaccional a tabular para normalizar algunas tablas. En sales, la estructura viene como los días de ventas y las ventas por columnas, las pasamos a filas."
   ]
  },
  {
   "cell_type": "code",
   "execution_count": 98,
   "id": "c36cb119-a9cf-43b5-8fb7-69b3134ba0a4",
   "metadata": {},
   "outputs": [],
   "source": [
    "sales = pivot_longer(sales, \n",
    "                      cols = starts_with(\"d_\"), \n",
    "                      names_to = \"d\", \n",
    "                      values_to = \"ventas\")"
   ]
  },
  {
   "cell_type": "markdown",
   "id": "e080df44-6d4c-4e03-92ff-59d27cdbe5ab",
   "metadata": {},
   "source": [
    "Unimos las tablas por los campos comunes, en primer lugar sales y calendar por el campo en común \"d\" que hemos transformado en sales en el anterior paso."
   ]
  },
  {
   "cell_type": "code",
   "execution_count": 99,
   "id": "91c3f7e8-1a76-4be5-8d40-01c86ab8dbc6",
   "metadata": {},
   "outputs": [],
   "source": [
    "df = sales %>% left_join(calendar, by = \"d\")"
   ]
  },
  {
   "cell_type": "markdown",
   "id": "14014bb2-1789-4b1f-8d3a-77a553c9cdcc",
   "metadata": {},
   "source": [
    "Visualizamos:"
   ]
  },
  {
   "cell_type": "code",
   "execution_count": 100,
   "id": "4aae5415-411b-401d-9135-ea7931227587",
   "metadata": {},
   "outputs": [
    {
     "data": {
      "text/html": [
       "<table class=\"dataframe\">\n",
       "<caption>A tibble: 6 × 17</caption>\n",
       "<thead>\n",
       "\t<tr><th scope=col>item_id</th><th scope=col>dept_id</th><th scope=col>cat_id</th><th scope=col>store_id</th><th scope=col>state_id</th><th scope=col>d</th><th scope=col>ventas</th><th scope=col>date</th><th scope=col>wm_yr_wk</th><th scope=col>weekday</th><th scope=col>wday</th><th scope=col>month</th><th scope=col>year</th><th scope=col>event_name_1</th><th scope=col>event_type_1</th><th scope=col>event_name_2</th><th scope=col>event_type_2</th></tr>\n",
       "\t<tr><th scope=col>&lt;chr&gt;</th><th scope=col>&lt;chr&gt;</th><th scope=col>&lt;chr&gt;</th><th scope=col>&lt;chr&gt;</th><th scope=col>&lt;chr&gt;</th><th scope=col>&lt;chr&gt;</th><th scope=col>&lt;int&gt;</th><th scope=col>&lt;chr&gt;</th><th scope=col>&lt;int&gt;</th><th scope=col>&lt;chr&gt;</th><th scope=col>&lt;int&gt;</th><th scope=col>&lt;int&gt;</th><th scope=col>&lt;int&gt;</th><th scope=col>&lt;chr&gt;</th><th scope=col>&lt;chr&gt;</th><th scope=col>&lt;chr&gt;</th><th scope=col>&lt;chr&gt;</th></tr>\n",
       "</thead>\n",
       "<tbody>\n",
       "\t<tr><td>FOODS_3_090</td><td>FOODS_3</td><td>FOODS</td><td>CA_3</td><td>CA</td><td>d_704</td><td>  0</td><td>2013-01-01</td><td>11249</td><td>Tuesday  </td><td>4</td><td>1</td><td>2013</td><td>NewYear</td><td>National</td><td>NA</td><td>NA</td></tr>\n",
       "\t<tr><td>FOODS_3_090</td><td>FOODS_3</td><td>FOODS</td><td>CA_3</td><td>CA</td><td>d_705</td><td>224</td><td>2013-01-02</td><td>11249</td><td>Wednesday</td><td>5</td><td>1</td><td>2013</td><td>NA     </td><td>NA      </td><td>NA</td><td>NA</td></tr>\n",
       "\t<tr><td>FOODS_3_090</td><td>FOODS_3</td><td>FOODS</td><td>CA_3</td><td>CA</td><td>d_706</td><td>241</td><td>2013-01-03</td><td>11249</td><td>Thursday </td><td>6</td><td>1</td><td>2013</td><td>NA     </td><td>NA      </td><td>NA</td><td>NA</td></tr>\n",
       "\t<tr><td>FOODS_3_090</td><td>FOODS_3</td><td>FOODS</td><td>CA_3</td><td>CA</td><td>d_707</td><td>232</td><td>2013-01-04</td><td>11249</td><td>Friday   </td><td>7</td><td>1</td><td>2013</td><td>NA     </td><td>NA      </td><td>NA</td><td>NA</td></tr>\n",
       "\t<tr><td>FOODS_3_090</td><td>FOODS_3</td><td>FOODS</td><td>CA_3</td><td>CA</td><td>d_708</td><td>301</td><td>2013-01-05</td><td>11250</td><td>Saturday </td><td>1</td><td>1</td><td>2013</td><td>NA     </td><td>NA      </td><td>NA</td><td>NA</td></tr>\n",
       "\t<tr><td>FOODS_3_090</td><td>FOODS_3</td><td>FOODS</td><td>CA_3</td><td>CA</td><td>d_709</td><td>270</td><td>2013-01-06</td><td>11250</td><td>Sunday   </td><td>2</td><td>1</td><td>2013</td><td>NA     </td><td>NA      </td><td>NA</td><td>NA</td></tr>\n",
       "</tbody>\n",
       "</table>\n"
      ],
      "text/latex": [
       "A tibble: 6 × 17\n",
       "\\begin{tabular}{lllllllllllllllll}\n",
       " item\\_id & dept\\_id & cat\\_id & store\\_id & state\\_id & d & ventas & date & wm\\_yr\\_wk & weekday & wday & month & year & event\\_name\\_1 & event\\_type\\_1 & event\\_name\\_2 & event\\_type\\_2\\\\\n",
       " <chr> & <chr> & <chr> & <chr> & <chr> & <chr> & <int> & <chr> & <int> & <chr> & <int> & <int> & <int> & <chr> & <chr> & <chr> & <chr>\\\\\n",
       "\\hline\n",
       "\t FOODS\\_3\\_090 & FOODS\\_3 & FOODS & CA\\_3 & CA & d\\_704 &   0 & 2013-01-01 & 11249 & Tuesday   & 4 & 1 & 2013 & NewYear & National & NA & NA\\\\\n",
       "\t FOODS\\_3\\_090 & FOODS\\_3 & FOODS & CA\\_3 & CA & d\\_705 & 224 & 2013-01-02 & 11249 & Wednesday & 5 & 1 & 2013 & NA      & NA       & NA & NA\\\\\n",
       "\t FOODS\\_3\\_090 & FOODS\\_3 & FOODS & CA\\_3 & CA & d\\_706 & 241 & 2013-01-03 & 11249 & Thursday  & 6 & 1 & 2013 & NA      & NA       & NA & NA\\\\\n",
       "\t FOODS\\_3\\_090 & FOODS\\_3 & FOODS & CA\\_3 & CA & d\\_707 & 232 & 2013-01-04 & 11249 & Friday    & 7 & 1 & 2013 & NA      & NA       & NA & NA\\\\\n",
       "\t FOODS\\_3\\_090 & FOODS\\_3 & FOODS & CA\\_3 & CA & d\\_708 & 301 & 2013-01-05 & 11250 & Saturday  & 1 & 1 & 2013 & NA      & NA       & NA & NA\\\\\n",
       "\t FOODS\\_3\\_090 & FOODS\\_3 & FOODS & CA\\_3 & CA & d\\_709 & 270 & 2013-01-06 & 11250 & Sunday    & 2 & 1 & 2013 & NA      & NA       & NA & NA\\\\\n",
       "\\end{tabular}\n"
      ],
      "text/markdown": [
       "\n",
       "A tibble: 6 × 17\n",
       "\n",
       "| item_id &lt;chr&gt; | dept_id &lt;chr&gt; | cat_id &lt;chr&gt; | store_id &lt;chr&gt; | state_id &lt;chr&gt; | d &lt;chr&gt; | ventas &lt;int&gt; | date &lt;chr&gt; | wm_yr_wk &lt;int&gt; | weekday &lt;chr&gt; | wday &lt;int&gt; | month &lt;int&gt; | year &lt;int&gt; | event_name_1 &lt;chr&gt; | event_type_1 &lt;chr&gt; | event_name_2 &lt;chr&gt; | event_type_2 &lt;chr&gt; |\n",
       "|---|---|---|---|---|---|---|---|---|---|---|---|---|---|---|---|---|\n",
       "| FOODS_3_090 | FOODS_3 | FOODS | CA_3 | CA | d_704 |   0 | 2013-01-01 | 11249 | Tuesday   | 4 | 1 | 2013 | NewYear | National | NA | NA |\n",
       "| FOODS_3_090 | FOODS_3 | FOODS | CA_3 | CA | d_705 | 224 | 2013-01-02 | 11249 | Wednesday | 5 | 1 | 2013 | NA      | NA       | NA | NA |\n",
       "| FOODS_3_090 | FOODS_3 | FOODS | CA_3 | CA | d_706 | 241 | 2013-01-03 | 11249 | Thursday  | 6 | 1 | 2013 | NA      | NA       | NA | NA |\n",
       "| FOODS_3_090 | FOODS_3 | FOODS | CA_3 | CA | d_707 | 232 | 2013-01-04 | 11249 | Friday    | 7 | 1 | 2013 | NA      | NA       | NA | NA |\n",
       "| FOODS_3_090 | FOODS_3 | FOODS | CA_3 | CA | d_708 | 301 | 2013-01-05 | 11250 | Saturday  | 1 | 1 | 2013 | NA      | NA       | NA | NA |\n",
       "| FOODS_3_090 | FOODS_3 | FOODS | CA_3 | CA | d_709 | 270 | 2013-01-06 | 11250 | Sunday    | 2 | 1 | 2013 | NA      | NA       | NA | NA |\n",
       "\n"
      ],
      "text/plain": [
       "  item_id     dept_id cat_id store_id state_id d     ventas date       wm_yr_wk\n",
       "1 FOODS_3_090 FOODS_3 FOODS  CA_3     CA       d_704   0    2013-01-01 11249   \n",
       "2 FOODS_3_090 FOODS_3 FOODS  CA_3     CA       d_705 224    2013-01-02 11249   \n",
       "3 FOODS_3_090 FOODS_3 FOODS  CA_3     CA       d_706 241    2013-01-03 11249   \n",
       "4 FOODS_3_090 FOODS_3 FOODS  CA_3     CA       d_707 232    2013-01-04 11249   \n",
       "5 FOODS_3_090 FOODS_3 FOODS  CA_3     CA       d_708 301    2013-01-05 11250   \n",
       "6 FOODS_3_090 FOODS_3 FOODS  CA_3     CA       d_709 270    2013-01-06 11250   \n",
       "  weekday   wday month year event_name_1 event_type_1 event_name_2 event_type_2\n",
       "1 Tuesday   4    1     2013 NewYear      National     NA           NA          \n",
       "2 Wednesday 5    1     2013 NA           NA           NA           NA          \n",
       "3 Thursday  6    1     2013 NA           NA           NA           NA          \n",
       "4 Friday    7    1     2013 NA           NA           NA           NA          \n",
       "5 Saturday  1    1     2013 NA           NA           NA           NA          \n",
       "6 Sunday    2    1     2013 NA           NA           NA           NA          "
      ]
     },
     "metadata": {},
     "output_type": "display_data"
    }
   ],
   "source": [
    "df %>%  head()"
   ]
  },
  {
   "cell_type": "markdown",
   "id": "49124992-4d68-435f-93e3-a95ce611b17e",
   "metadata": {},
   "source": [
    "Actualizamos con sell_prices, que tiene en común con df los campos \"store_id\", \"item_id\" y \"wm-yr_wk\""
   ]
  },
  {
   "cell_type": "code",
   "execution_count": 101,
   "id": "f432169a-2398-448f-939e-ac53fb45164d",
   "metadata": {},
   "outputs": [],
   "source": [
    "df = df %>% left_join(sell_prices, by = c(\"store_id\", \"item_id\", \"wm_yr_wk\"))"
   ]
  },
  {
   "cell_type": "markdown",
   "id": "61799688-c90d-4c2c-ac80-afd4954899ee",
   "metadata": {},
   "source": [
    "Vamos a comprobar que todos los campos se han integrado correctamente."
   ]
  },
  {
   "cell_type": "code",
   "execution_count": 102,
   "id": "33bcf5e5-6a71-4e33-9ac2-a8b7ee86f9b6",
   "metadata": {},
   "outputs": [
    {
     "data": {
      "text/html": [
       "<table class=\"dataframe\">\n",
       "<caption>A tibble: 10 × 5</caption>\n",
       "<thead>\n",
       "\t<tr><th scope=col>store_id</th><th scope=col>item_id</th><th scope=col>wm_yr_wk</th><th scope=col>d</th><th scope=col>sell_price</th></tr>\n",
       "\t<tr><th scope=col>&lt;chr&gt;</th><th scope=col>&lt;chr&gt;</th><th scope=col>&lt;int&gt;</th><th scope=col>&lt;chr&gt;</th><th scope=col>&lt;dbl&gt;</th></tr>\n",
       "</thead>\n",
       "<tbody>\n",
       "\t<tr><td>CA_3</td><td>FOODS_3_090</td><td>11249</td><td>d_704</td><td>1.25</td></tr>\n",
       "\t<tr><td>CA_3</td><td>FOODS_3_090</td><td>11249</td><td>d_705</td><td>1.25</td></tr>\n",
       "\t<tr><td>CA_3</td><td>FOODS_3_090</td><td>11249</td><td>d_706</td><td>1.25</td></tr>\n",
       "\t<tr><td>CA_3</td><td>FOODS_3_090</td><td>11249</td><td>d_707</td><td>1.25</td></tr>\n",
       "\t<tr><td>CA_3</td><td>FOODS_3_090</td><td>11250</td><td>d_708</td><td>1.25</td></tr>\n",
       "\t<tr><td>CA_3</td><td>FOODS_3_090</td><td>11250</td><td>d_709</td><td>1.25</td></tr>\n",
       "\t<tr><td>CA_3</td><td>FOODS_3_090</td><td>11250</td><td>d_710</td><td>1.25</td></tr>\n",
       "\t<tr><td>CA_3</td><td>FOODS_3_090</td><td>11250</td><td>d_711</td><td>1.25</td></tr>\n",
       "\t<tr><td>CA_3</td><td>FOODS_3_090</td><td>11250</td><td>d_712</td><td>1.25</td></tr>\n",
       "\t<tr><td>CA_3</td><td>FOODS_3_090</td><td>11250</td><td>d_713</td><td>1.25</td></tr>\n",
       "</tbody>\n",
       "</table>\n"
      ],
      "text/latex": [
       "A tibble: 10 × 5\n",
       "\\begin{tabular}{lllll}\n",
       " store\\_id & item\\_id & wm\\_yr\\_wk & d & sell\\_price\\\\\n",
       " <chr> & <chr> & <int> & <chr> & <dbl>\\\\\n",
       "\\hline\n",
       "\t CA\\_3 & FOODS\\_3\\_090 & 11249 & d\\_704 & 1.25\\\\\n",
       "\t CA\\_3 & FOODS\\_3\\_090 & 11249 & d\\_705 & 1.25\\\\\n",
       "\t CA\\_3 & FOODS\\_3\\_090 & 11249 & d\\_706 & 1.25\\\\\n",
       "\t CA\\_3 & FOODS\\_3\\_090 & 11249 & d\\_707 & 1.25\\\\\n",
       "\t CA\\_3 & FOODS\\_3\\_090 & 11250 & d\\_708 & 1.25\\\\\n",
       "\t CA\\_3 & FOODS\\_3\\_090 & 11250 & d\\_709 & 1.25\\\\\n",
       "\t CA\\_3 & FOODS\\_3\\_090 & 11250 & d\\_710 & 1.25\\\\\n",
       "\t CA\\_3 & FOODS\\_3\\_090 & 11250 & d\\_711 & 1.25\\\\\n",
       "\t CA\\_3 & FOODS\\_3\\_090 & 11250 & d\\_712 & 1.25\\\\\n",
       "\t CA\\_3 & FOODS\\_3\\_090 & 11250 & d\\_713 & 1.25\\\\\n",
       "\\end{tabular}\n"
      ],
      "text/markdown": [
       "\n",
       "A tibble: 10 × 5\n",
       "\n",
       "| store_id &lt;chr&gt; | item_id &lt;chr&gt; | wm_yr_wk &lt;int&gt; | d &lt;chr&gt; | sell_price &lt;dbl&gt; |\n",
       "|---|---|---|---|---|\n",
       "| CA_3 | FOODS_3_090 | 11249 | d_704 | 1.25 |\n",
       "| CA_3 | FOODS_3_090 | 11249 | d_705 | 1.25 |\n",
       "| CA_3 | FOODS_3_090 | 11249 | d_706 | 1.25 |\n",
       "| CA_3 | FOODS_3_090 | 11249 | d_707 | 1.25 |\n",
       "| CA_3 | FOODS_3_090 | 11250 | d_708 | 1.25 |\n",
       "| CA_3 | FOODS_3_090 | 11250 | d_709 | 1.25 |\n",
       "| CA_3 | FOODS_3_090 | 11250 | d_710 | 1.25 |\n",
       "| CA_3 | FOODS_3_090 | 11250 | d_711 | 1.25 |\n",
       "| CA_3 | FOODS_3_090 | 11250 | d_712 | 1.25 |\n",
       "| CA_3 | FOODS_3_090 | 11250 | d_713 | 1.25 |\n",
       "\n"
      ],
      "text/plain": [
       "   store_id item_id     wm_yr_wk d     sell_price\n",
       "1  CA_3     FOODS_3_090 11249    d_704 1.25      \n",
       "2  CA_3     FOODS_3_090 11249    d_705 1.25      \n",
       "3  CA_3     FOODS_3_090 11249    d_706 1.25      \n",
       "4  CA_3     FOODS_3_090 11249    d_707 1.25      \n",
       "5  CA_3     FOODS_3_090 11250    d_708 1.25      \n",
       "6  CA_3     FOODS_3_090 11250    d_709 1.25      \n",
       "7  CA_3     FOODS_3_090 11250    d_710 1.25      \n",
       "8  CA_3     FOODS_3_090 11250    d_711 1.25      \n",
       "9  CA_3     FOODS_3_090 11250    d_712 1.25      \n",
       "10 CA_3     FOODS_3_090 11250    d_713 1.25      "
      ]
     },
     "metadata": {},
     "output_type": "display_data"
    }
   ],
   "source": [
    "df %>% select(store_id, item_id, wm_yr_wk, d, sell_price) %>%\n",
    "arrange(store_id, item_id, wm_yr_wk, d) %>% \n",
    "head(10)"
   ]
  },
  {
   "cell_type": "markdown",
   "id": "7d0ceda0-85b5-48ec-b2ec-df0b622723bb",
   "metadata": {},
   "source": [
    "Vamos ahora a poner las columnas en un orden más adecuado."
   ]
  },
  {
   "cell_type": "code",
   "execution_count": 103,
   "id": "1499be87-3c61-4a96-bf56-8a71899bb2f4",
   "metadata": {},
   "outputs": [],
   "source": [
    "columns_order = c('date', 'state_id', 'store_id', 'dept_id', 'cat_id', 'item_id', 'wm_yr_wk', 'd', 'ventas',\n",
    "                      'sell_price', 'year', 'month', 'wday', 'weekday', 'event_name_1', 'event_type_1', 'event_name_2',\n",
    "                      'event_type_2')"
   ]
  },
  {
   "cell_type": "code",
   "execution_count": 104,
   "id": "519ace60-96fa-4d4c-81f7-e14bb110af10",
   "metadata": {},
   "outputs": [],
   "source": [
    "df = df[, columns_order]"
   ]
  },
  {
   "cell_type": "code",
   "execution_count": 105,
   "id": "b6d376cf-b0b2-41b0-a2b4-46e531297d29",
   "metadata": {},
   "outputs": [
    {
     "data": {
      "text/html": [
       "<table class=\"dataframe\">\n",
       "<caption>A tibble: 6 × 18</caption>\n",
       "<thead>\n",
       "\t<tr><th scope=col>date</th><th scope=col>state_id</th><th scope=col>store_id</th><th scope=col>dept_id</th><th scope=col>cat_id</th><th scope=col>item_id</th><th scope=col>wm_yr_wk</th><th scope=col>d</th><th scope=col>ventas</th><th scope=col>sell_price</th><th scope=col>year</th><th scope=col>month</th><th scope=col>wday</th><th scope=col>weekday</th><th scope=col>event_name_1</th><th scope=col>event_type_1</th><th scope=col>event_name_2</th><th scope=col>event_type_2</th></tr>\n",
       "\t<tr><th scope=col>&lt;chr&gt;</th><th scope=col>&lt;chr&gt;</th><th scope=col>&lt;chr&gt;</th><th scope=col>&lt;chr&gt;</th><th scope=col>&lt;chr&gt;</th><th scope=col>&lt;chr&gt;</th><th scope=col>&lt;int&gt;</th><th scope=col>&lt;chr&gt;</th><th scope=col>&lt;int&gt;</th><th scope=col>&lt;dbl&gt;</th><th scope=col>&lt;int&gt;</th><th scope=col>&lt;int&gt;</th><th scope=col>&lt;int&gt;</th><th scope=col>&lt;chr&gt;</th><th scope=col>&lt;chr&gt;</th><th scope=col>&lt;chr&gt;</th><th scope=col>&lt;chr&gt;</th><th scope=col>&lt;chr&gt;</th></tr>\n",
       "</thead>\n",
       "<tbody>\n",
       "\t<tr><td>2013-01-01</td><td>CA</td><td>CA_3</td><td>FOODS_3</td><td>FOODS</td><td>FOODS_3_090</td><td>11249</td><td>d_704</td><td>  0</td><td>1.25</td><td>2013</td><td>1</td><td>4</td><td>Tuesday  </td><td>NewYear</td><td>National</td><td>NA</td><td>NA</td></tr>\n",
       "\t<tr><td>2013-01-02</td><td>CA</td><td>CA_3</td><td>FOODS_3</td><td>FOODS</td><td>FOODS_3_090</td><td>11249</td><td>d_705</td><td>224</td><td>1.25</td><td>2013</td><td>1</td><td>5</td><td>Wednesday</td><td>NA     </td><td>NA      </td><td>NA</td><td>NA</td></tr>\n",
       "\t<tr><td>2013-01-03</td><td>CA</td><td>CA_3</td><td>FOODS_3</td><td>FOODS</td><td>FOODS_3_090</td><td>11249</td><td>d_706</td><td>241</td><td>1.25</td><td>2013</td><td>1</td><td>6</td><td>Thursday </td><td>NA     </td><td>NA      </td><td>NA</td><td>NA</td></tr>\n",
       "\t<tr><td>2013-01-04</td><td>CA</td><td>CA_3</td><td>FOODS_3</td><td>FOODS</td><td>FOODS_3_090</td><td>11249</td><td>d_707</td><td>232</td><td>1.25</td><td>2013</td><td>1</td><td>7</td><td>Friday   </td><td>NA     </td><td>NA      </td><td>NA</td><td>NA</td></tr>\n",
       "\t<tr><td>2013-01-05</td><td>CA</td><td>CA_3</td><td>FOODS_3</td><td>FOODS</td><td>FOODS_3_090</td><td>11250</td><td>d_708</td><td>301</td><td>1.25</td><td>2013</td><td>1</td><td>1</td><td>Saturday </td><td>NA     </td><td>NA      </td><td>NA</td><td>NA</td></tr>\n",
       "\t<tr><td>2013-01-06</td><td>CA</td><td>CA_3</td><td>FOODS_3</td><td>FOODS</td><td>FOODS_3_090</td><td>11250</td><td>d_709</td><td>270</td><td>1.25</td><td>2013</td><td>1</td><td>2</td><td>Sunday   </td><td>NA     </td><td>NA      </td><td>NA</td><td>NA</td></tr>\n",
       "</tbody>\n",
       "</table>\n"
      ],
      "text/latex": [
       "A tibble: 6 × 18\n",
       "\\begin{tabular}{llllllllllllllllll}\n",
       " date & state\\_id & store\\_id & dept\\_id & cat\\_id & item\\_id & wm\\_yr\\_wk & d & ventas & sell\\_price & year & month & wday & weekday & event\\_name\\_1 & event\\_type\\_1 & event\\_name\\_2 & event\\_type\\_2\\\\\n",
       " <chr> & <chr> & <chr> & <chr> & <chr> & <chr> & <int> & <chr> & <int> & <dbl> & <int> & <int> & <int> & <chr> & <chr> & <chr> & <chr> & <chr>\\\\\n",
       "\\hline\n",
       "\t 2013-01-01 & CA & CA\\_3 & FOODS\\_3 & FOODS & FOODS\\_3\\_090 & 11249 & d\\_704 &   0 & 1.25 & 2013 & 1 & 4 & Tuesday   & NewYear & National & NA & NA\\\\\n",
       "\t 2013-01-02 & CA & CA\\_3 & FOODS\\_3 & FOODS & FOODS\\_3\\_090 & 11249 & d\\_705 & 224 & 1.25 & 2013 & 1 & 5 & Wednesday & NA      & NA       & NA & NA\\\\\n",
       "\t 2013-01-03 & CA & CA\\_3 & FOODS\\_3 & FOODS & FOODS\\_3\\_090 & 11249 & d\\_706 & 241 & 1.25 & 2013 & 1 & 6 & Thursday  & NA      & NA       & NA & NA\\\\\n",
       "\t 2013-01-04 & CA & CA\\_3 & FOODS\\_3 & FOODS & FOODS\\_3\\_090 & 11249 & d\\_707 & 232 & 1.25 & 2013 & 1 & 7 & Friday    & NA      & NA       & NA & NA\\\\\n",
       "\t 2013-01-05 & CA & CA\\_3 & FOODS\\_3 & FOODS & FOODS\\_3\\_090 & 11250 & d\\_708 & 301 & 1.25 & 2013 & 1 & 1 & Saturday  & NA      & NA       & NA & NA\\\\\n",
       "\t 2013-01-06 & CA & CA\\_3 & FOODS\\_3 & FOODS & FOODS\\_3\\_090 & 11250 & d\\_709 & 270 & 1.25 & 2013 & 1 & 2 & Sunday    & NA      & NA       & NA & NA\\\\\n",
       "\\end{tabular}\n"
      ],
      "text/markdown": [
       "\n",
       "A tibble: 6 × 18\n",
       "\n",
       "| date &lt;chr&gt; | state_id &lt;chr&gt; | store_id &lt;chr&gt; | dept_id &lt;chr&gt; | cat_id &lt;chr&gt; | item_id &lt;chr&gt; | wm_yr_wk &lt;int&gt; | d &lt;chr&gt; | ventas &lt;int&gt; | sell_price &lt;dbl&gt; | year &lt;int&gt; | month &lt;int&gt; | wday &lt;int&gt; | weekday &lt;chr&gt; | event_name_1 &lt;chr&gt; | event_type_1 &lt;chr&gt; | event_name_2 &lt;chr&gt; | event_type_2 &lt;chr&gt; |\n",
       "|---|---|---|---|---|---|---|---|---|---|---|---|---|---|---|---|---|---|\n",
       "| 2013-01-01 | CA | CA_3 | FOODS_3 | FOODS | FOODS_3_090 | 11249 | d_704 |   0 | 1.25 | 2013 | 1 | 4 | Tuesday   | NewYear | National | NA | NA |\n",
       "| 2013-01-02 | CA | CA_3 | FOODS_3 | FOODS | FOODS_3_090 | 11249 | d_705 | 224 | 1.25 | 2013 | 1 | 5 | Wednesday | NA      | NA       | NA | NA |\n",
       "| 2013-01-03 | CA | CA_3 | FOODS_3 | FOODS | FOODS_3_090 | 11249 | d_706 | 241 | 1.25 | 2013 | 1 | 6 | Thursday  | NA      | NA       | NA | NA |\n",
       "| 2013-01-04 | CA | CA_3 | FOODS_3 | FOODS | FOODS_3_090 | 11249 | d_707 | 232 | 1.25 | 2013 | 1 | 7 | Friday    | NA      | NA       | NA | NA |\n",
       "| 2013-01-05 | CA | CA_3 | FOODS_3 | FOODS | FOODS_3_090 | 11250 | d_708 | 301 | 1.25 | 2013 | 1 | 1 | Saturday  | NA      | NA       | NA | NA |\n",
       "| 2013-01-06 | CA | CA_3 | FOODS_3 | FOODS | FOODS_3_090 | 11250 | d_709 | 270 | 1.25 | 2013 | 1 | 2 | Sunday    | NA      | NA       | NA | NA |\n",
       "\n"
      ],
      "text/plain": [
       "  date       state_id store_id dept_id cat_id item_id     wm_yr_wk d     ventas\n",
       "1 2013-01-01 CA       CA_3     FOODS_3 FOODS  FOODS_3_090 11249    d_704   0   \n",
       "2 2013-01-02 CA       CA_3     FOODS_3 FOODS  FOODS_3_090 11249    d_705 224   \n",
       "3 2013-01-03 CA       CA_3     FOODS_3 FOODS  FOODS_3_090 11249    d_706 241   \n",
       "4 2013-01-04 CA       CA_3     FOODS_3 FOODS  FOODS_3_090 11249    d_707 232   \n",
       "5 2013-01-05 CA       CA_3     FOODS_3 FOODS  FOODS_3_090 11250    d_708 301   \n",
       "6 2013-01-06 CA       CA_3     FOODS_3 FOODS  FOODS_3_090 11250    d_709 270   \n",
       "  sell_price year month wday weekday   event_name_1 event_type_1 event_name_2\n",
       "1 1.25       2013 1     4    Tuesday   NewYear      National     NA          \n",
       "2 1.25       2013 1     5    Wednesday NA           NA           NA          \n",
       "3 1.25       2013 1     6    Thursday  NA           NA           NA          \n",
       "4 1.25       2013 1     7    Friday    NA           NA           NA          \n",
       "5 1.25       2013 1     1    Saturday  NA           NA           NA          \n",
       "6 1.25       2013 1     2    Sunday    NA           NA           NA          \n",
       "  event_type_2\n",
       "1 NA          \n",
       "2 NA          \n",
       "3 NA          \n",
       "4 NA          \n",
       "5 NA          \n",
       "6 NA          "
      ]
     },
     "metadata": {},
     "output_type": "display_data"
    }
   ],
   "source": [
    "df %>% head()"
   ]
  },
  {
   "cell_type": "markdown",
   "id": "4c67f607-067f-44c9-a1d6-e69503a9ad6d",
   "metadata": {},
   "source": [
    "Vamos a establecer la columna date, como datetime."
   ]
  },
  {
   "cell_type": "code",
   "execution_count": 106,
   "id": "ed24598f-de6c-41ab-a6cc-51c71aff5120",
   "metadata": {},
   "outputs": [],
   "source": [
    "df$date = ymd(df$date)"
   ]
  },
  {
   "cell_type": "markdown",
   "id": "2d4105d2-572e-4b4e-b239-78afa24fa54b",
   "metadata": {},
   "source": [
    "Vamos a separar este dataframe en datos con los cuales trabajaremos y los últimos registros para la validación del forecasting. Vamos a coger para datos de validación los desde noviembre de 2015."
   ]
  },
  {
   "cell_type": "markdown",
   "id": "32fa3ff9-b4b8-4322-a2f7-5a075a15cf9c",
   "metadata": {},
   "source": [
    "Comprobamos las dimensiones del dataframe antes de la división."
   ]
  },
  {
   "cell_type": "code",
   "execution_count": 107,
   "id": "48753576-cf5a-4249-a799-a61e37fb8fe6",
   "metadata": {},
   "outputs": [
    {
     "data": {
      "text/html": [
       "<style>\n",
       ".list-inline {list-style: none; margin:0; padding: 0}\n",
       ".list-inline>li {display: inline-block}\n",
       ".list-inline>li:not(:last-child)::after {content: \"\\00b7\"; padding: 0 .5ex}\n",
       "</style>\n",
       "<ol class=list-inline><li>21900</li><li>18</li></ol>\n"
      ],
      "text/latex": [
       "\\begin{enumerate*}\n",
       "\\item 21900\n",
       "\\item 18\n",
       "\\end{enumerate*}\n"
      ],
      "text/markdown": [
       "1. 21900\n",
       "2. 18\n",
       "\n",
       "\n"
      ],
      "text/plain": [
       "[1] 21900    18"
      ]
     },
     "metadata": {},
     "output_type": "display_data"
    }
   ],
   "source": [
    "dim(df)"
   ]
  },
  {
   "cell_type": "code",
   "execution_count": 108,
   "id": "9f2687ba-c644-4a6d-97ec-0aaf91cd2822",
   "metadata": {},
   "outputs": [],
   "source": [
    "fecha_division = as.Date('2015-11-01')"
   ]
  },
  {
   "cell_type": "code",
   "execution_count": 109,
   "id": "6b282883-91c8-4343-a718-46dd8fbf1aa4",
   "metadata": {},
   "outputs": [],
   "source": [
    "val = df[df$date >= fecha_division, ] \n",
    "df = df[df$date < fecha_division, ]"
   ]
  },
  {
   "cell_type": "markdown",
   "id": "44633f0c-0579-4265-9ece-30c214c36cc2",
   "metadata": {},
   "source": [
    "Y después:"
   ]
  },
  {
   "cell_type": "code",
   "execution_count": 112,
   "id": "d770ee7e-5e27-45c1-8b09-6ba76febb81b",
   "metadata": {},
   "outputs": [
    {
     "data": {
      "text/html": [
       "<style>\n",
       ".list-inline {list-style: none; margin:0; padding: 0}\n",
       ".list-inline>li {display: inline-block}\n",
       ".list-inline>li:not(:last-child)::after {content: \"\\00b7\"; padding: 0 .5ex}\n",
       "</style>\n",
       "<ol class=list-inline><li>20680</li><li>18</li></ol>\n"
      ],
      "text/latex": [
       "\\begin{enumerate*}\n",
       "\\item 20680\n",
       "\\item 18\n",
       "\\end{enumerate*}\n"
      ],
      "text/markdown": [
       "1. 20680\n",
       "2. 18\n",
       "\n",
       "\n"
      ],
      "text/plain": [
       "[1] 20680    18"
      ]
     },
     "metadata": {},
     "output_type": "display_data"
    }
   ],
   "source": [
    "dim(df)"
   ]
  },
  {
   "cell_type": "code",
   "execution_count": 113,
   "id": "5af1663c-3214-4d6a-bf58-5bc7e753e72e",
   "metadata": {},
   "outputs": [
    {
     "data": {
      "text/html": [
       "<style>\n",
       ".list-inline {list-style: none; margin:0; padding: 0}\n",
       ".list-inline>li {display: inline-block}\n",
       ".list-inline>li:not(:last-child)::after {content: \"\\00b7\"; padding: 0 .5ex}\n",
       "</style>\n",
       "<ol class=list-inline><li>1220</li><li>18</li></ol>\n"
      ],
      "text/latex": [
       "\\begin{enumerate*}\n",
       "\\item 1220\n",
       "\\item 18\n",
       "\\end{enumerate*}\n"
      ],
      "text/markdown": [
       "1. 1220\n",
       "2. 18\n",
       "\n",
       "\n"
      ],
      "text/plain": [
       "[1] 1220   18"
      ]
     },
     "metadata": {},
     "output_type": "display_data"
    }
   ],
   "source": [
    "dim(val)"
   ]
  },
  {
   "cell_type": "markdown",
   "id": "d670aae9-8b37-459e-a8ab-4a4b5ed6d939",
   "metadata": {},
   "source": [
    "Guardamos los dos datasets, de trabajo y validación, en formato .rds."
   ]
  },
  {
   "cell_type": "code",
   "execution_count": 115,
   "id": "89e839f7-5b8b-4546-9ee1-c42fc5e4fccb",
   "metadata": {},
   "outputs": [],
   "source": [
    "saveRDS(df, file = \"../022_Variables/df.rds\")\n",
    "saveRDS(val, file = \"../022_Variables/val.rds\")"
   ]
  }
 ],
 "metadata": {
  "kernelspec": {
   "display_name": "sales_forecasting",
   "language": "R",
   "name": "ir"
  },
  "language_info": {
   "codemirror_mode": "r",
   "file_extension": ".r",
   "mimetype": "text/x-r-source",
   "name": "R",
   "pygments_lexer": "r",
   "version": "4.3.3"
  }
 },
 "nbformat": 4,
 "nbformat_minor": 5
}
