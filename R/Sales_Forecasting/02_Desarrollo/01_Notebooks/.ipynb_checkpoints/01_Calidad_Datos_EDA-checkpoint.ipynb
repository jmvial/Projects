{
 "cells": [
  {
   "cell_type": "code",
   "execution_count": 1,
   "id": "02853372-e1aa-4528-b25e-2a826e0728f3",
   "metadata": {},
   "outputs": [
    {
     "name": "stderr",
     "output_type": "stream",
     "text": [
      "\n",
      "Attaching package: 'dplyr'\n",
      "\n",
      "\n",
      "The following objects are masked from 'package:stats':\n",
      "\n",
      "    filter, lag\n",
      "\n",
      "\n",
      "The following objects are masked from 'package:base':\n",
      "\n",
      "    intersect, setdiff, setequal, union\n",
      "\n",
      "\n",
      "\n",
      "Attaching package: 'lubridate'\n",
      "\n",
      "\n",
      "The following objects are masked from 'package:base':\n",
      "\n",
      "    date, intersect, setdiff, union\n",
      "\n",
      "\n",
      "\n",
      "Attaching package: 'tidyr'\n",
      "\n",
      "\n",
      "The following object is masked from 'package:magrittr':\n",
      "\n",
      "    extract\n",
      "\n",
      "\n"
     ]
    }
   ],
   "source": [
    "library('magrittr')\n",
    "library('dplyr')\n",
    "library('lubridate')\n",
    "library('tidyr')\n",
    "library('ggplot2')"
   ]
  },
  {
   "cell_type": "markdown",
   "id": "610b92c8-18ad-4acd-b932-60c4c0298d2a",
   "metadata": {},
   "source": [
    "Recuperamos el archivo de trabajo en .rds."
   ]
  },
  {
   "cell_type": "code",
   "execution_count": 2,
   "id": "e500d724-2c8c-451d-b756-0263456d0c20",
   "metadata": {},
   "outputs": [],
   "source": [
    "df = readRDS('../022_Variables/df.rds')"
   ]
  },
  {
   "cell_type": "code",
   "execution_count": 3,
   "id": "e0a79191-e3f1-4083-92b5-c4c00e942adf",
   "metadata": {},
   "outputs": [
    {
     "data": {
      "text/html": [
       "<table class=\"dataframe\">\n",
       "<caption>A tibble: 6 × 18</caption>\n",
       "<thead>\n",
       "\t<tr><th scope=col>date</th><th scope=col>state_id</th><th scope=col>store_id</th><th scope=col>dept_id</th><th scope=col>cat_id</th><th scope=col>item_id</th><th scope=col>wm_yr_wk</th><th scope=col>d</th><th scope=col>ventas</th><th scope=col>sell_price</th><th scope=col>year</th><th scope=col>month</th><th scope=col>wday</th><th scope=col>weekday</th><th scope=col>event_name_1</th><th scope=col>event_type_1</th><th scope=col>event_name_2</th><th scope=col>event_type_2</th></tr>\n",
       "\t<tr><th scope=col>&lt;date&gt;</th><th scope=col>&lt;chr&gt;</th><th scope=col>&lt;chr&gt;</th><th scope=col>&lt;chr&gt;</th><th scope=col>&lt;chr&gt;</th><th scope=col>&lt;chr&gt;</th><th scope=col>&lt;int&gt;</th><th scope=col>&lt;chr&gt;</th><th scope=col>&lt;int&gt;</th><th scope=col>&lt;dbl&gt;</th><th scope=col>&lt;int&gt;</th><th scope=col>&lt;int&gt;</th><th scope=col>&lt;int&gt;</th><th scope=col>&lt;chr&gt;</th><th scope=col>&lt;chr&gt;</th><th scope=col>&lt;chr&gt;</th><th scope=col>&lt;chr&gt;</th><th scope=col>&lt;chr&gt;</th></tr>\n",
       "</thead>\n",
       "<tbody>\n",
       "\t<tr><td>2013-01-01</td><td>CA</td><td>CA_3</td><td>FOODS_3</td><td>FOODS</td><td>FOODS_3_090</td><td>11249</td><td>d_704</td><td>  0</td><td>1.25</td><td>2013</td><td>1</td><td>4</td><td>Tuesday  </td><td>NewYear</td><td>National</td><td>NA</td><td>NA</td></tr>\n",
       "\t<tr><td>2013-01-02</td><td>CA</td><td>CA_3</td><td>FOODS_3</td><td>FOODS</td><td>FOODS_3_090</td><td>11249</td><td>d_705</td><td>224</td><td>1.25</td><td>2013</td><td>1</td><td>5</td><td>Wednesday</td><td>NA     </td><td>NA      </td><td>NA</td><td>NA</td></tr>\n",
       "\t<tr><td>2013-01-03</td><td>CA</td><td>CA_3</td><td>FOODS_3</td><td>FOODS</td><td>FOODS_3_090</td><td>11249</td><td>d_706</td><td>241</td><td>1.25</td><td>2013</td><td>1</td><td>6</td><td>Thursday </td><td>NA     </td><td>NA      </td><td>NA</td><td>NA</td></tr>\n",
       "\t<tr><td>2013-01-04</td><td>CA</td><td>CA_3</td><td>FOODS_3</td><td>FOODS</td><td>FOODS_3_090</td><td>11249</td><td>d_707</td><td>232</td><td>1.25</td><td>2013</td><td>1</td><td>7</td><td>Friday   </td><td>NA     </td><td>NA      </td><td>NA</td><td>NA</td></tr>\n",
       "\t<tr><td>2013-01-05</td><td>CA</td><td>CA_3</td><td>FOODS_3</td><td>FOODS</td><td>FOODS_3_090</td><td>11250</td><td>d_708</td><td>301</td><td>1.25</td><td>2013</td><td>1</td><td>1</td><td>Saturday </td><td>NA     </td><td>NA      </td><td>NA</td><td>NA</td></tr>\n",
       "\t<tr><td>2013-01-06</td><td>CA</td><td>CA_3</td><td>FOODS_3</td><td>FOODS</td><td>FOODS_3_090</td><td>11250</td><td>d_709</td><td>270</td><td>1.25</td><td>2013</td><td>1</td><td>2</td><td>Sunday   </td><td>NA     </td><td>NA      </td><td>NA</td><td>NA</td></tr>\n",
       "</tbody>\n",
       "</table>\n"
      ],
      "text/latex": [
       "A tibble: 6 × 18\n",
       "\\begin{tabular}{llllllllllllllllll}\n",
       " date & state\\_id & store\\_id & dept\\_id & cat\\_id & item\\_id & wm\\_yr\\_wk & d & ventas & sell\\_price & year & month & wday & weekday & event\\_name\\_1 & event\\_type\\_1 & event\\_name\\_2 & event\\_type\\_2\\\\\n",
       " <date> & <chr> & <chr> & <chr> & <chr> & <chr> & <int> & <chr> & <int> & <dbl> & <int> & <int> & <int> & <chr> & <chr> & <chr> & <chr> & <chr>\\\\\n",
       "\\hline\n",
       "\t 2013-01-01 & CA & CA\\_3 & FOODS\\_3 & FOODS & FOODS\\_3\\_090 & 11249 & d\\_704 &   0 & 1.25 & 2013 & 1 & 4 & Tuesday   & NewYear & National & NA & NA\\\\\n",
       "\t 2013-01-02 & CA & CA\\_3 & FOODS\\_3 & FOODS & FOODS\\_3\\_090 & 11249 & d\\_705 & 224 & 1.25 & 2013 & 1 & 5 & Wednesday & NA      & NA       & NA & NA\\\\\n",
       "\t 2013-01-03 & CA & CA\\_3 & FOODS\\_3 & FOODS & FOODS\\_3\\_090 & 11249 & d\\_706 & 241 & 1.25 & 2013 & 1 & 6 & Thursday  & NA      & NA       & NA & NA\\\\\n",
       "\t 2013-01-04 & CA & CA\\_3 & FOODS\\_3 & FOODS & FOODS\\_3\\_090 & 11249 & d\\_707 & 232 & 1.25 & 2013 & 1 & 7 & Friday    & NA      & NA       & NA & NA\\\\\n",
       "\t 2013-01-05 & CA & CA\\_3 & FOODS\\_3 & FOODS & FOODS\\_3\\_090 & 11250 & d\\_708 & 301 & 1.25 & 2013 & 1 & 1 & Saturday  & NA      & NA       & NA & NA\\\\\n",
       "\t 2013-01-06 & CA & CA\\_3 & FOODS\\_3 & FOODS & FOODS\\_3\\_090 & 11250 & d\\_709 & 270 & 1.25 & 2013 & 1 & 2 & Sunday    & NA      & NA       & NA & NA\\\\\n",
       "\\end{tabular}\n"
      ],
      "text/markdown": [
       "\n",
       "A tibble: 6 × 18\n",
       "\n",
       "| date &lt;date&gt; | state_id &lt;chr&gt; | store_id &lt;chr&gt; | dept_id &lt;chr&gt; | cat_id &lt;chr&gt; | item_id &lt;chr&gt; | wm_yr_wk &lt;int&gt; | d &lt;chr&gt; | ventas &lt;int&gt; | sell_price &lt;dbl&gt; | year &lt;int&gt; | month &lt;int&gt; | wday &lt;int&gt; | weekday &lt;chr&gt; | event_name_1 &lt;chr&gt; | event_type_1 &lt;chr&gt; | event_name_2 &lt;chr&gt; | event_type_2 &lt;chr&gt; |\n",
       "|---|---|---|---|---|---|---|---|---|---|---|---|---|---|---|---|---|---|\n",
       "| 2013-01-01 | CA | CA_3 | FOODS_3 | FOODS | FOODS_3_090 | 11249 | d_704 |   0 | 1.25 | 2013 | 1 | 4 | Tuesday   | NewYear | National | NA | NA |\n",
       "| 2013-01-02 | CA | CA_3 | FOODS_3 | FOODS | FOODS_3_090 | 11249 | d_705 | 224 | 1.25 | 2013 | 1 | 5 | Wednesday | NA      | NA       | NA | NA |\n",
       "| 2013-01-03 | CA | CA_3 | FOODS_3 | FOODS | FOODS_3_090 | 11249 | d_706 | 241 | 1.25 | 2013 | 1 | 6 | Thursday  | NA      | NA       | NA | NA |\n",
       "| 2013-01-04 | CA | CA_3 | FOODS_3 | FOODS | FOODS_3_090 | 11249 | d_707 | 232 | 1.25 | 2013 | 1 | 7 | Friday    | NA      | NA       | NA | NA |\n",
       "| 2013-01-05 | CA | CA_3 | FOODS_3 | FOODS | FOODS_3_090 | 11250 | d_708 | 301 | 1.25 | 2013 | 1 | 1 | Saturday  | NA      | NA       | NA | NA |\n",
       "| 2013-01-06 | CA | CA_3 | FOODS_3 | FOODS | FOODS_3_090 | 11250 | d_709 | 270 | 1.25 | 2013 | 1 | 2 | Sunday    | NA      | NA       | NA | NA |\n",
       "\n"
      ],
      "text/plain": [
       "  date       state_id store_id dept_id cat_id item_id     wm_yr_wk d     ventas\n",
       "1 2013-01-01 CA       CA_3     FOODS_3 FOODS  FOODS_3_090 11249    d_704   0   \n",
       "2 2013-01-02 CA       CA_3     FOODS_3 FOODS  FOODS_3_090 11249    d_705 224   \n",
       "3 2013-01-03 CA       CA_3     FOODS_3 FOODS  FOODS_3_090 11249    d_706 241   \n",
       "4 2013-01-04 CA       CA_3     FOODS_3 FOODS  FOODS_3_090 11249    d_707 232   \n",
       "5 2013-01-05 CA       CA_3     FOODS_3 FOODS  FOODS_3_090 11250    d_708 301   \n",
       "6 2013-01-06 CA       CA_3     FOODS_3 FOODS  FOODS_3_090 11250    d_709 270   \n",
       "  sell_price year month wday weekday   event_name_1 event_type_1 event_name_2\n",
       "1 1.25       2013 1     4    Tuesday   NewYear      National     NA          \n",
       "2 1.25       2013 1     5    Wednesday NA           NA           NA          \n",
       "3 1.25       2013 1     6    Thursday  NA           NA           NA          \n",
       "4 1.25       2013 1     7    Friday    NA           NA           NA          \n",
       "5 1.25       2013 1     1    Saturday  NA           NA           NA          \n",
       "6 1.25       2013 1     2    Sunday    NA           NA           NA          \n",
       "  event_type_2\n",
       "1 NA          \n",
       "2 NA          \n",
       "3 NA          \n",
       "4 NA          \n",
       "5 NA          \n",
       "6 NA          "
      ]
     },
     "metadata": {},
     "output_type": "display_data"
    }
   ],
   "source": [
    "df %>% head()"
   ]
  },
  {
   "cell_type": "markdown",
   "id": "c7ea8088-760e-4300-835d-632a3b4c965c",
   "metadata": {},
   "source": [
    "Visualizamos información y tipos de variables."
   ]
  },
  {
   "cell_type": "code",
   "execution_count": 4,
   "id": "7160cf4c-3412-4f55-b268-503ffdaf33f7",
   "metadata": {},
   "outputs": [
    {
     "name": "stdout",
     "output_type": "stream",
     "text": [
      "tibble [20,680 × 18] (S3: tbl_df/tbl/data.frame)\n",
      " $ date        : Date[1:20680], format: \"2013-01-01\" \"2013-01-02\" ...\n",
      " $ state_id    : chr [1:20680] \"CA\" \"CA\" \"CA\" \"CA\" ...\n",
      " $ store_id    : chr [1:20680] \"CA_3\" \"CA_3\" \"CA_3\" \"CA_3\" ...\n",
      " $ dept_id     : chr [1:20680] \"FOODS_3\" \"FOODS_3\" \"FOODS_3\" \"FOODS_3\" ...\n",
      " $ cat_id      : chr [1:20680] \"FOODS\" \"FOODS\" \"FOODS\" \"FOODS\" ...\n",
      " $ item_id     : chr [1:20680] \"FOODS_3_090\" \"FOODS_3_090\" \"FOODS_3_090\" \"FOODS_3_090\" ...\n",
      " $ wm_yr_wk    : int [1:20680] 11249 11249 11249 11249 11250 11250 11250 11250 11250 11250 ...\n",
      " $ d           : chr [1:20680] \"d_704\" \"d_705\" \"d_706\" \"d_707\" ...\n",
      " $ ventas      : int [1:20680] 0 224 241 232 301 270 188 215 197 245 ...\n",
      " $ sell_price  : num [1:20680] 1.25 1.25 1.25 1.25 1.25 1.25 1.25 1.25 1.25 1.25 ...\n",
      " $ year        : int [1:20680] 2013 2013 2013 2013 2013 2013 2013 2013 2013 2013 ...\n",
      " $ month       : int [1:20680] 1 1 1 1 1 1 1 1 1 1 ...\n",
      " $ wday        : int [1:20680] 4 5 6 7 1 2 3 4 5 6 ...\n",
      " $ weekday     : chr [1:20680] \"Tuesday\" \"Wednesday\" \"Thursday\" \"Friday\" ...\n",
      " $ event_name_1: chr [1:20680] \"NewYear\" NA NA NA ...\n",
      " $ event_type_1: chr [1:20680] \"National\" NA NA NA ...\n",
      " $ event_name_2: chr [1:20680] NA NA NA NA ...\n",
      " $ event_type_2: chr [1:20680] NA NA NA NA ...\n"
     ]
    }
   ],
   "source": [
    "str(df)"
   ]
  },
  {
   "cell_type": "markdown",
   "id": "b1647ae5-c493-4492-8601-e0be4e2cb144",
   "metadata": {},
   "source": [
    "Ponemos year, month y wday como variables de tipo chr."
   ]
  },
  {
   "cell_type": "code",
   "execution_count": 5,
   "id": "9f5eabfa-3e3d-4352-9ac3-f5c653069d06",
   "metadata": {},
   "outputs": [],
   "source": [
    "df = df %>% mutate(across(c(year, month, wday), as.character))"
   ]
  },
  {
   "cell_type": "markdown",
   "id": "363fef89-a629-40c4-b076-7e766d44e12e",
   "metadata": {},
   "source": [
    "Comprobamos:"
   ]
  },
  {
   "cell_type": "code",
   "execution_count": 6,
   "id": "e8c8c49e-da05-4117-8ac8-6d433cf4b58e",
   "metadata": {},
   "outputs": [
    {
     "name": "stdout",
     "output_type": "stream",
     "text": [
      "tibble [20,680 × 18] (S3: tbl_df/tbl/data.frame)\n",
      " $ date        : Date[1:20680], format: \"2013-01-01\" \"2013-01-02\" ...\n",
      " $ state_id    : chr [1:20680] \"CA\" \"CA\" \"CA\" \"CA\" ...\n",
      " $ store_id    : chr [1:20680] \"CA_3\" \"CA_3\" \"CA_3\" \"CA_3\" ...\n",
      " $ dept_id     : chr [1:20680] \"FOODS_3\" \"FOODS_3\" \"FOODS_3\" \"FOODS_3\" ...\n",
      " $ cat_id      : chr [1:20680] \"FOODS\" \"FOODS\" \"FOODS\" \"FOODS\" ...\n",
      " $ item_id     : chr [1:20680] \"FOODS_3_090\" \"FOODS_3_090\" \"FOODS_3_090\" \"FOODS_3_090\" ...\n",
      " $ wm_yr_wk    : int [1:20680] 11249 11249 11249 11249 11250 11250 11250 11250 11250 11250 ...\n",
      " $ d           : chr [1:20680] \"d_704\" \"d_705\" \"d_706\" \"d_707\" ...\n",
      " $ ventas      : int [1:20680] 0 224 241 232 301 270 188 215 197 245 ...\n",
      " $ sell_price  : num [1:20680] 1.25 1.25 1.25 1.25 1.25 1.25 1.25 1.25 1.25 1.25 ...\n",
      " $ year        : chr [1:20680] \"2013\" \"2013\" \"2013\" \"2013\" ...\n",
      " $ month       : chr [1:20680] \"1\" \"1\" \"1\" \"1\" ...\n",
      " $ wday        : chr [1:20680] \"4\" \"5\" \"6\" \"7\" ...\n",
      " $ weekday     : chr [1:20680] \"Tuesday\" \"Wednesday\" \"Thursday\" \"Friday\" ...\n",
      " $ event_name_1: chr [1:20680] \"NewYear\" NA NA NA ...\n",
      " $ event_type_1: chr [1:20680] \"National\" NA NA NA ...\n",
      " $ event_name_2: chr [1:20680] NA NA NA NA ...\n",
      " $ event_type_2: chr [1:20680] NA NA NA NA ...\n"
     ]
    }
   ],
   "source": [
    "str(df)"
   ]
  },
  {
   "cell_type": "markdown",
   "id": "2224b2e2-e572-4ba1-9db7-4f9a7be1d670",
   "metadata": {},
   "source": [
    "Vemos sí existen valores únicos que no aporten como variables:"
   ]
  },
  {
   "cell_type": "code",
   "execution_count": 7,
   "id": "4aac5e52-76db-4468-8d02-935227811956",
   "metadata": {},
   "outputs": [
    {
     "data": {
      "text/html": [
       "<style>\n",
       ".dl-inline {width: auto; margin:0; padding: 0}\n",
       ".dl-inline>dt, .dl-inline>dd {float: none; width: auto; display: inline-block}\n",
       ".dl-inline>dt::after {content: \":\\0020\"; padding-right: .5ex}\n",
       ".dl-inline>dt:not(:first-of-type) {padding-left: .5ex}\n",
       "</style><dl class=dl-inline><dt>state_id</dt><dd>1</dd><dt>dept_id</dt><dd>1</dd><dt>cat_id</dt><dd>1</dd><dt>store_id</dt><dd>2</dd><dt>year</dt><dd>3</dd><dt>event_type_2</dt><dd>3</dd><dt>event_name_2</dt><dd>4</dd><dt>event_type_1</dt><dd>5</dd><dt>wday</dt><dd>7</dd><dt>weekday</dt><dd>7</dd><dt>item_id</dt><dd>10</dd><dt>month</dt><dd>12</dd><dt>sell_price</dt><dd>24</dd><dt>event_name_1</dt><dd>31</dd><dt>wm_yr_wk</dt><dd>149</dd><dt>ventas</dt><dd>300</dd><dt>date</dt><dd>1034</dd><dt>d</dt><dd>1034</dd></dl>\n"
      ],
      "text/latex": [
       "\\begin{description*}\n",
       "\\item[state\\textbackslash{}\\_id] 1\n",
       "\\item[dept\\textbackslash{}\\_id] 1\n",
       "\\item[cat\\textbackslash{}\\_id] 1\n",
       "\\item[store\\textbackslash{}\\_id] 2\n",
       "\\item[year] 3\n",
       "\\item[event\\textbackslash{}\\_type\\textbackslash{}\\_2] 3\n",
       "\\item[event\\textbackslash{}\\_name\\textbackslash{}\\_2] 4\n",
       "\\item[event\\textbackslash{}\\_type\\textbackslash{}\\_1] 5\n",
       "\\item[wday] 7\n",
       "\\item[weekday] 7\n",
       "\\item[item\\textbackslash{}\\_id] 10\n",
       "\\item[month] 12\n",
       "\\item[sell\\textbackslash{}\\_price] 24\n",
       "\\item[event\\textbackslash{}\\_name\\textbackslash{}\\_1] 31\n",
       "\\item[wm\\textbackslash{}\\_yr\\textbackslash{}\\_wk] 149\n",
       "\\item[ventas] 300\n",
       "\\item[date] 1034\n",
       "\\item[d] 1034\n",
       "\\end{description*}\n"
      ],
      "text/markdown": [
       "state_id\n",
       ":   1dept_id\n",
       ":   1cat_id\n",
       ":   1store_id\n",
       ":   2year\n",
       ":   3event_type_2\n",
       ":   3event_name_2\n",
       ":   4event_type_1\n",
       ":   5wday\n",
       ":   7weekday\n",
       ":   7item_id\n",
       ":   10month\n",
       ":   12sell_price\n",
       ":   24event_name_1\n",
       ":   31wm_yr_wk\n",
       ":   149ventas\n",
       ":   300date\n",
       ":   1034d\n",
       ":   1034\n",
       "\n"
      ],
      "text/plain": [
       "    state_id      dept_id       cat_id     store_id         year event_type_2 \n",
       "           1            1            1            2            3            3 \n",
       "event_name_2 event_type_1         wday      weekday      item_id        month \n",
       "           4            5            7            7           10           12 \n",
       "  sell_price event_name_1     wm_yr_wk       ventas         date            d \n",
       "          24           31          149          300         1034         1034 "
      ]
     },
     "metadata": {},
     "output_type": "display_data"
    }
   ],
   "source": [
    "sapply(df, n_distinct) %>% sort()"
   ]
  },
  {
   "cell_type": "markdown",
   "id": "5e309542-10c9-444d-ab32-ac245cd7c57f",
   "metadata": {},
   "source": [
    "Vemos que hay valores únicos en las variables state_id, dept_id y cat_id, por tanto las eliminamos."
   ]
  },
  {
   "cell_type": "code",
   "execution_count": 8,
   "id": "81b6d7fc-179f-4f71-af46-88a4b8cb8b88",
   "metadata": {},
   "outputs": [],
   "source": [
    "df = df %>% select(-state_id, -cat_id, -dept_id)"
   ]
  },
  {
   "cell_type": "markdown",
   "id": "73168833-65f1-47b1-8257-2ed27f8f4bb9",
   "metadata": {},
   "source": [
    "Comprobamos sí existen duplicados:"
   ]
  },
  {
   "cell_type": "code",
   "execution_count": 9,
   "id": "c3fe18d7-220a-463f-a594-b618f68d3db2",
   "metadata": {},
   "outputs": [
    {
     "data": {
      "text/html": [
       "0"
      ],
      "text/latex": [
       "0"
      ],
      "text/markdown": [
       "0"
      ],
      "text/plain": [
       "[1] 0"
      ]
     },
     "metadata": {},
     "output_type": "display_data"
    }
   ],
   "source": [
    "sum(duplicated(df))"
   ]
  },
  {
   "cell_type": "markdown",
   "id": "5a4f421b-114f-456d-a1b6-a1946983d12f",
   "metadata": {},
   "source": [
    "A partir de ahora, separaremos el dataset (df), en variables categóricas y numéricas para procesarlas mejor por separado."
   ]
  },
  {
   "cell_type": "code",
   "execution_count": 10,
   "id": "a52531f3-e5d8-4892-98ef-1c125503998c",
   "metadata": {},
   "outputs": [],
   "source": [
    "num = df %>% select(where(is.numeric))\n",
    "cat = df %>% select_if(~ !is.numeric(.))"
   ]
  },
  {
   "cell_type": "markdown",
   "id": "5fce9251-f1d3-40fa-a727-387f6b5fb410",
   "metadata": {},
   "source": [
    "## Categóricas"
   ]
  },
  {
   "cell_type": "markdown",
   "id": "e1428b13-7c94-4223-90cc-f921510b2b6c",
   "metadata": {},
   "source": [
    "Verificamos los valores nulos de cat:"
   ]
  },
  {
   "cell_type": "code",
   "execution_count": 11,
   "id": "0bf80d68-f2c9-484e-841a-091c8bfd20e4",
   "metadata": {},
   "outputs": [
    {
     "data": {
      "text/html": [
       "<style>\n",
       ".dl-inline {width: auto; margin:0; padding: 0}\n",
       ".dl-inline>dt, .dl-inline>dd {float: none; width: auto; display: inline-block}\n",
       ".dl-inline>dt::after {content: \":\\0020\"; padding-right: .5ex}\n",
       ".dl-inline>dt:not(:first-of-type) {padding-left: .5ex}\n",
       "</style><dl class=dl-inline><dt>event_name_2</dt><dd>20620</dd><dt>event_type_2</dt><dd>20620</dd><dt>event_name_1</dt><dd>19020</dd><dt>event_type_1</dt><dd>19020</dd><dt>date</dt><dd>0</dd><dt>store_id</dt><dd>0</dd><dt>item_id</dt><dd>0</dd><dt>d</dt><dd>0</dd><dt>year</dt><dd>0</dd><dt>month</dt><dd>0</dd><dt>wday</dt><dd>0</dd><dt>weekday</dt><dd>0</dd></dl>\n"
      ],
      "text/latex": [
       "\\begin{description*}\n",
       "\\item[event\\textbackslash{}\\_name\\textbackslash{}\\_2] 20620\n",
       "\\item[event\\textbackslash{}\\_type\\textbackslash{}\\_2] 20620\n",
       "\\item[event\\textbackslash{}\\_name\\textbackslash{}\\_1] 19020\n",
       "\\item[event\\textbackslash{}\\_type\\textbackslash{}\\_1] 19020\n",
       "\\item[date] 0\n",
       "\\item[store\\textbackslash{}\\_id] 0\n",
       "\\item[item\\textbackslash{}\\_id] 0\n",
       "\\item[d] 0\n",
       "\\item[year] 0\n",
       "\\item[month] 0\n",
       "\\item[wday] 0\n",
       "\\item[weekday] 0\n",
       "\\end{description*}\n"
      ],
      "text/markdown": [
       "event_name_2\n",
       ":   20620event_type_2\n",
       ":   20620event_name_1\n",
       ":   19020event_type_1\n",
       ":   19020date\n",
       ":   0store_id\n",
       ":   0item_id\n",
       ":   0d\n",
       ":   0year\n",
       ":   0month\n",
       ":   0wday\n",
       ":   0weekday\n",
       ":   0\n",
       "\n"
      ],
      "text/plain": [
       "event_name_2 event_type_2 event_name_1 event_type_1         date     store_id \n",
       "       20620        20620        19020        19020            0            0 \n",
       "     item_id            d         year        month         wday      weekday \n",
       "           0            0            0            0            0            0 "
      ]
     },
     "metadata": {},
     "output_type": "display_data"
    }
   ],
   "source": [
    "sort(colSums(is.na(cat)), decreasing = TRUE)"
   ]
  },
  {
   "cell_type": "markdown",
   "id": "cafa7e8f-6a61-49db-949e-4e64f72191b2",
   "metadata": {},
   "source": [
    "Comprobamos las variables donde han aparecido valores nulos:"
   ]
  },
  {
   "cell_type": "code",
   "execution_count": 12,
   "id": "c26f79bf-66e7-46f8-894f-1002856af8bf",
   "metadata": {},
   "outputs": [
    {
     "data": {
      "text/plain": [
       "\n",
       "       Chanukah End           Christmas       Cinco De Mayo         ColumbusDay \n",
       "                 40                  40                  40                  60 \n",
       "             Easter         Eid al-Fitr           EidAlAdha        Father's day \n",
       "                 60                  60                  60                  40 \n",
       "          Halloween     IndependenceDay            LaborDay           LentStart \n",
       "                 60                  60                  60                  60 \n",
       "          LentWeek2 MartinLutherKingDay         MemorialDay        Mother's day \n",
       "                 60                  60                  60                  60 \n",
       "       NBAFinalsEnd      NBAFinalsStart             NewYear   OrthodoxChristmas \n",
       "                 60                  60                  60                  60 \n",
       "     OrthodoxEaster          Pesach End       PresidentsDay           Purim End \n",
       "                 40                  60                  60                  60 \n",
       "     Ramadan starts       StPatricksDay           SuperBowl        Thanksgiving \n",
       "                 60                  60                  60                  40 \n",
       "      ValentinesDay         VeteransDay                <NA> \n",
       "                 60                  40               19020 "
      ]
     },
     "metadata": {},
     "output_type": "display_data"
    }
   ],
   "source": [
    "table(cat$event_name_1, useNA = \"always\")"
   ]
  },
  {
   "cell_type": "code",
   "execution_count": 13,
   "id": "f576e684-d91e-44f5-a708-e9f09efa5b07",
   "metadata": {},
   "outputs": [
    {
     "data": {
      "text/plain": [
       "\n",
       " Cultural  National Religious  Sporting      <NA> \n",
       "      380       540       560       180     19020 "
      ]
     },
     "metadata": {},
     "output_type": "display_data"
    }
   ],
   "source": [
    "table(cat$event_type_1, useNA = \"always\")"
   ]
  },
  {
   "cell_type": "code",
   "execution_count": 14,
   "id": "d40d0d43-767b-472e-8d6e-38cc1252f440",
   "metadata": {},
   "outputs": [
    {
     "data": {
      "text/plain": [
       "\n",
       " Cinco De Mayo   Father's day OrthodoxEaster           <NA> \n",
       "            20             20             20          20620 "
      ]
     },
     "metadata": {},
     "output_type": "display_data"
    }
   ],
   "source": [
    "table(cat$event_name_2, useNA = \"always\")"
   ]
  },
  {
   "cell_type": "code",
   "execution_count": 15,
   "id": "44392752-4ae1-4358-9da6-d7b3d97daddd",
   "metadata": {},
   "outputs": [
    {
     "data": {
      "text/plain": [
       "\n",
       " Cultural Religious      <NA> \n",
       "       40        20     20620 "
      ]
     },
     "metadata": {},
     "output_type": "display_data"
    }
   ],
   "source": [
    "table(cat$event_type_2, useNA = \"always\")"
   ]
  },
  {
   "cell_type": "markdown",
   "id": "f719bd8f-1996-4a72-94bc-987869268561",
   "metadata": {},
   "source": [
    "Vemos que la información que aparece en 2, es redundante e incompleta con respecto a 1 que ya la incluye, y además más adicional sobre otros eventos."
   ]
  },
  {
   "cell_type": "markdown",
   "id": "9cf47ebf-cde4-4fc3-b35f-baeba7125139",
   "metadata": {},
   "source": [
    "Vamos a comprobar sí hay alguna relación coherente con tabla cruzada."
   ]
  },
  {
   "cell_type": "code",
   "execution_count": 16,
   "id": "294797f3-260a-4f47-b1a7-3e2addc243a7",
   "metadata": {},
   "outputs": [
    {
     "data": {
      "text/plain": [
       "                     \n",
       "                      Cinco De Mayo Father's day OrthodoxEaster\n",
       "  Chanukah End                    0            0              0\n",
       "  Christmas                       0            0              0\n",
       "  Cinco De Mayo                   0            0              0\n",
       "  ColumbusDay                     0            0              0\n",
       "  Easter                          0            0             20\n",
       "  Eid al-Fitr                     0            0              0\n",
       "  EidAlAdha                       0            0              0\n",
       "  Father's day                    0            0              0\n",
       "  Halloween                       0            0              0\n",
       "  IndependenceDay                 0            0              0\n",
       "  LaborDay                        0            0              0\n",
       "  LentStart                       0            0              0\n",
       "  LentWeek2                       0            0              0\n",
       "  MartinLutherKingDay             0            0              0\n",
       "  MemorialDay                     0            0              0\n",
       "  Mother's day                    0            0              0\n",
       "  NBAFinalsEnd                    0           20              0\n",
       "  NBAFinalsStart                  0            0              0\n",
       "  NewYear                         0            0              0\n",
       "  OrthodoxChristmas               0            0              0\n",
       "  OrthodoxEaster                 20            0              0\n",
       "  Pesach End                      0            0              0\n",
       "  PresidentsDay                   0            0              0\n",
       "  Purim End                       0            0              0\n",
       "  Ramadan starts                  0            0              0\n",
       "  StPatricksDay                   0            0              0\n",
       "  SuperBowl                       0            0              0\n",
       "  Thanksgiving                    0            0              0\n",
       "  ValentinesDay                   0            0              0\n",
       "  VeteransDay                     0            0              0"
      ]
     },
     "metadata": {},
     "output_type": "display_data"
    }
   ],
   "source": [
    "table(cat$event_name_1, cat$event_name_2)"
   ]
  },
  {
   "cell_type": "markdown",
   "id": "8c4250d3-66ab-4b77-9ef4-d93ad9b28825",
   "metadata": {},
   "source": [
    "Parece que no hay ningún tipo de correlación coherente. Al no estar la variable además muy informada, nos quedamos con 1."
   ]
  },
  {
   "cell_type": "code",
   "execution_count": 17,
   "id": "59e8de98-ad5b-40b1-9261-059655665af8",
   "metadata": {},
   "outputs": [],
   "source": [
    "cat = cat %>% select(-event_type_2, -event_name_2)"
   ]
  },
  {
   "cell_type": "markdown",
   "id": "b8b38c48-0cd0-4661-a2e6-73f361815a60",
   "metadata": {},
   "source": [
    "Con respecto a los nulos de la variable 1, en vez de eliminarlos, los imputaremos por el valor \"Sin evento\""
   ]
  },
  {
   "cell_type": "code",
   "execution_count": 18,
   "id": "ed20d781-c98a-44f1-9850-3f44202576c4",
   "metadata": {},
   "outputs": [],
   "source": [
    "var_imputar_valor = c('event_name_1', 'event_type_1')\n",
    "valor = 'Sin_evento'"
   ]
  },
  {
   "cell_type": "code",
   "execution_count": 19,
   "id": "5ab2a0c0-ff48-4bbc-b635-24951e778e0c",
   "metadata": {},
   "outputs": [],
   "source": [
    "cat = cat %>% mutate(across(all_of(var_imputar_valor), ~ replace_na(., valor)))"
   ]
  },
  {
   "cell_type": "markdown",
   "id": "465480bf-e7bd-4fbe-8871-93c9c7212eef",
   "metadata": {},
   "source": [
    "Comprobamos de nuevo los valores nulos, para ver que la correción ha sido eficaz."
   ]
  },
  {
   "cell_type": "code",
   "execution_count": 20,
   "id": "663f71a5-6ee1-4abe-bdcc-e04a0598b62e",
   "metadata": {},
   "outputs": [
    {
     "data": {
      "text/html": [
       "<style>\n",
       ".dl-inline {width: auto; margin:0; padding: 0}\n",
       ".dl-inline>dt, .dl-inline>dd {float: none; width: auto; display: inline-block}\n",
       ".dl-inline>dt::after {content: \":\\0020\"; padding-right: .5ex}\n",
       ".dl-inline>dt:not(:first-of-type) {padding-left: .5ex}\n",
       "</style><dl class=dl-inline><dt>date</dt><dd>0</dd><dt>store_id</dt><dd>0</dd><dt>item_id</dt><dd>0</dd><dt>d</dt><dd>0</dd><dt>year</dt><dd>0</dd><dt>month</dt><dd>0</dd><dt>wday</dt><dd>0</dd><dt>weekday</dt><dd>0</dd><dt>event_name_1</dt><dd>0</dd><dt>event_type_1</dt><dd>0</dd></dl>\n"
      ],
      "text/latex": [
       "\\begin{description*}\n",
       "\\item[date] 0\n",
       "\\item[store\\textbackslash{}\\_id] 0\n",
       "\\item[item\\textbackslash{}\\_id] 0\n",
       "\\item[d] 0\n",
       "\\item[year] 0\n",
       "\\item[month] 0\n",
       "\\item[wday] 0\n",
       "\\item[weekday] 0\n",
       "\\item[event\\textbackslash{}\\_name\\textbackslash{}\\_1] 0\n",
       "\\item[event\\textbackslash{}\\_type\\textbackslash{}\\_1] 0\n",
       "\\end{description*}\n"
      ],
      "text/markdown": [
       "date\n",
       ":   0store_id\n",
       ":   0item_id\n",
       ":   0d\n",
       ":   0year\n",
       ":   0month\n",
       ":   0wday\n",
       ":   0weekday\n",
       ":   0event_name_1\n",
       ":   0event_type_1\n",
       ":   0\n",
       "\n"
      ],
      "text/plain": [
       "        date     store_id      item_id            d         year        month \n",
       "           0            0            0            0            0            0 \n",
       "        wday      weekday event_name_1 event_type_1 \n",
       "           0            0            0            0 "
      ]
     },
     "metadata": {},
     "output_type": "display_data"
    }
   ],
   "source": [
    "na_count = sort(colSums(is.na(cat)), decreasing = TRUE)\n",
    "na_count"
   ]
  },
  {
   "cell_type": "markdown",
   "id": "69294240-0bab-409c-9337-27c78f711384",
   "metadata": {},
   "source": [
    "Pasamos a ver el recuento de categorías por variable en cat."
   ]
  },
  {
   "cell_type": "code",
   "execution_count": 21,
   "id": "2124563e-b447-4127-ace0-6fc27ee19b71",
   "metadata": {},
   "outputs": [
    {
     "name": "stdout",
     "output_type": "stream",
     "text": [
      "date \n",
      "\u001b[90m# A tibble: 1,034 × 2\u001b[39m\n",
      "   date       count\n",
      "   \u001b[3m\u001b[90m<date>\u001b[39m\u001b[23m     \u001b[3m\u001b[90m<int>\u001b[39m\u001b[23m\n",
      "\u001b[90m 1\u001b[39m 2013-01-01    20\n",
      "\u001b[90m 2\u001b[39m 2013-01-02    20\n",
      "\u001b[90m 3\u001b[39m 2013-01-03    20\n",
      "\u001b[90m 4\u001b[39m 2013-01-04    20\n",
      "\u001b[90m 5\u001b[39m 2013-01-05    20\n",
      "\u001b[90m 6\u001b[39m 2013-01-06    20\n",
      "\u001b[90m 7\u001b[39m 2013-01-07    20\n",
      "\u001b[90m 8\u001b[39m 2013-01-08    20\n",
      "\u001b[90m 9\u001b[39m 2013-01-09    20\n",
      "\u001b[90m10\u001b[39m 2013-01-10    20\n",
      "\u001b[90m# ℹ 1,024 more rows\u001b[39m\n",
      "\n",
      "\n",
      "store_id \n",
      "\u001b[90m# A tibble: 2 × 2\u001b[39m\n",
      "  store_id count\n",
      "  \u001b[3m\u001b[90m<chr>\u001b[39m\u001b[23m    \u001b[3m\u001b[90m<int>\u001b[39m\u001b[23m\n",
      "\u001b[90m1\u001b[39m CA_3     \u001b[4m1\u001b[24m\u001b[4m0\u001b[24m340\n",
      "\u001b[90m2\u001b[39m CA_4     \u001b[4m1\u001b[24m\u001b[4m0\u001b[24m340\n",
      "\n",
      "\n",
      "item_id \n",
      "\u001b[90m# A tibble: 10 × 2\u001b[39m\n",
      "   item_id     count\n",
      "   \u001b[3m\u001b[90m<chr>\u001b[39m\u001b[23m       \u001b[3m\u001b[90m<int>\u001b[39m\u001b[23m\n",
      "\u001b[90m 1\u001b[39m FOODS_3_090  \u001b[4m2\u001b[24m068\n",
      "\u001b[90m 2\u001b[39m FOODS_3_120  \u001b[4m2\u001b[24m068\n",
      "\u001b[90m 3\u001b[39m FOODS_3_202  \u001b[4m2\u001b[24m068\n",
      "\u001b[90m 4\u001b[39m FOODS_3_252  \u001b[4m2\u001b[24m068\n",
      "\u001b[90m 5\u001b[39m FOODS_3_288  \u001b[4m2\u001b[24m068\n",
      "\u001b[90m 6\u001b[39m FOODS_3_329  \u001b[4m2\u001b[24m068\n",
      "\u001b[90m 7\u001b[39m FOODS_3_555  \u001b[4m2\u001b[24m068\n",
      "\u001b[90m 8\u001b[39m FOODS_3_586  \u001b[4m2\u001b[24m068\n",
      "\u001b[90m 9\u001b[39m FOODS_3_587  \u001b[4m2\u001b[24m068\n",
      "\u001b[90m10\u001b[39m FOODS_3_714  \u001b[4m2\u001b[24m068\n",
      "\n",
      "\n",
      "d \n",
      "\u001b[90m# A tibble: 1,034 × 2\u001b[39m\n",
      "   d      count\n",
      "   \u001b[3m\u001b[90m<chr>\u001b[39m\u001b[23m  \u001b[3m\u001b[90m<int>\u001b[39m\u001b[23m\n",
      "\u001b[90m 1\u001b[39m d_1000    20\n",
      "\u001b[90m 2\u001b[39m d_1001    20\n",
      "\u001b[90m 3\u001b[39m d_1002    20\n",
      "\u001b[90m 4\u001b[39m d_1003    20\n",
      "\u001b[90m 5\u001b[39m d_1004    20\n",
      "\u001b[90m 6\u001b[39m d_1005    20\n",
      "\u001b[90m 7\u001b[39m d_1006    20\n",
      "\u001b[90m 8\u001b[39m d_1007    20\n",
      "\u001b[90m 9\u001b[39m d_1008    20\n",
      "\u001b[90m10\u001b[39m d_1009    20\n",
      "\u001b[90m# ℹ 1,024 more rows\u001b[39m\n",
      "\n",
      "\n",
      "year \n",
      "\u001b[90m# A tibble: 3 × 2\u001b[39m\n",
      "  year  count\n",
      "  \u001b[3m\u001b[90m<chr>\u001b[39m\u001b[23m \u001b[3m\u001b[90m<int>\u001b[39m\u001b[23m\n",
      "\u001b[90m1\u001b[39m 2013   \u001b[4m7\u001b[24m300\n",
      "\u001b[90m2\u001b[39m 2014   \u001b[4m7\u001b[24m300\n",
      "\u001b[90m3\u001b[39m 2015   \u001b[4m6\u001b[24m080\n",
      "\n",
      "\n",
      "month \n",
      "\u001b[90m# A tibble: 12 × 2\u001b[39m\n",
      "   month count\n",
      "   \u001b[3m\u001b[90m<chr>\u001b[39m\u001b[23m \u001b[3m\u001b[90m<int>\u001b[39m\u001b[23m\n",
      "\u001b[90m 1\u001b[39m 1      \u001b[4m1\u001b[24m860\n",
      "\u001b[90m 2\u001b[39m 10     \u001b[4m1\u001b[24m860\n",
      "\u001b[90m 3\u001b[39m 3      \u001b[4m1\u001b[24m860\n",
      "\u001b[90m 4\u001b[39m 5      \u001b[4m1\u001b[24m860\n",
      "\u001b[90m 5\u001b[39m 7      \u001b[4m1\u001b[24m860\n",
      "\u001b[90m 6\u001b[39m 8      \u001b[4m1\u001b[24m860\n",
      "\u001b[90m 7\u001b[39m 4      \u001b[4m1\u001b[24m800\n",
      "\u001b[90m 8\u001b[39m 6      \u001b[4m1\u001b[24m800\n",
      "\u001b[90m 9\u001b[39m 9      \u001b[4m1\u001b[24m800\n",
      "\u001b[90m10\u001b[39m 2      \u001b[4m1\u001b[24m680\n",
      "\u001b[90m11\u001b[39m 12     \u001b[4m1\u001b[24m240\n",
      "\u001b[90m12\u001b[39m 11     \u001b[4m1\u001b[24m200\n",
      "\n",
      "\n",
      "wday \n",
      "\u001b[90m# A tibble: 7 × 2\u001b[39m\n",
      "  wday  count\n",
      "  \u001b[3m\u001b[90m<chr>\u001b[39m\u001b[23m \u001b[3m\u001b[90m<int>\u001b[39m\u001b[23m\n",
      "\u001b[90m1\u001b[39m 1      \u001b[4m2\u001b[24m960\n",
      "\u001b[90m2\u001b[39m 4      \u001b[4m2\u001b[24m960\n",
      "\u001b[90m3\u001b[39m 5      \u001b[4m2\u001b[24m960\n",
      "\u001b[90m4\u001b[39m 6      \u001b[4m2\u001b[24m960\n",
      "\u001b[90m5\u001b[39m 7      \u001b[4m2\u001b[24m960\n",
      "\u001b[90m6\u001b[39m 2      \u001b[4m2\u001b[24m940\n",
      "\u001b[90m7\u001b[39m 3      \u001b[4m2\u001b[24m940\n",
      "\n",
      "\n",
      "weekday \n",
      "\u001b[90m# A tibble: 7 × 2\u001b[39m\n",
      "  weekday   count\n",
      "  \u001b[3m\u001b[90m<chr>\u001b[39m\u001b[23m     \u001b[3m\u001b[90m<int>\u001b[39m\u001b[23m\n",
      "\u001b[90m1\u001b[39m Friday     \u001b[4m2\u001b[24m960\n",
      "\u001b[90m2\u001b[39m Saturday   \u001b[4m2\u001b[24m960\n",
      "\u001b[90m3\u001b[39m Thursday   \u001b[4m2\u001b[24m960\n",
      "\u001b[90m4\u001b[39m Tuesday    \u001b[4m2\u001b[24m960\n",
      "\u001b[90m5\u001b[39m Wednesday  \u001b[4m2\u001b[24m960\n",
      "\u001b[90m6\u001b[39m Monday     \u001b[4m2\u001b[24m940\n",
      "\u001b[90m7\u001b[39m Sunday     \u001b[4m2\u001b[24m940\n",
      "\n",
      "\n",
      "event_name_1 \n",
      "\u001b[90m# A tibble: 31 × 2\u001b[39m\n",
      "   event_name_1    count\n",
      "   \u001b[3m\u001b[90m<chr>\u001b[39m\u001b[23m           \u001b[3m\u001b[90m<int>\u001b[39m\u001b[23m\n",
      "\u001b[90m 1\u001b[39m Sin_evento      \u001b[4m1\u001b[24m\u001b[4m9\u001b[24m020\n",
      "\u001b[90m 2\u001b[39m ColumbusDay        60\n",
      "\u001b[90m 3\u001b[39m Easter             60\n",
      "\u001b[90m 4\u001b[39m Eid al-Fitr        60\n",
      "\u001b[90m 5\u001b[39m EidAlAdha          60\n",
      "\u001b[90m 6\u001b[39m Halloween          60\n",
      "\u001b[90m 7\u001b[39m IndependenceDay    60\n",
      "\u001b[90m 8\u001b[39m LaborDay           60\n",
      "\u001b[90m 9\u001b[39m LentStart          60\n",
      "\u001b[90m10\u001b[39m LentWeek2          60\n",
      "\u001b[90m# ℹ 21 more rows\u001b[39m\n",
      "\n",
      "\n",
      "event_type_1 \n",
      "\u001b[90m# A tibble: 5 × 2\u001b[39m\n",
      "  event_type_1 count\n",
      "  \u001b[3m\u001b[90m<chr>\u001b[39m\u001b[23m        \u001b[3m\u001b[90m<int>\u001b[39m\u001b[23m\n",
      "\u001b[90m1\u001b[39m Sin_evento   \u001b[4m1\u001b[24m\u001b[4m9\u001b[24m020\n",
      "\u001b[90m2\u001b[39m Religious      560\n",
      "\u001b[90m3\u001b[39m National       540\n",
      "\u001b[90m4\u001b[39m Cultural       380\n",
      "\u001b[90m5\u001b[39m Sporting       180\n",
      "\n",
      "\n"
     ]
    }
   ],
   "source": [
    "for (variable in names(cat)) {\n",
    "  \n",
    "  cat(paste(variable, \"\\n\"))\n",
    "  \n",
    "  print(cat %>%\n",
    "          count(!!sym(variable), name = \"count\") %>%\n",
    "          arrange(desc(count)))\n",
    "    \n",
    "  cat(\"\\n\\n\")\n",
    "}"
   ]
  },
  {
   "cell_type": "markdown",
   "id": "9e571f45-a685-42c9-a77d-b310073d9ae6",
   "metadata": {},
   "source": [
    "No hay categorías raras o a destacar, pero hay que hacer la comprobación de sí los datos que faltan en 2015 son los que se extrajeron de validación."
   ]
  },
  {
   "cell_type": "code",
   "execution_count": 22,
   "id": "4fb44a7f-deb7-42c3-ab0b-d4ef42c3da4c",
   "metadata": {},
   "outputs": [
    {
     "data": {
      "text/html": [
       "<table class=\"dataframe\">\n",
       "<caption>A tibble: 3 × 2</caption>\n",
       "<thead>\n",
       "\t<tr><th scope=col>year</th><th scope=col>unique_d_count</th></tr>\n",
       "\t<tr><th scope=col>&lt;chr&gt;</th><th scope=col>&lt;int&gt;</th></tr>\n",
       "</thead>\n",
       "<tbody>\n",
       "\t<tr><td>2013</td><td>365</td></tr>\n",
       "\t<tr><td>2014</td><td>365</td></tr>\n",
       "\t<tr><td>2015</td><td>304</td></tr>\n",
       "</tbody>\n",
       "</table>\n"
      ],
      "text/latex": [
       "A tibble: 3 × 2\n",
       "\\begin{tabular}{ll}\n",
       " year & unique\\_d\\_count\\\\\n",
       " <chr> & <int>\\\\\n",
       "\\hline\n",
       "\t 2013 & 365\\\\\n",
       "\t 2014 & 365\\\\\n",
       "\t 2015 & 304\\\\\n",
       "\\end{tabular}\n"
      ],
      "text/markdown": [
       "\n",
       "A tibble: 3 × 2\n",
       "\n",
       "| year &lt;chr&gt; | unique_d_count &lt;int&gt; |\n",
       "|---|---|\n",
       "| 2013 | 365 |\n",
       "| 2014 | 365 |\n",
       "| 2015 | 304 |\n",
       "\n"
      ],
      "text/plain": [
       "  year unique_d_count\n",
       "1 2013 365           \n",
       "2 2014 365           \n",
       "3 2015 304           "
      ]
     },
     "metadata": {},
     "output_type": "display_data"
    }
   ],
   "source": [
    "df %>% group_by(year) %>% summarise(unique_d_count = n_distinct(d))"
   ]
  },
  {
   "cell_type": "markdown",
   "id": "5a77be43-0609-4407-80a1-ad5f7aaf8b80",
   "metadata": {},
   "source": [
    "Faltan 61 días, los cuales fueron los registros que se incluyeron en validación, vamos a comprobarlo."
   ]
  },
  {
   "cell_type": "code",
   "execution_count": 23,
   "id": "83aa6b80-9153-49b7-9499-86ac68d1fc0c",
   "metadata": {},
   "outputs": [],
   "source": [
    "val = readRDS('../022_Variables/val.rds')"
   ]
  },
  {
   "cell_type": "code",
   "execution_count": 24,
   "id": "36db34da-062a-4f19-a659-aca341dd7d93",
   "metadata": {},
   "outputs": [
    {
     "data": {
      "text/html": [
       "<table class=\"dataframe\">\n",
       "<caption>A tibble: 1 × 2</caption>\n",
       "<thead>\n",
       "\t<tr><th scope=col>year</th><th scope=col>unique_d_count</th></tr>\n",
       "\t<tr><th scope=col>&lt;int&gt;</th><th scope=col>&lt;int&gt;</th></tr>\n",
       "</thead>\n",
       "<tbody>\n",
       "\t<tr><td>2015</td><td>61</td></tr>\n",
       "</tbody>\n",
       "</table>\n"
      ],
      "text/latex": [
       "A tibble: 1 × 2\n",
       "\\begin{tabular}{ll}\n",
       " year & unique\\_d\\_count\\\\\n",
       " <int> & <int>\\\\\n",
       "\\hline\n",
       "\t 2015 & 61\\\\\n",
       "\\end{tabular}\n"
      ],
      "text/markdown": [
       "\n",
       "A tibble: 1 × 2\n",
       "\n",
       "| year &lt;int&gt; | unique_d_count &lt;int&gt; |\n",
       "|---|---|\n",
       "| 2015 | 61 |\n",
       "\n"
      ],
      "text/plain": [
       "  year unique_d_count\n",
       "1 2015 61            "
      ]
     },
     "metadata": {},
     "output_type": "display_data"
    }
   ],
   "source": [
    "val %>% group_by(year) %>% summarise(unique_d_count = n_distinct(d))"
   ]
  },
  {
   "cell_type": "markdown",
   "id": "61269d97-2f94-470f-ad83-af3e4b5c9a36",
   "metadata": {},
   "source": [
    "Efectivamente, son los de validación."
   ]
  },
  {
   "cell_type": "markdown",
   "id": "54384d02-a135-45a2-8430-b5fe5a79ed54",
   "metadata": {},
   "source": [
    "## Numéricas"
   ]
  },
  {
   "cell_type": "markdown",
   "id": "44414089-59ef-4acf-a533-7a21def40448",
   "metadata": {},
   "source": [
    "Observamos primero los estadísticos básicos."
   ]
  },
  {
   "cell_type": "code",
   "execution_count": 27,
   "id": "6d08bb3b-b7ea-4a36-a6a5-071afc334327",
   "metadata": {},
   "outputs": [
    {
     "data": {
      "text/plain": [
       "    wm_yr_wk         ventas         sell_price   \n",
       " Min.   :11249   Min.   :  0.00   Min.   :1.000  \n",
       " 1st Qu.:11334   1st Qu.:  6.00   1st Qu.:1.500  \n",
       " Median :11418   Median : 18.00   Median :1.580  \n",
       " Mean   :11411   Mean   : 28.87   Mean   :2.396  \n",
       " 3rd Qu.:11503   3rd Qu.: 37.00   3rd Qu.:2.980  \n",
       " Max.   :11540   Max.   :763.00   Max.   :4.980  \n",
       "                                  NA's   :71     "
      ]
     },
     "metadata": {},
     "output_type": "display_data"
    }
   ],
   "source": [
    "summary(num)"
   ]
  },
  {
   "cell_type": "markdown",
   "id": "f727a198-159e-4745-8a16-18b9ff5e4603",
   "metadata": {},
   "source": [
    "Y los nulos."
   ]
  },
  {
   "cell_type": "code",
   "execution_count": 28,
   "id": "07c18f42-e516-42d1-bc49-0f9561dcb90a",
   "metadata": {},
   "outputs": [
    {
     "data": {
      "text/html": [
       "<style>\n",
       ".dl-inline {width: auto; margin:0; padding: 0}\n",
       ".dl-inline>dt, .dl-inline>dd {float: none; width: auto; display: inline-block}\n",
       ".dl-inline>dt::after {content: \":\\0020\"; padding-right: .5ex}\n",
       ".dl-inline>dt:not(:first-of-type) {padding-left: .5ex}\n",
       "</style><dl class=dl-inline><dt>sell_price</dt><dd>71</dd><dt>wm_yr_wk</dt><dd>0</dd><dt>ventas</dt><dd>0</dd></dl>\n"
      ],
      "text/latex": [
       "\\begin{description*}\n",
       "\\item[sell\\textbackslash{}\\_price] 71\n",
       "\\item[wm\\textbackslash{}\\_yr\\textbackslash{}\\_wk] 0\n",
       "\\item[ventas] 0\n",
       "\\end{description*}\n"
      ],
      "text/markdown": [
       "sell_price\n",
       ":   71wm_yr_wk\n",
       ":   0ventas\n",
       ":   0\n",
       "\n"
      ],
      "text/plain": [
       "sell_price   wm_yr_wk     ventas \n",
       "        71          0          0 "
      ]
     },
     "metadata": {},
     "output_type": "display_data"
    }
   ],
   "source": [
    "sort(colSums(is.na(num)), decreasing = TRUE)"
   ]
  },
  {
   "cell_type": "markdown",
   "id": "5cb9cc06-c032-46fc-85a1-52902818dcec",
   "metadata": {},
   "source": [
    "Vamos a intentar encontrar algún patrón agrupando por otras variables que tengan relación."
   ]
  },
  {
   "cell_type": "code",
   "execution_count": 30,
   "id": "2a357e9c-4a53-4e8c-805b-e51c7385b715",
   "metadata": {},
   "outputs": [
    {
     "data": {
      "text/html": [
       "<table class=\"dataframe\">\n",
       "<caption>A tibble: 10 × 2</caption>\n",
       "<thead>\n",
       "\t<tr><th scope=col>item_id</th><th scope=col>na_count</th></tr>\n",
       "\t<tr><th scope=col>&lt;chr&gt;</th><th scope=col>&lt;int&gt;</th></tr>\n",
       "</thead>\n",
       "<tbody>\n",
       "\t<tr><td>FOODS_3_288</td><td>71</td></tr>\n",
       "\t<tr><td>FOODS_3_090</td><td> 0</td></tr>\n",
       "\t<tr><td>FOODS_3_120</td><td> 0</td></tr>\n",
       "\t<tr><td>FOODS_3_202</td><td> 0</td></tr>\n",
       "\t<tr><td>FOODS_3_252</td><td> 0</td></tr>\n",
       "\t<tr><td>FOODS_3_329</td><td> 0</td></tr>\n",
       "\t<tr><td>FOODS_3_555</td><td> 0</td></tr>\n",
       "\t<tr><td>FOODS_3_586</td><td> 0</td></tr>\n",
       "\t<tr><td>FOODS_3_587</td><td> 0</td></tr>\n",
       "\t<tr><td>FOODS_3_714</td><td> 0</td></tr>\n",
       "</tbody>\n",
       "</table>\n"
      ],
      "text/latex": [
       "A tibble: 10 × 2\n",
       "\\begin{tabular}{ll}\n",
       " item\\_id & na\\_count\\\\\n",
       " <chr> & <int>\\\\\n",
       "\\hline\n",
       "\t FOODS\\_3\\_288 & 71\\\\\n",
       "\t FOODS\\_3\\_090 &  0\\\\\n",
       "\t FOODS\\_3\\_120 &  0\\\\\n",
       "\t FOODS\\_3\\_202 &  0\\\\\n",
       "\t FOODS\\_3\\_252 &  0\\\\\n",
       "\t FOODS\\_3\\_329 &  0\\\\\n",
       "\t FOODS\\_3\\_555 &  0\\\\\n",
       "\t FOODS\\_3\\_586 &  0\\\\\n",
       "\t FOODS\\_3\\_587 &  0\\\\\n",
       "\t FOODS\\_3\\_714 &  0\\\\\n",
       "\\end{tabular}\n"
      ],
      "text/markdown": [
       "\n",
       "A tibble: 10 × 2\n",
       "\n",
       "| item_id &lt;chr&gt; | na_count &lt;int&gt; |\n",
       "|---|---|\n",
       "| FOODS_3_288 | 71 |\n",
       "| FOODS_3_090 |  0 |\n",
       "| FOODS_3_120 |  0 |\n",
       "| FOODS_3_202 |  0 |\n",
       "| FOODS_3_252 |  0 |\n",
       "| FOODS_3_329 |  0 |\n",
       "| FOODS_3_555 |  0 |\n",
       "| FOODS_3_586 |  0 |\n",
       "| FOODS_3_587 |  0 |\n",
       "| FOODS_3_714 |  0 |\n",
       "\n"
      ],
      "text/plain": [
       "   item_id     na_count\n",
       "1  FOODS_3_288 71      \n",
       "2  FOODS_3_090  0      \n",
       "3  FOODS_3_120  0      \n",
       "4  FOODS_3_202  0      \n",
       "5  FOODS_3_252  0      \n",
       "6  FOODS_3_329  0      \n",
       "7  FOODS_3_555  0      \n",
       "8  FOODS_3_586  0      \n",
       "9  FOODS_3_587  0      \n",
       "10 FOODS_3_714  0      "
      ]
     },
     "metadata": {},
     "output_type": "display_data"
    }
   ],
   "source": [
    "df %>% group_by(item_id) %>% summarise(na_count = sum(is.na(sell_price))) %>% arrange(desc(na_count))"
   ]
  },
  {
   "cell_type": "code",
   "execution_count": 32,
   "id": "2fb3fc7c-d6f4-4cce-8ac1-85ad0faa5866",
   "metadata": {},
   "outputs": [
    {
     "data": {
      "text/html": [
       "<table class=\"dataframe\">\n",
       "<caption>A tibble: 10 × 2</caption>\n",
       "<thead>\n",
       "\t<tr><th scope=col>ventas</th><th scope=col>na_count</th></tr>\n",
       "\t<tr><th scope=col>&lt;int&gt;</th><th scope=col>&lt;int&gt;</th></tr>\n",
       "</thead>\n",
       "<tbody>\n",
       "\t<tr><td>0</td><td>71</td></tr>\n",
       "\t<tr><td>1</td><td> 0</td></tr>\n",
       "\t<tr><td>2</td><td> 0</td></tr>\n",
       "\t<tr><td>3</td><td> 0</td></tr>\n",
       "\t<tr><td>4</td><td> 0</td></tr>\n",
       "\t<tr><td>5</td><td> 0</td></tr>\n",
       "\t<tr><td>6</td><td> 0</td></tr>\n",
       "\t<tr><td>7</td><td> 0</td></tr>\n",
       "\t<tr><td>8</td><td> 0</td></tr>\n",
       "\t<tr><td>9</td><td> 0</td></tr>\n",
       "</tbody>\n",
       "</table>\n"
      ],
      "text/latex": [
       "A tibble: 10 × 2\n",
       "\\begin{tabular}{ll}\n",
       " ventas & na\\_count\\\\\n",
       " <int> & <int>\\\\\n",
       "\\hline\n",
       "\t 0 & 71\\\\\n",
       "\t 1 &  0\\\\\n",
       "\t 2 &  0\\\\\n",
       "\t 3 &  0\\\\\n",
       "\t 4 &  0\\\\\n",
       "\t 5 &  0\\\\\n",
       "\t 6 &  0\\\\\n",
       "\t 7 &  0\\\\\n",
       "\t 8 &  0\\\\\n",
       "\t 9 &  0\\\\\n",
       "\\end{tabular}\n"
      ],
      "text/markdown": [
       "\n",
       "A tibble: 10 × 2\n",
       "\n",
       "| ventas &lt;int&gt; | na_count &lt;int&gt; |\n",
       "|---|---|\n",
       "| 0 | 71 |\n",
       "| 1 |  0 |\n",
       "| 2 |  0 |\n",
       "| 3 |  0 |\n",
       "| 4 |  0 |\n",
       "| 5 |  0 |\n",
       "| 6 |  0 |\n",
       "| 7 |  0 |\n",
       "| 8 |  0 |\n",
       "| 9 |  0 |\n",
       "\n"
      ],
      "text/plain": [
       "   ventas na_count\n",
       "1  0      71      \n",
       "2  1       0      \n",
       "3  2       0      \n",
       "4  3       0      \n",
       "5  4       0      \n",
       "6  5       0      \n",
       "7  6       0      \n",
       "8  7       0      \n",
       "9  8       0      \n",
       "10 9       0      "
      ]
     },
     "metadata": {},
     "output_type": "display_data"
    }
   ],
   "source": [
    "df %>% group_by(ventas) %>% summarise(na_count = sum(is.na(sell_price))) %>% arrange(desc(na_count)) %>% head(10)"
   ]
  },
  {
   "cell_type": "markdown",
   "id": "935b71d8-2275-46cf-82af-5b3e851636cc",
   "metadata": {},
   "source": [
    "Los nulos ocurren en un tipo de producto y en el día que no existen ventas."
   ]
  },
  {
   "cell_type": "markdown",
   "id": "a05a4d40-92b2-4588-97cc-09876b86b287",
   "metadata": {},
   "source": [
    "Para corregir estos nulos, vamos a segmentar por producto y coger la moda de cada uno de ellos. Para ello agregamos temporalmente la variable producto que se encuentra en el dataset de las variables categóricas y operamos."
   ]
  },
  {
   "cell_type": "code",
   "execution_count": 34,
   "id": "90a11584-d14e-45b7-b003-7fe997f79a3f",
   "metadata": {},
   "outputs": [],
   "source": [
    "num = bind_cols(num, cat %>% select(item_id))"
   ]
  },
  {
   "cell_type": "code",
   "execution_count": 35,
   "id": "c29b540b-5b2c-4b70-8ddf-36cf3607789d",
   "metadata": {},
   "outputs": [
    {
     "data": {
      "text/html": [
       "<table class=\"dataframe\">\n",
       "<caption>A tibble: 6 × 4</caption>\n",
       "<thead>\n",
       "\t<tr><th scope=col>wm_yr_wk</th><th scope=col>ventas</th><th scope=col>sell_price</th><th scope=col>item_id</th></tr>\n",
       "\t<tr><th scope=col>&lt;int&gt;</th><th scope=col>&lt;int&gt;</th><th scope=col>&lt;dbl&gt;</th><th scope=col>&lt;chr&gt;</th></tr>\n",
       "</thead>\n",
       "<tbody>\n",
       "\t<tr><td>11249</td><td>  0</td><td>1.25</td><td>FOODS_3_090</td></tr>\n",
       "\t<tr><td>11249</td><td>224</td><td>1.25</td><td>FOODS_3_090</td></tr>\n",
       "\t<tr><td>11249</td><td>241</td><td>1.25</td><td>FOODS_3_090</td></tr>\n",
       "\t<tr><td>11249</td><td>232</td><td>1.25</td><td>FOODS_3_090</td></tr>\n",
       "\t<tr><td>11250</td><td>301</td><td>1.25</td><td>FOODS_3_090</td></tr>\n",
       "\t<tr><td>11250</td><td>270</td><td>1.25</td><td>FOODS_3_090</td></tr>\n",
       "</tbody>\n",
       "</table>\n"
      ],
      "text/latex": [
       "A tibble: 6 × 4\n",
       "\\begin{tabular}{llll}\n",
       " wm\\_yr\\_wk & ventas & sell\\_price & item\\_id\\\\\n",
       " <int> & <int> & <dbl> & <chr>\\\\\n",
       "\\hline\n",
       "\t 11249 &   0 & 1.25 & FOODS\\_3\\_090\\\\\n",
       "\t 11249 & 224 & 1.25 & FOODS\\_3\\_090\\\\\n",
       "\t 11249 & 241 & 1.25 & FOODS\\_3\\_090\\\\\n",
       "\t 11249 & 232 & 1.25 & FOODS\\_3\\_090\\\\\n",
       "\t 11250 & 301 & 1.25 & FOODS\\_3\\_090\\\\\n",
       "\t 11250 & 270 & 1.25 & FOODS\\_3\\_090\\\\\n",
       "\\end{tabular}\n"
      ],
      "text/markdown": [
       "\n",
       "A tibble: 6 × 4\n",
       "\n",
       "| wm_yr_wk &lt;int&gt; | ventas &lt;int&gt; | sell_price &lt;dbl&gt; | item_id &lt;chr&gt; |\n",
       "|---|---|---|---|\n",
       "| 11249 |   0 | 1.25 | FOODS_3_090 |\n",
       "| 11249 | 224 | 1.25 | FOODS_3_090 |\n",
       "| 11249 | 241 | 1.25 | FOODS_3_090 |\n",
       "| 11249 | 232 | 1.25 | FOODS_3_090 |\n",
       "| 11250 | 301 | 1.25 | FOODS_3_090 |\n",
       "| 11250 | 270 | 1.25 | FOODS_3_090 |\n",
       "\n"
      ],
      "text/plain": [
       "  wm_yr_wk ventas sell_price item_id    \n",
       "1 11249      0    1.25       FOODS_3_090\n",
       "2 11249    224    1.25       FOODS_3_090\n",
       "3 11249    241    1.25       FOODS_3_090\n",
       "4 11249    232    1.25       FOODS_3_090\n",
       "5 11250    301    1.25       FOODS_3_090\n",
       "6 11250    270    1.25       FOODS_3_090"
      ]
     },
     "metadata": {},
     "output_type": "display_data"
    }
   ],
   "source": [
    "num %>% head()"
   ]
  },
  {
   "cell_type": "markdown",
   "id": "ff69fc80-060c-4f4f-9f7a-c421d79bdfa4",
   "metadata": {},
   "source": [
    "Creamos una función para imputar valores por la moda."
   ]
  },
  {
   "cell_type": "code",
   "execution_count": 37,
   "id": "140123df-94f4-489a-af10-069e4235370b",
   "metadata": {},
   "outputs": [],
   "source": [
    "imputar_moda <- function(registros) {\n",
    "  \n",
    "  moda <- as.numeric(names(sort(table(registros$sell_price), decreasing = TRUE)[1]))\n",
    "    \n",
    "  registros <- registros %>%\n",
    "    mutate(sell_price = ifelse(is.na(sell_price), moda, sell_price))\n",
    "  \n",
    "  return(registros)\n",
    "}"
   ]
  },
  {
   "cell_type": "markdown",
   "id": "db77ba15-5b16-4494-8263-620d7dada1ab",
   "metadata": {},
   "source": [
    "Aplicamos."
   ]
  },
  {
   "cell_type": "code",
   "execution_count": 38,
   "id": "a0901e9e-dfb8-4a43-940c-14fabbc18358",
   "metadata": {},
   "outputs": [],
   "source": [
    "num <- num %>% group_by(item_id) %>% group_modify(~ imputar_moda(.x)) %>% ungroup()"
   ]
  },
  {
   "cell_type": "markdown",
   "id": "0aeec8c3-dfca-47b6-8431-40c68eaf4fc0",
   "metadata": {},
   "source": [
    "Comprobamos la imputación agrupando por producto y precio, después revisamos los valores nulos."
   ]
  },
  {
   "cell_type": "code",
   "execution_count": 39,
   "id": "440ec515-199b-4d5a-85e2-64b99907c919",
   "metadata": {},
   "outputs": [
    {
     "data": {
      "text/html": [
       "<table class=\"dataframe\">\n",
       "<caption>A tibble: 32 × 3</caption>\n",
       "<thead>\n",
       "\t<tr><th scope=col>item_id</th><th scope=col>sell_price</th><th scope=col>n</th></tr>\n",
       "\t<tr><th scope=col>&lt;chr&gt;</th><th scope=col>&lt;dbl&gt;</th><th scope=col>&lt;int&gt;</th></tr>\n",
       "</thead>\n",
       "<tbody>\n",
       "\t<tr><td>FOODS_3_090</td><td>1.48</td><td> 658</td></tr>\n",
       "\t<tr><td>FOODS_3_090</td><td>1.38</td><td> 546</td></tr>\n",
       "\t<tr><td>FOODS_3_090</td><td>1.44</td><td> 504</td></tr>\n",
       "\t<tr><td>FOODS_3_090</td><td>1.00</td><td> 280</td></tr>\n",
       "\t<tr><td>FOODS_3_090</td><td>1.25</td><td>  50</td></tr>\n",
       "\t<tr><td>FOODS_3_090</td><td>1.50</td><td>  30</td></tr>\n",
       "\t<tr><td>FOODS_3_120</td><td>4.98</td><td>2068</td></tr>\n",
       "\t<tr><td>FOODS_3_202</td><td>4.58</td><td> 667</td></tr>\n",
       "\t<tr><td>FOODS_3_202</td><td>4.38</td><td> 525</td></tr>\n",
       "\t<tr><td>FOODS_3_202</td><td>4.28</td><td> 386</td></tr>\n",
       "\t<tr><td>FOODS_3_202</td><td>3.98</td><td> 350</td></tr>\n",
       "\t<tr><td>FOODS_3_202</td><td>3.00</td><td> 105</td></tr>\n",
       "\t<tr><td>FOODS_3_202</td><td>3.33</td><td>  21</td></tr>\n",
       "\t<tr><td>FOODS_3_202</td><td>3.25</td><td>   7</td></tr>\n",
       "\t<tr><td>FOODS_3_202</td><td>4.48</td><td>   7</td></tr>\n",
       "\t<tr><td>FOODS_3_252</td><td>1.58</td><td>1122</td></tr>\n",
       "\t<tr><td>FOODS_3_252</td><td>1.48</td><td> 946</td></tr>\n",
       "\t<tr><td>FOODS_3_288</td><td>1.50</td><td>2040</td></tr>\n",
       "\t<tr><td>FOODS_3_288</td><td>1.25</td><td>  21</td></tr>\n",
       "\t<tr><td>FOODS_3_288</td><td>1.18</td><td>   7</td></tr>\n",
       "\t<tr><td>FOODS_3_329</td><td>2.98</td><td>2019</td></tr>\n",
       "\t<tr><td>FOODS_3_329</td><td>2.74</td><td>  42</td></tr>\n",
       "\t<tr><td>FOODS_3_329</td><td>1.98</td><td>   7</td></tr>\n",
       "\t<tr><td>FOODS_3_555</td><td>1.58</td><td>1149</td></tr>\n",
       "\t<tr><td>FOODS_3_555</td><td>1.68</td><td> 919</td></tr>\n",
       "\t<tr><td>FOODS_3_586</td><td>1.58</td><td>1149</td></tr>\n",
       "\t<tr><td>FOODS_3_586</td><td>1.68</td><td> 919</td></tr>\n",
       "\t<tr><td>FOODS_3_587</td><td>2.48</td><td>1584</td></tr>\n",
       "\t<tr><td>FOODS_3_587</td><td>2.68</td><td> 421</td></tr>\n",
       "\t<tr><td>FOODS_3_587</td><td>1.98</td><td>  63</td></tr>\n",
       "\t<tr><td>FOODS_3_714</td><td>1.58</td><td>1262</td></tr>\n",
       "\t<tr><td>FOODS_3_714</td><td>1.48</td><td> 806</td></tr>\n",
       "</tbody>\n",
       "</table>\n"
      ],
      "text/latex": [
       "A tibble: 32 × 3\n",
       "\\begin{tabular}{lll}\n",
       " item\\_id & sell\\_price & n\\\\\n",
       " <chr> & <dbl> & <int>\\\\\n",
       "\\hline\n",
       "\t FOODS\\_3\\_090 & 1.48 &  658\\\\\n",
       "\t FOODS\\_3\\_090 & 1.38 &  546\\\\\n",
       "\t FOODS\\_3\\_090 & 1.44 &  504\\\\\n",
       "\t FOODS\\_3\\_090 & 1.00 &  280\\\\\n",
       "\t FOODS\\_3\\_090 & 1.25 &   50\\\\\n",
       "\t FOODS\\_3\\_090 & 1.50 &   30\\\\\n",
       "\t FOODS\\_3\\_120 & 4.98 & 2068\\\\\n",
       "\t FOODS\\_3\\_202 & 4.58 &  667\\\\\n",
       "\t FOODS\\_3\\_202 & 4.38 &  525\\\\\n",
       "\t FOODS\\_3\\_202 & 4.28 &  386\\\\\n",
       "\t FOODS\\_3\\_202 & 3.98 &  350\\\\\n",
       "\t FOODS\\_3\\_202 & 3.00 &  105\\\\\n",
       "\t FOODS\\_3\\_202 & 3.33 &   21\\\\\n",
       "\t FOODS\\_3\\_202 & 3.25 &    7\\\\\n",
       "\t FOODS\\_3\\_202 & 4.48 &    7\\\\\n",
       "\t FOODS\\_3\\_252 & 1.58 & 1122\\\\\n",
       "\t FOODS\\_3\\_252 & 1.48 &  946\\\\\n",
       "\t FOODS\\_3\\_288 & 1.50 & 2040\\\\\n",
       "\t FOODS\\_3\\_288 & 1.25 &   21\\\\\n",
       "\t FOODS\\_3\\_288 & 1.18 &    7\\\\\n",
       "\t FOODS\\_3\\_329 & 2.98 & 2019\\\\\n",
       "\t FOODS\\_3\\_329 & 2.74 &   42\\\\\n",
       "\t FOODS\\_3\\_329 & 1.98 &    7\\\\\n",
       "\t FOODS\\_3\\_555 & 1.58 & 1149\\\\\n",
       "\t FOODS\\_3\\_555 & 1.68 &  919\\\\\n",
       "\t FOODS\\_3\\_586 & 1.58 & 1149\\\\\n",
       "\t FOODS\\_3\\_586 & 1.68 &  919\\\\\n",
       "\t FOODS\\_3\\_587 & 2.48 & 1584\\\\\n",
       "\t FOODS\\_3\\_587 & 2.68 &  421\\\\\n",
       "\t FOODS\\_3\\_587 & 1.98 &   63\\\\\n",
       "\t FOODS\\_3\\_714 & 1.58 & 1262\\\\\n",
       "\t FOODS\\_3\\_714 & 1.48 &  806\\\\\n",
       "\\end{tabular}\n"
      ],
      "text/markdown": [
       "\n",
       "A tibble: 32 × 3\n",
       "\n",
       "| item_id &lt;chr&gt; | sell_price &lt;dbl&gt; | n &lt;int&gt; |\n",
       "|---|---|---|\n",
       "| FOODS_3_090 | 1.48 |  658 |\n",
       "| FOODS_3_090 | 1.38 |  546 |\n",
       "| FOODS_3_090 | 1.44 |  504 |\n",
       "| FOODS_3_090 | 1.00 |  280 |\n",
       "| FOODS_3_090 | 1.25 |   50 |\n",
       "| FOODS_3_090 | 1.50 |   30 |\n",
       "| FOODS_3_120 | 4.98 | 2068 |\n",
       "| FOODS_3_202 | 4.58 |  667 |\n",
       "| FOODS_3_202 | 4.38 |  525 |\n",
       "| FOODS_3_202 | 4.28 |  386 |\n",
       "| FOODS_3_202 | 3.98 |  350 |\n",
       "| FOODS_3_202 | 3.00 |  105 |\n",
       "| FOODS_3_202 | 3.33 |   21 |\n",
       "| FOODS_3_202 | 3.25 |    7 |\n",
       "| FOODS_3_202 | 4.48 |    7 |\n",
       "| FOODS_3_252 | 1.58 | 1122 |\n",
       "| FOODS_3_252 | 1.48 |  946 |\n",
       "| FOODS_3_288 | 1.50 | 2040 |\n",
       "| FOODS_3_288 | 1.25 |   21 |\n",
       "| FOODS_3_288 | 1.18 |    7 |\n",
       "| FOODS_3_329 | 2.98 | 2019 |\n",
       "| FOODS_3_329 | 2.74 |   42 |\n",
       "| FOODS_3_329 | 1.98 |    7 |\n",
       "| FOODS_3_555 | 1.58 | 1149 |\n",
       "| FOODS_3_555 | 1.68 |  919 |\n",
       "| FOODS_3_586 | 1.58 | 1149 |\n",
       "| FOODS_3_586 | 1.68 |  919 |\n",
       "| FOODS_3_587 | 2.48 | 1584 |\n",
       "| FOODS_3_587 | 2.68 |  421 |\n",
       "| FOODS_3_587 | 1.98 |   63 |\n",
       "| FOODS_3_714 | 1.58 | 1262 |\n",
       "| FOODS_3_714 | 1.48 |  806 |\n",
       "\n"
      ],
      "text/plain": [
       "   item_id     sell_price n   \n",
       "1  FOODS_3_090 1.48        658\n",
       "2  FOODS_3_090 1.38        546\n",
       "3  FOODS_3_090 1.44        504\n",
       "4  FOODS_3_090 1.00        280\n",
       "5  FOODS_3_090 1.25         50\n",
       "6  FOODS_3_090 1.50         30\n",
       "7  FOODS_3_120 4.98       2068\n",
       "8  FOODS_3_202 4.58        667\n",
       "9  FOODS_3_202 4.38        525\n",
       "10 FOODS_3_202 4.28        386\n",
       "11 FOODS_3_202 3.98        350\n",
       "12 FOODS_3_202 3.00        105\n",
       "13 FOODS_3_202 3.33         21\n",
       "14 FOODS_3_202 3.25          7\n",
       "15 FOODS_3_202 4.48          7\n",
       "16 FOODS_3_252 1.58       1122\n",
       "17 FOODS_3_252 1.48        946\n",
       "18 FOODS_3_288 1.50       2040\n",
       "19 FOODS_3_288 1.25         21\n",
       "20 FOODS_3_288 1.18          7\n",
       "21 FOODS_3_329 2.98       2019\n",
       "22 FOODS_3_329 2.74         42\n",
       "23 FOODS_3_329 1.98          7\n",
       "24 FOODS_3_555 1.58       1149\n",
       "25 FOODS_3_555 1.68        919\n",
       "26 FOODS_3_586 1.58       1149\n",
       "27 FOODS_3_586 1.68        919\n",
       "28 FOODS_3_587 2.48       1584\n",
       "29 FOODS_3_587 2.68        421\n",
       "30 FOODS_3_587 1.98         63\n",
       "31 FOODS_3_714 1.58       1262\n",
       "32 FOODS_3_714 1.48        806"
      ]
     },
     "metadata": {},
     "output_type": "display_data"
    }
   ],
   "source": [
    "num %>% count(item_id, sell_price) %>% arrange(item_id, desc(n))"
   ]
  },
  {
   "cell_type": "markdown",
   "id": "46afe319-6b6d-4c63-aebc-f64a829a48eb",
   "metadata": {},
   "source": [
    "Todos los valores de sell price entran dentro de rangos coherentes. Eliminamos la columna producto de num."
   ]
  },
  {
   "cell_type": "code",
   "execution_count": 40,
   "id": "b2df794f-9ee6-4451-bdb3-f9580621910c",
   "metadata": {},
   "outputs": [],
   "source": [
    "num = num %>% select(-item_id)"
   ]
  },
  {
   "cell_type": "code",
   "execution_count": 41,
   "id": "c6bcc7a2-427c-452c-959b-90299ad6be6c",
   "metadata": {},
   "outputs": [
    {
     "data": {
      "text/html": [
       "<style>\n",
       ".dl-inline {width: auto; margin:0; padding: 0}\n",
       ".dl-inline>dt, .dl-inline>dd {float: none; width: auto; display: inline-block}\n",
       ".dl-inline>dt::after {content: \":\\0020\"; padding-right: .5ex}\n",
       ".dl-inline>dt:not(:first-of-type) {padding-left: .5ex}\n",
       "</style><dl class=dl-inline><dt>wm_yr_wk</dt><dd>0</dd><dt>ventas</dt><dd>0</dd><dt>sell_price</dt><dd>0</dd></dl>\n"
      ],
      "text/latex": [
       "\\begin{description*}\n",
       "\\item[wm\\textbackslash{}\\_yr\\textbackslash{}\\_wk] 0\n",
       "\\item[ventas] 0\n",
       "\\item[sell\\textbackslash{}\\_price] 0\n",
       "\\end{description*}\n"
      ],
      "text/markdown": [
       "wm_yr_wk\n",
       ":   0ventas\n",
       ":   0sell_price\n",
       ":   0\n",
       "\n"
      ],
      "text/plain": [
       "  wm_yr_wk     ventas sell_price \n",
       "         0          0          0 "
      ]
     },
     "metadata": {},
     "output_type": "display_data"
    }
   ],
   "source": [
    "sort(colSums(is.na(num)), decreasing = TRUE)"
   ]
  },
  {
   "cell_type": "markdown",
   "id": "af1b1084-bd96-4b7e-882b-1cbcb74c366a",
   "metadata": {},
   "source": [
    "Los nulos se han gestionado correctamente."
   ]
  },
  {
   "cell_type": "markdown",
   "id": "f9dc58f2-a30d-4f7b-9a68-ae2400600d42",
   "metadata": {},
   "source": [
    "Vamos a observar datos atípicos observando su comportamiento respecto a la desviación típica."
   ]
  },
  {
   "cell_type": "markdown",
   "id": "891931f0-383d-49cf-9836-74c6ad36adf2",
   "metadata": {},
   "source": [
    "Definimos una función para encontrar los índices de los valores que superan el umbral de desviaciones típicas que especifiquemos."
   ]
  },
  {
   "cell_type": "code",
   "execution_count": 42,
   "id": "31aa3e3c-cc1f-4d1a-a694-56408a26540b",
   "metadata": {},
   "outputs": [],
   "source": [
    "atipicos_desv_tip <- function(variable, num_desv_tip = 4) {\n",
    "    \n",
    "  variable <- na.omit(variable)\n",
    "  \n",
    "  media <- mean(variable)\n",
    "  sd <- sd(variable)\n",
    "  umbral <- sd * num_desv_tip\n",
    "    \n",
    "  lim_inf <- media - umbral\n",
    "  lim_sup <- media + umbral\n",
    "    \n",
    "  indices <- which(variable < lim_inf | variable > lim_sup)\n",
    "  \n",
    "  return(indices)\n",
    "}"
   ]
  },
  {
   "cell_type": "markdown",
   "id": "b885f8be-63ee-4e26-8dbf-11f9dfca44c9",
   "metadata": {},
   "source": [
    "Otra función, para una vez encontrados los índices, hacer el conteo:"
   ]
  },
  {
   "cell_type": "code",
   "execution_count": 43,
   "id": "a8f1e7c5-54ac-4ff8-ae02-b29352385fa0",
   "metadata": {},
   "outputs": [],
   "source": [
    "conteo_atipicos <- function(df, variable, num_desv_tip = 4) {\n",
    "\n",
    "  columna <- df[[variable]]\n",
    "  \n",
    "  indices_atipicos <- atipicos_desv_tip(columna, num_desv_tip)\n",
    "  \n",
    "  conteo <- table(columna[indices_atipicos])\n",
    "  \n",
    "  return(conteo)\n",
    "}"
   ]
  },
  {
   "cell_type": "markdown",
   "id": "b8bef7d6-0a5a-4934-b63a-067cf2ec6775",
   "metadata": {},
   "source": [
    "Especificamos las variables sobre las cuales explorar el número de atípicos."
   ]
  },
  {
   "cell_type": "code",
   "execution_count": 44,
   "id": "9fd2feea-4c16-41d6-aaaa-cd38cf0827fb",
   "metadata": {},
   "outputs": [],
   "source": [
    "var_atipicos_dt <- c(\"ventas\", \"sell_price\")"
   ]
  },
  {
   "cell_type": "code",
   "execution_count": 45,
   "id": "2c165179-604b-4c40-b2cd-0a52173349e3",
   "metadata": {},
   "outputs": [
    {
     "name": "stdout",
     "output_type": "stream",
     "text": [
      "\n",
      " ventas :\n",
      "\n",
      "186 187 188 189 191 192 193 194 195 196 197 198 200 201 202 203 204 205 206 207 \n",
      "  2   2   4   4   2   6   5   2   3   3   2   4   3   2   3   5   2   4   3   2 \n",
      "208 210 211 212 213 214 215 216 217 219 221 224 225 226 227 228 229 230 231 232 \n",
      "  4   4   3   2   2   2   2   4   3   3   1   2   2   4   2   2   1   1   1   2 \n",
      "233 234 235 237 239 241 243 244 245 246 249 250 252 254 255 256 257 258 260 261 \n",
      "  2   3   2   1   1   3   2   1   4   1   2   1   2   1   1   1   4   1   1   2 \n",
      "264 265 266 268 270 272 275 276 278 281 286 287 289 290 291 292 294 300 301 303 \n",
      "  1   1   1   3   1   1   1   2   2   1   1   1   1   1   1   1   1   3   1   1 \n",
      "305 310 317 324 325 328 331 335 337 340 351 357 362 374 376 381 384 391 439 446 \n",
      "  1   2   1   1   1   1   1   1   1   1   1   1   2   1   1   1   1   1   1   1 \n",
      "461 469 470 489 491 498 504 532 544 554 613 620 709 763 \n",
      "  1   1   1   1   1   1   1   1   1   1   1   1   2   1 \n",
      "\n",
      " sell_price :\n",
      "< table of extent 0 >\n"
     ]
    }
   ],
   "source": [
    "for (variable in var_atipicos_dt) {\n",
    "  cat(\"\\n\", variable, \":\\n\")\n",
    "  print(conteo_atipicos(num, variable, num_desv_tip = 4))\n",
    "}"
   ]
  },
  {
   "cell_type": "code",
   "execution_count": 81,
   "id": "c3dd0123-ec4e-4a54-b017-563ff643a48d",
   "metadata": {},
   "outputs": [
    {
     "data": {
      "image/png": "[encoded data removed]",
      "text/plain": [
       "plot without title"
      ]
     },
     "metadata": {
      "image/png": {
       "height": 600,
       "width": 1200
      }
     },
     "output_type": "display_data"
    }
   ],
   "source": [
    "# Ajustar tamaño del gráfico\n",
    "options(repr.plot.width=20, repr.plot.height=10)\n",
    "\n",
    "ggplot(num, aes(x = ventas)) +\n",
    "  geom_histogram(binwidth = 10, fill = \"skyblue\", color = \"black\", alpha = 0.7) +\n",
    "  labs(title = \"Distribución de Ventas\", x = \"Ventas\", y = \"Frecuencia\") +\n",
    "  theme_minimal() +\n",
    "  theme(\n",
    "    plot.title = element_text(hjust = 0.5, size = 20),\n",
    "    axis.text.x = element_text(size = 15), \n",
    "    axis.text.y = element_text(size = 15),  \n",
    "    axis.title.x = element_text(size = 20),\n",
    "    axis.title.y = element_text(size = 20)\n",
    "  )"
   ]
  },
  {
   "cell_type": "markdown",
   "id": "6ca93826-2192-43ef-993e-69762cfd7d4e",
   "metadata": {},
   "source": [
    "Se puede ver que la tendencia de las compras se acumula en la parte izquierda desde 0 a 200 compras y después se atenua, disminuyendo la frecuencia en valores más elevados. En escenarios de retail puede deberse a ventas a mayoristas, siendo estos menores que los usuarios individuales que concentran la mayor parte de las compras."
   ]
  },
  {
   "cell_type": "markdown",
   "id": "9439ec1f-7c1c-4782-94b4-d19b1d0e8f3a",
   "metadata": {},
   "source": [
    "Guardamos las variables tras el procesado."
   ]
  },
  {
   "cell_type": "code",
   "execution_count": 87,
   "id": "a3bbb133-a113-4be2-8ab3-0968f30a91d6",
   "metadata": {},
   "outputs": [],
   "source": [
    "saveRDS(df, file = \"../022_Variables/df.rds\")\n",
    "saveRDS(num, file = \"../022_Variables/num.rds\")\n",
    "saveRDS(cat, file = \"../022_Variables/cat.rds\")"
   ]
  },
  {
   "cell_type": "code",
   "execution_count": null,
   "id": "f999fae3-a10a-43a3-9a00-e7a62cae7866",
   "metadata": {},
   "outputs": [],
   "source": []
  }
 ],
 "metadata": {
  "kernelspec": {
   "display_name": "sales_forecasting",
   "language": "R",
   "name": "ir"
  },
  "language_info": {
   "codemirror_mode": "r",
   "file_extension": ".r",
   "mimetype": "text/x-r-source",
   "name": "R",
   "pygments_lexer": "r",
   "version": "4.3.3"
  }
 },
 "nbformat": 4,
 "nbformat_minor": 5
}
