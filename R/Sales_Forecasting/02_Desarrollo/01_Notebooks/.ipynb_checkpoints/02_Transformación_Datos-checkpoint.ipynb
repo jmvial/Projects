{
 "cells": [
  {
   "cell_type": "code",
   "execution_count": 26,
   "id": "a5cb8dfb-9351-4ba8-ac56-05045e3bc8be",
   "metadata": {},
   "outputs": [],
   "source": [
    "library(ggplot2)\n",
    "library(dplyr)\n",
    "library(tidyr)\n",
    "library(magrittr)\n",
    "library(zoo)\n",
    "library(purrr)"
   ]
  },
  {
   "cell_type": "markdown",
   "id": "42c84e8c-4356-477d-b957-27d2b6cd3746",
   "metadata": {},
   "source": [
    "Cargamos los datos:"
   ]
  },
  {
   "cell_type": "code",
   "execution_count": 27,
   "id": "e8cc873b-9a67-40af-9741-fc4a09fcbb3d",
   "metadata": {},
   "outputs": [],
   "source": [
    "cat = readRDS('../022_Variables/cat.rds')\n",
    "num = readRDS('../022_Variables/num.rds')"
   ]
  },
  {
   "cell_type": "markdown",
   "id": "d31af277-8ea3-4a78-96a8-e466718489fa",
   "metadata": {},
   "source": [
    "Unimos ambas dos variables de nuevo en un dataframe."
   ]
  },
  {
   "cell_type": "code",
   "execution_count": 28,
   "id": "1daf7633-0bfc-49bd-8a86-a508f4ba71e5",
   "metadata": {},
   "outputs": [],
   "source": [
    "df = bind_cols(cat, num)"
   ]
  },
  {
   "cell_type": "code",
   "execution_count": 29,
   "id": "0e229145-4b36-4fcb-a7e7-9041e9ae0321",
   "metadata": {},
   "outputs": [
    {
     "data": {
      "text/html": [
       "<table class=\"dataframe\">\n",
       "<caption>A tibble: 6 × 13</caption>\n",
       "<thead>\n",
       "\t<tr><th scope=col>date</th><th scope=col>store_id</th><th scope=col>item_id</th><th scope=col>d</th><th scope=col>year</th><th scope=col>month</th><th scope=col>wday</th><th scope=col>weekday</th><th scope=col>event_name_1</th><th scope=col>event_type_1</th><th scope=col>wm_yr_wk</th><th scope=col>ventas</th><th scope=col>sell_price</th></tr>\n",
       "\t<tr><th scope=col>&lt;date&gt;</th><th scope=col>&lt;chr&gt;</th><th scope=col>&lt;chr&gt;</th><th scope=col>&lt;chr&gt;</th><th scope=col>&lt;chr&gt;</th><th scope=col>&lt;chr&gt;</th><th scope=col>&lt;chr&gt;</th><th scope=col>&lt;chr&gt;</th><th scope=col>&lt;chr&gt;</th><th scope=col>&lt;chr&gt;</th><th scope=col>&lt;int&gt;</th><th scope=col>&lt;int&gt;</th><th scope=col>&lt;dbl&gt;</th></tr>\n",
       "</thead>\n",
       "<tbody>\n",
       "\t<tr><td>2013-01-01</td><td>CA_3</td><td>FOODS_3_090</td><td>d_704</td><td>2013</td><td>1</td><td>4</td><td>Tuesday  </td><td>NewYear   </td><td>National  </td><td>11249</td><td>  0</td><td>1.25</td></tr>\n",
       "\t<tr><td>2013-01-02</td><td>CA_3</td><td>FOODS_3_090</td><td>d_705</td><td>2013</td><td>1</td><td>5</td><td>Wednesday</td><td>Sin_evento</td><td>Sin_evento</td><td>11249</td><td>224</td><td>1.25</td></tr>\n",
       "\t<tr><td>2013-01-03</td><td>CA_3</td><td>FOODS_3_090</td><td>d_706</td><td>2013</td><td>1</td><td>6</td><td>Thursday </td><td>Sin_evento</td><td>Sin_evento</td><td>11249</td><td>241</td><td>1.25</td></tr>\n",
       "\t<tr><td>2013-01-04</td><td>CA_3</td><td>FOODS_3_090</td><td>d_707</td><td>2013</td><td>1</td><td>7</td><td>Friday   </td><td>Sin_evento</td><td>Sin_evento</td><td>11249</td><td>232</td><td>1.25</td></tr>\n",
       "\t<tr><td>2013-01-05</td><td>CA_3</td><td>FOODS_3_090</td><td>d_708</td><td>2013</td><td>1</td><td>1</td><td>Saturday </td><td>Sin_evento</td><td>Sin_evento</td><td>11250</td><td>301</td><td>1.25</td></tr>\n",
       "\t<tr><td>2013-01-06</td><td>CA_3</td><td>FOODS_3_090</td><td>d_709</td><td>2013</td><td>1</td><td>2</td><td>Sunday   </td><td>Sin_evento</td><td>Sin_evento</td><td>11250</td><td>270</td><td>1.25</td></tr>\n",
       "</tbody>\n",
       "</table>\n"
      ],
      "text/latex": [
       "A tibble: 6 × 13\n",
       "\\begin{tabular}{lllllllllllll}\n",
       " date & store\\_id & item\\_id & d & year & month & wday & weekday & event\\_name\\_1 & event\\_type\\_1 & wm\\_yr\\_wk & ventas & sell\\_price\\\\\n",
       " <date> & <chr> & <chr> & <chr> & <chr> & <chr> & <chr> & <chr> & <chr> & <chr> & <int> & <int> & <dbl>\\\\\n",
       "\\hline\n",
       "\t 2013-01-01 & CA\\_3 & FOODS\\_3\\_090 & d\\_704 & 2013 & 1 & 4 & Tuesday   & NewYear    & National   & 11249 &   0 & 1.25\\\\\n",
       "\t 2013-01-02 & CA\\_3 & FOODS\\_3\\_090 & d\\_705 & 2013 & 1 & 5 & Wednesday & Sin\\_evento & Sin\\_evento & 11249 & 224 & 1.25\\\\\n",
       "\t 2013-01-03 & CA\\_3 & FOODS\\_3\\_090 & d\\_706 & 2013 & 1 & 6 & Thursday  & Sin\\_evento & Sin\\_evento & 11249 & 241 & 1.25\\\\\n",
       "\t 2013-01-04 & CA\\_3 & FOODS\\_3\\_090 & d\\_707 & 2013 & 1 & 7 & Friday    & Sin\\_evento & Sin\\_evento & 11249 & 232 & 1.25\\\\\n",
       "\t 2013-01-05 & CA\\_3 & FOODS\\_3\\_090 & d\\_708 & 2013 & 1 & 1 & Saturday  & Sin\\_evento & Sin\\_evento & 11250 & 301 & 1.25\\\\\n",
       "\t 2013-01-06 & CA\\_3 & FOODS\\_3\\_090 & d\\_709 & 2013 & 1 & 2 & Sunday    & Sin\\_evento & Sin\\_evento & 11250 & 270 & 1.25\\\\\n",
       "\\end{tabular}\n"
      ],
      "text/markdown": [
       "\n",
       "A tibble: 6 × 13\n",
       "\n",
       "| date &lt;date&gt; | store_id &lt;chr&gt; | item_id &lt;chr&gt; | d &lt;chr&gt; | year &lt;chr&gt; | month &lt;chr&gt; | wday &lt;chr&gt; | weekday &lt;chr&gt; | event_name_1 &lt;chr&gt; | event_type_1 &lt;chr&gt; | wm_yr_wk &lt;int&gt; | ventas &lt;int&gt; | sell_price &lt;dbl&gt; |\n",
       "|---|---|---|---|---|---|---|---|---|---|---|---|---|\n",
       "| 2013-01-01 | CA_3 | FOODS_3_090 | d_704 | 2013 | 1 | 4 | Tuesday   | NewYear    | National   | 11249 |   0 | 1.25 |\n",
       "| 2013-01-02 | CA_3 | FOODS_3_090 | d_705 | 2013 | 1 | 5 | Wednesday | Sin_evento | Sin_evento | 11249 | 224 | 1.25 |\n",
       "| 2013-01-03 | CA_3 | FOODS_3_090 | d_706 | 2013 | 1 | 6 | Thursday  | Sin_evento | Sin_evento | 11249 | 241 | 1.25 |\n",
       "| 2013-01-04 | CA_3 | FOODS_3_090 | d_707 | 2013 | 1 | 7 | Friday    | Sin_evento | Sin_evento | 11249 | 232 | 1.25 |\n",
       "| 2013-01-05 | CA_3 | FOODS_3_090 | d_708 | 2013 | 1 | 1 | Saturday  | Sin_evento | Sin_evento | 11250 | 301 | 1.25 |\n",
       "| 2013-01-06 | CA_3 | FOODS_3_090 | d_709 | 2013 | 1 | 2 | Sunday    | Sin_evento | Sin_evento | 11250 | 270 | 1.25 |\n",
       "\n"
      ],
      "text/plain": [
       "  date       store_id item_id     d     year month wday weekday   event_name_1\n",
       "1 2013-01-01 CA_3     FOODS_3_090 d_704 2013 1     4    Tuesday   NewYear     \n",
       "2 2013-01-02 CA_3     FOODS_3_090 d_705 2013 1     5    Wednesday Sin_evento  \n",
       "3 2013-01-03 CA_3     FOODS_3_090 d_706 2013 1     6    Thursday  Sin_evento  \n",
       "4 2013-01-04 CA_3     FOODS_3_090 d_707 2013 1     7    Friday    Sin_evento  \n",
       "5 2013-01-05 CA_3     FOODS_3_090 d_708 2013 1     1    Saturday  Sin_evento  \n",
       "6 2013-01-06 CA_3     FOODS_3_090 d_709 2013 1     2    Sunday    Sin_evento  \n",
       "  event_type_1 wm_yr_wk ventas sell_price\n",
       "1 National     11249      0    1.25      \n",
       "2 Sin_evento   11249    224    1.25      \n",
       "3 Sin_evento   11249    241    1.25      \n",
       "4 Sin_evento   11249    232    1.25      \n",
       "5 Sin_evento   11250    301    1.25      \n",
       "6 Sin_evento   11250    270    1.25      "
      ]
     },
     "metadata": {},
     "output_type": "display_data"
    }
   ],
   "source": [
    "df %>% head()"
   ]
  },
  {
   "cell_type": "markdown",
   "id": "bd68e1f3-9fee-4f30-bb1c-918495ecfca2",
   "metadata": {},
   "source": [
    "Vamos a crear primero variables sintéticas que nos ayudarán con la fase de forecasting. Después haremos transformaciones sobre las propias variables para que sean aptas para el modelo de Deep Learning."
   ]
  },
  {
   "cell_type": "markdown",
   "id": "e5d73756-0d7a-44ab-9591-c30e3ddc827c",
   "metadata": {},
   "source": [
    "Identificamos los momentos donde haya podido haber rotura de stock,, es decir, ventas cero durante un periodo."
   ]
  },
  {
   "cell_type": "markdown",
   "id": "d8881436-21dc-4c12-86f7-72f865cbcf65",
   "metadata": {},
   "source": [
    "Definimos una función para identificar la rotura de stock, donde primeramente se identifiquen los días donde no haya habido ventas con un flag de 1/0, después a través del parámetro n que establecemos en 5 días como primera aproximación, definimos la rotura de stock, cuando en 5 días no ha habido ventas, para hacer conteo de esto, hacemos una suma móvil donde capturemos la información de esos cinco días (ó n), después confirmamos sí hay (ó no), rotura de stock."
   ]
  },
  {
   "cell_type": "code",
   "execution_count": 30,
   "id": "3719470f-850d-40b5-8d51-9f131203aa80",
   "metadata": {},
   "outputs": [],
   "source": [
    "rotura_stock <- function(ventas, n = 5) {\n",
    " \n",
    "  cero_ventas <- ifelse(ventas == 0, 1, 0)\n",
    "  \n",
    "  num_ceros <- zoo::rollsum(cero_ventas, k = n, fill = 0, align = \"right\")\n",
    "  \n",
    "  rotura_stock <- ifelse(num_ceros == n, 1, 0)\n",
    "  \n",
    "  return(rotura_stock)\n",
    "}"
   ]
  },
  {
   "cell_type": "markdown",
   "id": "f72c89a4-3a83-48d3-b770-3a429a2642fc",
   "metadata": {},
   "source": [
    "Variamos el parámetro n, para crear variables sintéticas de rotura de stock para 3, 7 y 15 días respectivamente."
   ]
  },
  {
   "cell_type": "code",
   "execution_count": 31,
   "id": "410a092e-f5f5-4caa-a9dc-c0fda1bb2b23",
   "metadata": {},
   "outputs": [],
   "source": [
    "df = df %>% arrange(store_id, item_id, date) %>%  group_by(store_id, item_id) %>% mutate(\n",
    "    rotura_stock_3 = rotura_stock(ventas, 3),\n",
    "    rotura_stock_7 = rotura_stock(ventas, 7),\n",
    "    rotura_stock_15 = rotura_stock(ventas, 15) ) %>% ungroup()"
   ]
  },
  {
   "cell_type": "markdown",
   "id": "4d1a4447-2141-4308-be4b-91395a2df78c",
   "metadata": {},
   "source": [
    "Comprobamos la creación."
   ]
  },
  {
   "cell_type": "code",
   "execution_count": null,
   "id": "88be4ed7-2c56-42fc-9edd-6397db3b3dd3",
   "metadata": {},
   "outputs": [],
   "source": [
    "df %>% filter(rotura_stock_3 == 1 | rotura_stock_7 == 1) %>% select(date, rotura_stock_3, rotura_stock_7) %>%  head(10)"
   ]
  },
  {
   "cell_type": "markdown",
   "id": "8fb31fff-719f-4695-90cf-ea340b045856",
   "metadata": {},
   "source": [
    "Vamos a crear variables tipo lag sobre rotura de stock, sell_price y ventas."
   ]
  },
  {
   "cell_type": "markdown",
   "id": "b56f6798-ae22-4fa8-8e0f-b4dc85417755",
   "metadata": {},
   "source": [
    "Creamos una función para definir los lags:"
   ]
  },
  {
   "cell_type": "code",
   "execution_count": 8,
   "id": "61dfd9c8-3767-41bf-bd59-55bd6034d629",
   "metadata": {},
   "outputs": [],
   "source": [
    "crear_lags = function(df, variable, num_lags = 7) {\n",
    "  \n",
    "  variable_name = deparse(substitute(variable))\n",
    "  \n",
    "  lags = data.frame(matrix(ncol = num_lags, nrow = nrow(df)))\n",
    "  colnames(lags) = paste0(variable_name, \"_lag_\", 1:num_lags)\n",
    " \n",
    "  for (elemento in 1:num_lags) {\n",
    "    lag_name = colnames(lags)[elemento]\n",
    "    lags[[lag_name]] = dplyr::lag(df[[variable_name]], n = elemento)\n",
    "  }\n",
    "  \n",
    "  return(lags)\n",
    "}\n"
   ]
  },
  {
   "cell_type": "markdown",
   "id": "40b2cf1f-b082-4e1d-ab82-119ac93bc64b",
   "metadata": {},
   "source": [
    "Definimos lags de dos semanas para ventas, de una semana para sell_price y de un día para las variables de rotura de stock."
   ]
  },
  {
   "cell_type": "code",
   "execution_count": 9,
   "id": "0d10ba1c-42c9-4d36-83a7-d042f2913004",
   "metadata": {},
   "outputs": [],
   "source": [
    "lags_sell_price = crear_lags(df, sell_price, 7)\n",
    "lags_ventas = crear_lags(df, ventas, 15)\n",
    "lags_rotura_stock_3 = crear_lags(df, rotura_stock_3, 1)\n",
    "lags_rotura_stock_7 = crear_lags(df, rotura_stock_7, 1)\n",
    "lags_rotura_stock_15 = crear_lags(df, rotura_stock_15, 1)"
   ]
  },
  {
   "cell_type": "markdown",
   "id": "f836e901-f98d-40f3-bffe-fdb1de0442f2",
   "metadata": {},
   "source": [
    "Creamos funciones para definir las operaciones móviles, que serán media, mínimo y máximo."
   ]
  },
  {
   "cell_type": "code",
   "execution_count": 10,
   "id": "8cde117c-156a-4dc9-b797-af3cdac05867",
   "metadata": {},
   "outputs": [],
   "source": [
    "min_movil = function(df, variable, num_periodos = 7) {\n",
    "  \n",
    "  variable_name = deparse(substitute(variable))\n",
    "  \n",
    "  minm = data.frame(matrix(ncol = num_periodos - 1, nrow = nrow(df)))\n",
    "  colnames(minm) = paste0(variable_name, \"_minm_\", 2:num_periodos)\n",
    " \n",
    "  for (elemento in 2:num_periodos) {\n",
    "    min_name = colnames(minm)[elemento - 1]\n",
    "    minm[[min_name]] = rollapply(df[[variable_name]], width = elemento, FUN = min, fill = NA, align = 'right')\n",
    "  }\n",
    "  \n",
    "  return(minm)\n",
    "}"
   ]
  },
  {
   "cell_type": "code",
   "execution_count": 11,
   "id": "bd372b62-7e68-431e-8e44-3757fa3ff68e",
   "metadata": {},
   "outputs": [],
   "source": [
    "media_movil = function(df, variable, num_periodos = 7) {\n",
    "  \n",
    "  variable_name = deparse(substitute(variable))\n",
    "  \n",
    "  media = data.frame(matrix(ncol = num_periodos - 1, nrow = nrow(df)))\n",
    "  colnames(media) = paste0(variable_name, \"_media_\", 2:num_periodos)\n",
    " \n",
    "  for (elemento in 2:num_periodos) {\n",
    "    media_name = colnames(media)[elemento - 1]\n",
    "    media[[media_name]] = rollapply(df[[variable_name]], width = elemento, FUN = mean, fill = NA, align = 'right')\n",
    "  }\n",
    "  \n",
    "  return(media)\n",
    "}"
   ]
  },
  {
   "cell_type": "code",
   "execution_count": 12,
   "id": "b764e450-f110-415f-8738-1bf7d68b5faf",
   "metadata": {},
   "outputs": [],
   "source": [
    "max_movil = function(df, variable, num_periodos = 7) {\n",
    "  \n",
    "  variable_name = deparse(substitute(variable))\n",
    "  \n",
    "  maxm = data.frame(matrix(ncol = num_periodos - 1, nrow = nrow(df)))\n",
    "  colnames(maxm) = paste0(variable_name, \"_max_\", 2:num_periodos)\n",
    " \n",
    "  for (elemento in 2:num_periodos) {\n",
    "    max_name = colnames(maxm)[elemento - 1]\n",
    "    maxm[[max_name]] = rollapply(df[[variable_name]], width = elemento, FUN = max, fill = NA, align = 'right')\n",
    "  }\n",
    "  \n",
    "  return(maxm)\n",
    "}"
   ]
  },
  {
   "cell_type": "markdown",
   "id": "91df409c-35d8-433b-a054-be8f23f3dab7",
   "metadata": {},
   "source": [
    "Creamos para ventas, ventanas de 15 periodos en las tres funciones anteriores."
   ]
  },
  {
   "cell_type": "code",
   "execution_count": 13,
   "id": "2fe265de-1484-4c7e-abba-aceb288d2cf3",
   "metadata": {},
   "outputs": [],
   "source": [
    "media_movil_df = media_movil(df, ventas, 15)\n",
    "min_movil_df = min_movil(df, ventas, 15)\n",
    "max_movil_df = max_movil(df, ventas, 15)"
   ]
  },
  {
   "cell_type": "markdown",
   "id": "6bdc6818-6e4f-4976-aad9-0bf405141d70",
   "metadata": {},
   "source": [
    "Unimos todos los dataframes creados anteriormente a df y eliminamos registros duplicados."
   ]
  },
  {
   "cell_type": "code",
   "execution_count": 14,
   "id": "6c2247f6-754e-4672-8434-0dce887722b8",
   "metadata": {},
   "outputs": [],
   "source": [
    "df_total = bind_cols(df,\n",
    "                      lags_sell_price,\n",
    "                      lags_rotura_stock_3,\n",
    "                      lags_rotura_stock_7,\n",
    "                      lags_rotura_stock_15,\n",
    "                      lags_ventas,\n",
    "                      min_movil_df,\n",
    "                      media_movil_df,\n",
    "                      max_movil_df)"
   ]
  },
  {
   "cell_type": "code",
   "execution_count": 15,
   "id": "38ed333e-20b3-4353-9b3d-b998a978b68d",
   "metadata": {},
   "outputs": [],
   "source": [
    "df_total = df_total[, !duplicated(names(df_total))]"
   ]
  },
  {
   "cell_type": "code",
   "execution_count": 16,
   "id": "651902f0-2361-4fa5-a357-43e5d84e7bc1",
   "metadata": {},
   "outputs": [
    {
     "data": {
      "text/html": [
       "<table class=\"dataframe\">\n",
       "<caption>A tibble: 10 × 83</caption>\n",
       "<thead>\n",
       "\t<tr><th scope=col>date</th><th scope=col>store_id</th><th scope=col>item_id</th><th scope=col>d</th><th scope=col>year</th><th scope=col>month</th><th scope=col>wday</th><th scope=col>weekday</th><th scope=col>event_name_1</th><th scope=col>event_type_1</th><th scope=col>⋯</th><th scope=col>ventas_max_6</th><th scope=col>ventas_max_7</th><th scope=col>ventas_max_8</th><th scope=col>ventas_max_9</th><th scope=col>ventas_max_10</th><th scope=col>ventas_max_11</th><th scope=col>ventas_max_12</th><th scope=col>ventas_max_13</th><th scope=col>ventas_max_14</th><th scope=col>ventas_max_15</th></tr>\n",
       "\t<tr><th scope=col>&lt;date&gt;</th><th scope=col>&lt;chr&gt;</th><th scope=col>&lt;chr&gt;</th><th scope=col>&lt;chr&gt;</th><th scope=col>&lt;chr&gt;</th><th scope=col>&lt;chr&gt;</th><th scope=col>&lt;chr&gt;</th><th scope=col>&lt;chr&gt;</th><th scope=col>&lt;chr&gt;</th><th scope=col>&lt;chr&gt;</th><th scope=col>⋯</th><th scope=col>&lt;dbl&gt;</th><th scope=col>&lt;dbl&gt;</th><th scope=col>&lt;dbl&gt;</th><th scope=col>&lt;dbl&gt;</th><th scope=col>&lt;dbl&gt;</th><th scope=col>&lt;dbl&gt;</th><th scope=col>&lt;dbl&gt;</th><th scope=col>&lt;dbl&gt;</th><th scope=col>&lt;dbl&gt;</th><th scope=col>&lt;dbl&gt;</th></tr>\n",
       "</thead>\n",
       "<tbody>\n",
       "\t<tr><td>2013-01-01</td><td>CA_3</td><td>FOODS_3_090</td><td>d_704</td><td>2013</td><td>1</td><td>4</td><td>Tuesday  </td><td>NewYear          </td><td>National  </td><td>⋯</td><td> NA</td><td> NA</td><td> NA</td><td> NA</td><td> NA</td><td>NA</td><td>NA</td><td>NA</td><td>NA</td><td>NA</td></tr>\n",
       "\t<tr><td>2013-01-02</td><td>CA_3</td><td>FOODS_3_090</td><td>d_705</td><td>2013</td><td>1</td><td>5</td><td>Wednesday</td><td>Sin_evento       </td><td>Sin_evento</td><td>⋯</td><td> NA</td><td> NA</td><td> NA</td><td> NA</td><td> NA</td><td>NA</td><td>NA</td><td>NA</td><td>NA</td><td>NA</td></tr>\n",
       "\t<tr><td>2013-01-03</td><td>CA_3</td><td>FOODS_3_090</td><td>d_706</td><td>2013</td><td>1</td><td>6</td><td>Thursday </td><td>Sin_evento       </td><td>Sin_evento</td><td>⋯</td><td> NA</td><td> NA</td><td> NA</td><td> NA</td><td> NA</td><td>NA</td><td>NA</td><td>NA</td><td>NA</td><td>NA</td></tr>\n",
       "\t<tr><td>2013-01-04</td><td>CA_3</td><td>FOODS_3_090</td><td>d_707</td><td>2013</td><td>1</td><td>7</td><td>Friday   </td><td>Sin_evento       </td><td>Sin_evento</td><td>⋯</td><td> NA</td><td> NA</td><td> NA</td><td> NA</td><td> NA</td><td>NA</td><td>NA</td><td>NA</td><td>NA</td><td>NA</td></tr>\n",
       "\t<tr><td>2013-01-05</td><td>CA_3</td><td>FOODS_3_090</td><td>d_708</td><td>2013</td><td>1</td><td>1</td><td>Saturday </td><td>Sin_evento       </td><td>Sin_evento</td><td>⋯</td><td> NA</td><td> NA</td><td> NA</td><td> NA</td><td> NA</td><td>NA</td><td>NA</td><td>NA</td><td>NA</td><td>NA</td></tr>\n",
       "\t<tr><td>2013-01-06</td><td>CA_3</td><td>FOODS_3_090</td><td>d_709</td><td>2013</td><td>1</td><td>2</td><td>Sunday   </td><td>Sin_evento       </td><td>Sin_evento</td><td>⋯</td><td>301</td><td> NA</td><td> NA</td><td> NA</td><td> NA</td><td>NA</td><td>NA</td><td>NA</td><td>NA</td><td>NA</td></tr>\n",
       "\t<tr><td>2013-01-07</td><td>CA_3</td><td>FOODS_3_090</td><td>d_710</td><td>2013</td><td>1</td><td>3</td><td>Monday   </td><td>OrthodoxChristmas</td><td>Religious </td><td>⋯</td><td>301</td><td>301</td><td> NA</td><td> NA</td><td> NA</td><td>NA</td><td>NA</td><td>NA</td><td>NA</td><td>NA</td></tr>\n",
       "\t<tr><td>2013-01-08</td><td>CA_3</td><td>FOODS_3_090</td><td>d_711</td><td>2013</td><td>1</td><td>4</td><td>Tuesday  </td><td>Sin_evento       </td><td>Sin_evento</td><td>⋯</td><td>301</td><td>301</td><td>301</td><td> NA</td><td> NA</td><td>NA</td><td>NA</td><td>NA</td><td>NA</td><td>NA</td></tr>\n",
       "\t<tr><td>2013-01-09</td><td>CA_3</td><td>FOODS_3_090</td><td>d_712</td><td>2013</td><td>1</td><td>5</td><td>Wednesday</td><td>Sin_evento       </td><td>Sin_evento</td><td>⋯</td><td>301</td><td>301</td><td>301</td><td>301</td><td> NA</td><td>NA</td><td>NA</td><td>NA</td><td>NA</td><td>NA</td></tr>\n",
       "\t<tr><td>2013-01-10</td><td>CA_3</td><td>FOODS_3_090</td><td>d_713</td><td>2013</td><td>1</td><td>6</td><td>Thursday </td><td>Sin_evento       </td><td>Sin_evento</td><td>⋯</td><td>301</td><td>301</td><td>301</td><td>301</td><td>301</td><td>NA</td><td>NA</td><td>NA</td><td>NA</td><td>NA</td></tr>\n",
       "</tbody>\n",
       "</table>\n"
      ],
      "text/latex": [
       "A tibble: 10 × 83\n",
       "\\begin{tabular}{lllllllllllllllllllll}\n",
       " date & store\\_id & item\\_id & d & year & month & wday & weekday & event\\_name\\_1 & event\\_type\\_1 & ⋯ & ventas\\_max\\_6 & ventas\\_max\\_7 & ventas\\_max\\_8 & ventas\\_max\\_9 & ventas\\_max\\_10 & ventas\\_max\\_11 & ventas\\_max\\_12 & ventas\\_max\\_13 & ventas\\_max\\_14 & ventas\\_max\\_15\\\\\n",
       " <date> & <chr> & <chr> & <chr> & <chr> & <chr> & <chr> & <chr> & <chr> & <chr> & ⋯ & <dbl> & <dbl> & <dbl> & <dbl> & <dbl> & <dbl> & <dbl> & <dbl> & <dbl> & <dbl>\\\\\n",
       "\\hline\n",
       "\t 2013-01-01 & CA\\_3 & FOODS\\_3\\_090 & d\\_704 & 2013 & 1 & 4 & Tuesday   & NewYear           & National   & ⋯ &  NA &  NA &  NA &  NA &  NA & NA & NA & NA & NA & NA\\\\\n",
       "\t 2013-01-02 & CA\\_3 & FOODS\\_3\\_090 & d\\_705 & 2013 & 1 & 5 & Wednesday & Sin\\_evento        & Sin\\_evento & ⋯ &  NA &  NA &  NA &  NA &  NA & NA & NA & NA & NA & NA\\\\\n",
       "\t 2013-01-03 & CA\\_3 & FOODS\\_3\\_090 & d\\_706 & 2013 & 1 & 6 & Thursday  & Sin\\_evento        & Sin\\_evento & ⋯ &  NA &  NA &  NA &  NA &  NA & NA & NA & NA & NA & NA\\\\\n",
       "\t 2013-01-04 & CA\\_3 & FOODS\\_3\\_090 & d\\_707 & 2013 & 1 & 7 & Friday    & Sin\\_evento        & Sin\\_evento & ⋯ &  NA &  NA &  NA &  NA &  NA & NA & NA & NA & NA & NA\\\\\n",
       "\t 2013-01-05 & CA\\_3 & FOODS\\_3\\_090 & d\\_708 & 2013 & 1 & 1 & Saturday  & Sin\\_evento        & Sin\\_evento & ⋯ &  NA &  NA &  NA &  NA &  NA & NA & NA & NA & NA & NA\\\\\n",
       "\t 2013-01-06 & CA\\_3 & FOODS\\_3\\_090 & d\\_709 & 2013 & 1 & 2 & Sunday    & Sin\\_evento        & Sin\\_evento & ⋯ & 301 &  NA &  NA &  NA &  NA & NA & NA & NA & NA & NA\\\\\n",
       "\t 2013-01-07 & CA\\_3 & FOODS\\_3\\_090 & d\\_710 & 2013 & 1 & 3 & Monday    & OrthodoxChristmas & Religious  & ⋯ & 301 & 301 &  NA &  NA &  NA & NA & NA & NA & NA & NA\\\\\n",
       "\t 2013-01-08 & CA\\_3 & FOODS\\_3\\_090 & d\\_711 & 2013 & 1 & 4 & Tuesday   & Sin\\_evento        & Sin\\_evento & ⋯ & 301 & 301 & 301 &  NA &  NA & NA & NA & NA & NA & NA\\\\\n",
       "\t 2013-01-09 & CA\\_3 & FOODS\\_3\\_090 & d\\_712 & 2013 & 1 & 5 & Wednesday & Sin\\_evento        & Sin\\_evento & ⋯ & 301 & 301 & 301 & 301 &  NA & NA & NA & NA & NA & NA\\\\\n",
       "\t 2013-01-10 & CA\\_3 & FOODS\\_3\\_090 & d\\_713 & 2013 & 1 & 6 & Thursday  & Sin\\_evento        & Sin\\_evento & ⋯ & 301 & 301 & 301 & 301 & 301 & NA & NA & NA & NA & NA\\\\\n",
       "\\end{tabular}\n"
      ],
      "text/markdown": [
       "\n",
       "A tibble: 10 × 83\n",
       "\n",
       "| date &lt;date&gt; | store_id &lt;chr&gt; | item_id &lt;chr&gt; | d &lt;chr&gt; | year &lt;chr&gt; | month &lt;chr&gt; | wday &lt;chr&gt; | weekday &lt;chr&gt; | event_name_1 &lt;chr&gt; | event_type_1 &lt;chr&gt; | ⋯ ⋯ | ventas_max_6 &lt;dbl&gt; | ventas_max_7 &lt;dbl&gt; | ventas_max_8 &lt;dbl&gt; | ventas_max_9 &lt;dbl&gt; | ventas_max_10 &lt;dbl&gt; | ventas_max_11 &lt;dbl&gt; | ventas_max_12 &lt;dbl&gt; | ventas_max_13 &lt;dbl&gt; | ventas_max_14 &lt;dbl&gt; | ventas_max_15 &lt;dbl&gt; |\n",
       "|---|---|---|---|---|---|---|---|---|---|---|---|---|---|---|---|---|---|---|---|---|\n",
       "| 2013-01-01 | CA_3 | FOODS_3_090 | d_704 | 2013 | 1 | 4 | Tuesday   | NewYear           | National   | ⋯ |  NA |  NA |  NA |  NA |  NA | NA | NA | NA | NA | NA |\n",
       "| 2013-01-02 | CA_3 | FOODS_3_090 | d_705 | 2013 | 1 | 5 | Wednesday | Sin_evento        | Sin_evento | ⋯ |  NA |  NA |  NA |  NA |  NA | NA | NA | NA | NA | NA |\n",
       "| 2013-01-03 | CA_3 | FOODS_3_090 | d_706 | 2013 | 1 | 6 | Thursday  | Sin_evento        | Sin_evento | ⋯ |  NA |  NA |  NA |  NA |  NA | NA | NA | NA | NA | NA |\n",
       "| 2013-01-04 | CA_3 | FOODS_3_090 | d_707 | 2013 | 1 | 7 | Friday    | Sin_evento        | Sin_evento | ⋯ |  NA |  NA |  NA |  NA |  NA | NA | NA | NA | NA | NA |\n",
       "| 2013-01-05 | CA_3 | FOODS_3_090 | d_708 | 2013 | 1 | 1 | Saturday  | Sin_evento        | Sin_evento | ⋯ |  NA |  NA |  NA |  NA |  NA | NA | NA | NA | NA | NA |\n",
       "| 2013-01-06 | CA_3 | FOODS_3_090 | d_709 | 2013 | 1 | 2 | Sunday    | Sin_evento        | Sin_evento | ⋯ | 301 |  NA |  NA |  NA |  NA | NA | NA | NA | NA | NA |\n",
       "| 2013-01-07 | CA_3 | FOODS_3_090 | d_710 | 2013 | 1 | 3 | Monday    | OrthodoxChristmas | Religious  | ⋯ | 301 | 301 |  NA |  NA |  NA | NA | NA | NA | NA | NA |\n",
       "| 2013-01-08 | CA_3 | FOODS_3_090 | d_711 | 2013 | 1 | 4 | Tuesday   | Sin_evento        | Sin_evento | ⋯ | 301 | 301 | 301 |  NA |  NA | NA | NA | NA | NA | NA |\n",
       "| 2013-01-09 | CA_3 | FOODS_3_090 | d_712 | 2013 | 1 | 5 | Wednesday | Sin_evento        | Sin_evento | ⋯ | 301 | 301 | 301 | 301 |  NA | NA | NA | NA | NA | NA |\n",
       "| 2013-01-10 | CA_3 | FOODS_3_090 | d_713 | 2013 | 1 | 6 | Thursday  | Sin_evento        | Sin_evento | ⋯ | 301 | 301 | 301 | 301 | 301 | NA | NA | NA | NA | NA |\n",
       "\n"
      ],
      "text/plain": [
       "   date       store_id item_id     d     year month wday weekday  \n",
       "1  2013-01-01 CA_3     FOODS_3_090 d_704 2013 1     4    Tuesday  \n",
       "2  2013-01-02 CA_3     FOODS_3_090 d_705 2013 1     5    Wednesday\n",
       "3  2013-01-03 CA_3     FOODS_3_090 d_706 2013 1     6    Thursday \n",
       "4  2013-01-04 CA_3     FOODS_3_090 d_707 2013 1     7    Friday   \n",
       "5  2013-01-05 CA_3     FOODS_3_090 d_708 2013 1     1    Saturday \n",
       "6  2013-01-06 CA_3     FOODS_3_090 d_709 2013 1     2    Sunday   \n",
       "7  2013-01-07 CA_3     FOODS_3_090 d_710 2013 1     3    Monday   \n",
       "8  2013-01-08 CA_3     FOODS_3_090 d_711 2013 1     4    Tuesday  \n",
       "9  2013-01-09 CA_3     FOODS_3_090 d_712 2013 1     5    Wednesday\n",
       "10 2013-01-10 CA_3     FOODS_3_090 d_713 2013 1     6    Thursday \n",
       "   event_name_1      event_type_1 ⋯ ventas_max_6 ventas_max_7 ventas_max_8\n",
       "1  NewYear           National     ⋯  NA           NA           NA         \n",
       "2  Sin_evento        Sin_evento   ⋯  NA           NA           NA         \n",
       "3  Sin_evento        Sin_evento   ⋯  NA           NA           NA         \n",
       "4  Sin_evento        Sin_evento   ⋯  NA           NA           NA         \n",
       "5  Sin_evento        Sin_evento   ⋯  NA           NA           NA         \n",
       "6  Sin_evento        Sin_evento   ⋯ 301           NA           NA         \n",
       "7  OrthodoxChristmas Religious    ⋯ 301          301           NA         \n",
       "8  Sin_evento        Sin_evento   ⋯ 301          301          301         \n",
       "9  Sin_evento        Sin_evento   ⋯ 301          301          301         \n",
       "10 Sin_evento        Sin_evento   ⋯ 301          301          301         \n",
       "   ventas_max_9 ventas_max_10 ventas_max_11 ventas_max_12 ventas_max_13\n",
       "1   NA           NA           NA            NA            NA           \n",
       "2   NA           NA           NA            NA            NA           \n",
       "3   NA           NA           NA            NA            NA           \n",
       "4   NA           NA           NA            NA            NA           \n",
       "5   NA           NA           NA            NA            NA           \n",
       "6   NA           NA           NA            NA            NA           \n",
       "7   NA           NA           NA            NA            NA           \n",
       "8   NA           NA           NA            NA            NA           \n",
       "9  301           NA           NA            NA            NA           \n",
       "10 301          301           NA            NA            NA           \n",
       "   ventas_max_14 ventas_max_15\n",
       "1  NA            NA           \n",
       "2  NA            NA           \n",
       "3  NA            NA           \n",
       "4  NA            NA           \n",
       "5  NA            NA           \n",
       "6  NA            NA           \n",
       "7  NA            NA           \n",
       "8  NA            NA           \n",
       "9  NA            NA           \n",
       "10 NA            NA           "
      ]
     },
     "metadata": {},
     "output_type": "display_data"
    }
   ],
   "source": [
    "df_total %>% head(10)"
   ]
  },
  {
   "cell_type": "markdown",
   "id": "282ef2c3-2d99-4043-9b3b-0061582cffd1",
   "metadata": {},
   "source": [
    "Eliminamos los nulos generados con las operaciones de lags y móviles."
   ]
  },
  {
   "cell_type": "code",
   "execution_count": 17,
   "id": "e394f9f8-cbf2-4151-9e62-e2afc1dae7fe",
   "metadata": {},
   "outputs": [],
   "source": [
    "df_total = df_total %>% drop_na()"
   ]
  },
  {
   "cell_type": "markdown",
   "id": "6167a30c-ae5c-410a-8aab-939c6500c59c",
   "metadata": {},
   "source": [
    "Eliminamos las variables previas a las sintéticas que ya no sirven para el modelo."
   ]
  },
  {
   "cell_type": "code",
   "execution_count": 18,
   "id": "eb405720-a2f8-456a-adfd-c42b9a64f1da",
   "metadata": {},
   "outputs": [],
   "source": [
    "variables_eliminar = c('d','wm_yr_wk','sell_price','rotura_stock_3','rotura_stock_7','rotura_stock_15')"
   ]
  },
  {
   "cell_type": "code",
   "execution_count": 19,
   "id": "bf35adbe-0841-4f71-99aa-dea508e538b7",
   "metadata": {},
   "outputs": [],
   "source": [
    "df_total = df_total %>% select(-all_of(variables_eliminar))"
   ]
  },
  {
   "cell_type": "markdown",
   "id": "0551b6ce-cdb3-4e2b-8a8a-3dc6f6755b4f",
   "metadata": {},
   "source": [
    "A continuación, se procede a la transformación y escalado de las variables, pero previamente se separará por cat/num."
   ]
  },
  {
   "cell_type": "code",
   "execution_count": 20,
   "id": "04c173f0-462b-44b6-9736-4671cb0f72dc",
   "metadata": {},
   "outputs": [],
   "source": [
    "num = df_total %>% select(where(is.numeric))\n",
    "cat = df_total %>% select_if(~ !is.numeric(.))"
   ]
  },
  {
   "cell_type": "markdown",
   "id": "21da9818-56a3-4204-af82-2ba5c3adf6c0",
   "metadata": {},
   "source": [
    "## Transformación Variables"
   ]
  },
  {
   "cell_type": "markdown",
   "id": "2a79e557-51f5-4ba9-aacb-eb51935ac377",
   "metadata": {},
   "source": [
    "Hacemos One Hot Encoding sobre algunas variables categóricas y Target Encoding sobre otras."
   ]
  },
  {
   "cell_type": "markdown",
   "id": "f52f1326-beec-4a90-8324-8cda2af51e10",
   "metadata": {},
   "source": [
    "### One Hot Encoding"
   ]
  },
  {
   "cell_type": "code",
   "execution_count": 21,
   "id": "d759298f-414d-434f-8ad3-6ed063e54a4a",
   "metadata": {},
   "outputs": [],
   "source": [
    "var_ohe = c('year', 'month', 'wday', 'weekday', 'event_name_1', 'event_type_1')"
   ]
  },
  {
   "cell_type": "markdown",
   "id": "28cf7f1a-95d6-4527-9cda-99e8298813f7",
   "metadata": {},
   "source": [
    "Instanciamos el modelo y aplicamos OHE."
   ]
  },
  {
   "cell_type": "code",
   "execution_count": 22,
   "id": "fdc7ccb8-7b9d-4722-a5eb-d71e2c24b48c",
   "metadata": {},
   "outputs": [],
   "source": [
    "var_ohe_matrix = paste(\"~\", paste(var_ohe, collapse = \" + \"), \"- 1\")\n",
    "\n",
    "cat_ohe_matrix = model.matrix(as.formula(var_ohe_matrix), data = cat)"
   ]
  },
  {
   "cell_type": "markdown",
   "id": "58090084-cacb-4c36-966f-cb3aaff663dc",
   "metadata": {},
   "source": [
    "Lo convertimos en dataframe."
   ]
  },
  {
   "cell_type": "code",
   "execution_count": 23,
   "id": "4dc05251-5a31-4abf-ada6-4c74d89c4d8b",
   "metadata": {},
   "outputs": [],
   "source": [
    "cat_ohe = as.data.frame(cat_ohe_matrix)"
   ]
  },
  {
   "cell_type": "code",
   "execution_count": 24,
   "id": "724a4a93-2358-4bcc-975e-569dc9ffd79b",
   "metadata": {},
   "outputs": [
    {
     "data": {
      "text/html": [
       "<table class=\"dataframe\">\n",
       "<caption>A data.frame: 10 × 60</caption>\n",
       "<thead>\n",
       "\t<tr><th></th><th scope=col>year2013</th><th scope=col>year2014</th><th scope=col>year2015</th><th scope=col>month10</th><th scope=col>month11</th><th scope=col>month12</th><th scope=col>month2</th><th scope=col>month3</th><th scope=col>month4</th><th scope=col>month5</th><th scope=col>⋯</th><th scope=col>event_name_1Sin_evento</th><th scope=col>event_name_1StPatricksDay</th><th scope=col>event_name_1SuperBowl</th><th scope=col>event_name_1Thanksgiving</th><th scope=col>event_name_1ValentinesDay</th><th scope=col>event_name_1VeteransDay</th><th scope=col>event_type_1National</th><th scope=col>event_type_1Religious</th><th scope=col>event_type_1Sin_evento</th><th scope=col>event_type_1Sporting</th></tr>\n",
       "\t<tr><th></th><th scope=col>&lt;dbl&gt;</th><th scope=col>&lt;dbl&gt;</th><th scope=col>&lt;dbl&gt;</th><th scope=col>&lt;dbl&gt;</th><th scope=col>&lt;dbl&gt;</th><th scope=col>&lt;dbl&gt;</th><th scope=col>&lt;dbl&gt;</th><th scope=col>&lt;dbl&gt;</th><th scope=col>&lt;dbl&gt;</th><th scope=col>&lt;dbl&gt;</th><th scope=col>⋯</th><th scope=col>&lt;dbl&gt;</th><th scope=col>&lt;dbl&gt;</th><th scope=col>&lt;dbl&gt;</th><th scope=col>&lt;dbl&gt;</th><th scope=col>&lt;dbl&gt;</th><th scope=col>&lt;dbl&gt;</th><th scope=col>&lt;dbl&gt;</th><th scope=col>&lt;dbl&gt;</th><th scope=col>&lt;dbl&gt;</th><th scope=col>&lt;dbl&gt;</th></tr>\n",
       "</thead>\n",
       "<tbody>\n",
       "\t<tr><th scope=row>1</th><td>1</td><td>0</td><td>0</td><td>0</td><td>0</td><td>0</td><td>0</td><td>0</td><td>0</td><td>0</td><td>⋯</td><td>1</td><td>0</td><td>0</td><td>0</td><td>0</td><td>0</td><td>0</td><td>0</td><td>1</td><td>0</td></tr>\n",
       "\t<tr><th scope=row>2</th><td>1</td><td>0</td><td>0</td><td>0</td><td>0</td><td>0</td><td>0</td><td>0</td><td>0</td><td>0</td><td>⋯</td><td>1</td><td>0</td><td>0</td><td>0</td><td>0</td><td>0</td><td>0</td><td>0</td><td>1</td><td>0</td></tr>\n",
       "\t<tr><th scope=row>3</th><td>1</td><td>0</td><td>0</td><td>0</td><td>0</td><td>0</td><td>0</td><td>0</td><td>0</td><td>0</td><td>⋯</td><td>1</td><td>0</td><td>0</td><td>0</td><td>0</td><td>0</td><td>0</td><td>0</td><td>1</td><td>0</td></tr>\n",
       "\t<tr><th scope=row>4</th><td>1</td><td>0</td><td>0</td><td>0</td><td>0</td><td>0</td><td>0</td><td>0</td><td>0</td><td>0</td><td>⋯</td><td>1</td><td>0</td><td>0</td><td>0</td><td>0</td><td>0</td><td>0</td><td>0</td><td>1</td><td>0</td></tr>\n",
       "\t<tr><th scope=row>5</th><td>1</td><td>0</td><td>0</td><td>0</td><td>0</td><td>0</td><td>0</td><td>0</td><td>0</td><td>0</td><td>⋯</td><td>1</td><td>0</td><td>0</td><td>0</td><td>0</td><td>0</td><td>0</td><td>0</td><td>1</td><td>0</td></tr>\n",
       "\t<tr><th scope=row>6</th><td>1</td><td>0</td><td>0</td><td>0</td><td>0</td><td>0</td><td>0</td><td>0</td><td>0</td><td>0</td><td>⋯</td><td>0</td><td>0</td><td>0</td><td>0</td><td>0</td><td>0</td><td>1</td><td>0</td><td>0</td><td>0</td></tr>\n",
       "\t<tr><th scope=row>7</th><td>1</td><td>0</td><td>0</td><td>0</td><td>0</td><td>0</td><td>0</td><td>0</td><td>0</td><td>0</td><td>⋯</td><td>1</td><td>0</td><td>0</td><td>0</td><td>0</td><td>0</td><td>0</td><td>0</td><td>1</td><td>0</td></tr>\n",
       "\t<tr><th scope=row>8</th><td>1</td><td>0</td><td>0</td><td>0</td><td>0</td><td>0</td><td>0</td><td>0</td><td>0</td><td>0</td><td>⋯</td><td>1</td><td>0</td><td>0</td><td>0</td><td>0</td><td>0</td><td>0</td><td>0</td><td>1</td><td>0</td></tr>\n",
       "\t<tr><th scope=row>9</th><td>1</td><td>0</td><td>0</td><td>0</td><td>0</td><td>0</td><td>0</td><td>0</td><td>0</td><td>0</td><td>⋯</td><td>1</td><td>0</td><td>0</td><td>0</td><td>0</td><td>0</td><td>0</td><td>0</td><td>1</td><td>0</td></tr>\n",
       "\t<tr><th scope=row>10</th><td>1</td><td>0</td><td>0</td><td>0</td><td>0</td><td>0</td><td>0</td><td>0</td><td>0</td><td>0</td><td>⋯</td><td>1</td><td>0</td><td>0</td><td>0</td><td>0</td><td>0</td><td>0</td><td>0</td><td>1</td><td>0</td></tr>\n",
       "</tbody>\n",
       "</table>\n"
      ],
      "text/latex": [
       "A data.frame: 10 × 60\n",
       "\\begin{tabular}{r|lllllllllllllllllllll}\n",
       "  & year2013 & year2014 & year2015 & month10 & month11 & month12 & month2 & month3 & month4 & month5 & ⋯ & event\\_name\\_1Sin\\_evento & event\\_name\\_1StPatricksDay & event\\_name\\_1SuperBowl & event\\_name\\_1Thanksgiving & event\\_name\\_1ValentinesDay & event\\_name\\_1VeteransDay & event\\_type\\_1National & event\\_type\\_1Religious & event\\_type\\_1Sin\\_evento & event\\_type\\_1Sporting\\\\\n",
       "  & <dbl> & <dbl> & <dbl> & <dbl> & <dbl> & <dbl> & <dbl> & <dbl> & <dbl> & <dbl> & ⋯ & <dbl> & <dbl> & <dbl> & <dbl> & <dbl> & <dbl> & <dbl> & <dbl> & <dbl> & <dbl>\\\\\n",
       "\\hline\n",
       "\t1 & 1 & 0 & 0 & 0 & 0 & 0 & 0 & 0 & 0 & 0 & ⋯ & 1 & 0 & 0 & 0 & 0 & 0 & 0 & 0 & 1 & 0\\\\\n",
       "\t2 & 1 & 0 & 0 & 0 & 0 & 0 & 0 & 0 & 0 & 0 & ⋯ & 1 & 0 & 0 & 0 & 0 & 0 & 0 & 0 & 1 & 0\\\\\n",
       "\t3 & 1 & 0 & 0 & 0 & 0 & 0 & 0 & 0 & 0 & 0 & ⋯ & 1 & 0 & 0 & 0 & 0 & 0 & 0 & 0 & 1 & 0\\\\\n",
       "\t4 & 1 & 0 & 0 & 0 & 0 & 0 & 0 & 0 & 0 & 0 & ⋯ & 1 & 0 & 0 & 0 & 0 & 0 & 0 & 0 & 1 & 0\\\\\n",
       "\t5 & 1 & 0 & 0 & 0 & 0 & 0 & 0 & 0 & 0 & 0 & ⋯ & 1 & 0 & 0 & 0 & 0 & 0 & 0 & 0 & 1 & 0\\\\\n",
       "\t6 & 1 & 0 & 0 & 0 & 0 & 0 & 0 & 0 & 0 & 0 & ⋯ & 0 & 0 & 0 & 0 & 0 & 0 & 1 & 0 & 0 & 0\\\\\n",
       "\t7 & 1 & 0 & 0 & 0 & 0 & 0 & 0 & 0 & 0 & 0 & ⋯ & 1 & 0 & 0 & 0 & 0 & 0 & 0 & 0 & 1 & 0\\\\\n",
       "\t8 & 1 & 0 & 0 & 0 & 0 & 0 & 0 & 0 & 0 & 0 & ⋯ & 1 & 0 & 0 & 0 & 0 & 0 & 0 & 0 & 1 & 0\\\\\n",
       "\t9 & 1 & 0 & 0 & 0 & 0 & 0 & 0 & 0 & 0 & 0 & ⋯ & 1 & 0 & 0 & 0 & 0 & 0 & 0 & 0 & 1 & 0\\\\\n",
       "\t10 & 1 & 0 & 0 & 0 & 0 & 0 & 0 & 0 & 0 & 0 & ⋯ & 1 & 0 & 0 & 0 & 0 & 0 & 0 & 0 & 1 & 0\\\\\n",
       "\\end{tabular}\n"
      ],
      "text/markdown": [
       "\n",
       "A data.frame: 10 × 60\n",
       "\n",
       "| <!--/--> | year2013 &lt;dbl&gt; | year2014 &lt;dbl&gt; | year2015 &lt;dbl&gt; | month10 &lt;dbl&gt; | month11 &lt;dbl&gt; | month12 &lt;dbl&gt; | month2 &lt;dbl&gt; | month3 &lt;dbl&gt; | month4 &lt;dbl&gt; | month5 &lt;dbl&gt; | ⋯ ⋯ | event_name_1Sin_evento &lt;dbl&gt; | event_name_1StPatricksDay &lt;dbl&gt; | event_name_1SuperBowl &lt;dbl&gt; | event_name_1Thanksgiving &lt;dbl&gt; | event_name_1ValentinesDay &lt;dbl&gt; | event_name_1VeteransDay &lt;dbl&gt; | event_type_1National &lt;dbl&gt; | event_type_1Religious &lt;dbl&gt; | event_type_1Sin_evento &lt;dbl&gt; | event_type_1Sporting &lt;dbl&gt; |\n",
       "|---|---|---|---|---|---|---|---|---|---|---|---|---|---|---|---|---|---|---|---|---|---|\n",
       "| 1 | 1 | 0 | 0 | 0 | 0 | 0 | 0 | 0 | 0 | 0 | ⋯ | 1 | 0 | 0 | 0 | 0 | 0 | 0 | 0 | 1 | 0 |\n",
       "| 2 | 1 | 0 | 0 | 0 | 0 | 0 | 0 | 0 | 0 | 0 | ⋯ | 1 | 0 | 0 | 0 | 0 | 0 | 0 | 0 | 1 | 0 |\n",
       "| 3 | 1 | 0 | 0 | 0 | 0 | 0 | 0 | 0 | 0 | 0 | ⋯ | 1 | 0 | 0 | 0 | 0 | 0 | 0 | 0 | 1 | 0 |\n",
       "| 4 | 1 | 0 | 0 | 0 | 0 | 0 | 0 | 0 | 0 | 0 | ⋯ | 1 | 0 | 0 | 0 | 0 | 0 | 0 | 0 | 1 | 0 |\n",
       "| 5 | 1 | 0 | 0 | 0 | 0 | 0 | 0 | 0 | 0 | 0 | ⋯ | 1 | 0 | 0 | 0 | 0 | 0 | 0 | 0 | 1 | 0 |\n",
       "| 6 | 1 | 0 | 0 | 0 | 0 | 0 | 0 | 0 | 0 | 0 | ⋯ | 0 | 0 | 0 | 0 | 0 | 0 | 1 | 0 | 0 | 0 |\n",
       "| 7 | 1 | 0 | 0 | 0 | 0 | 0 | 0 | 0 | 0 | 0 | ⋯ | 1 | 0 | 0 | 0 | 0 | 0 | 0 | 0 | 1 | 0 |\n",
       "| 8 | 1 | 0 | 0 | 0 | 0 | 0 | 0 | 0 | 0 | 0 | ⋯ | 1 | 0 | 0 | 0 | 0 | 0 | 0 | 0 | 1 | 0 |\n",
       "| 9 | 1 | 0 | 0 | 0 | 0 | 0 | 0 | 0 | 0 | 0 | ⋯ | 1 | 0 | 0 | 0 | 0 | 0 | 0 | 0 | 1 | 0 |\n",
       "| 10 | 1 | 0 | 0 | 0 | 0 | 0 | 0 | 0 | 0 | 0 | ⋯ | 1 | 0 | 0 | 0 | 0 | 0 | 0 | 0 | 1 | 0 |\n",
       "\n"
      ],
      "text/plain": [
       "   year2013 year2014 year2015 month10 month11 month12 month2 month3 month4\n",
       "1  1        0        0        0       0       0       0      0      0     \n",
       "2  1        0        0        0       0       0       0      0      0     \n",
       "3  1        0        0        0       0       0       0      0      0     \n",
       "4  1        0        0        0       0       0       0      0      0     \n",
       "5  1        0        0        0       0       0       0      0      0     \n",
       "6  1        0        0        0       0       0       0      0      0     \n",
       "7  1        0        0        0       0       0       0      0      0     \n",
       "8  1        0        0        0       0       0       0      0      0     \n",
       "9  1        0        0        0       0       0       0      0      0     \n",
       "10 1        0        0        0       0       0       0      0      0     \n",
       "   month5 ⋯ event_name_1Sin_evento event_name_1StPatricksDay\n",
       "1  0      ⋯ 1                      0                        \n",
       "2  0      ⋯ 1                      0                        \n",
       "3  0      ⋯ 1                      0                        \n",
       "4  0      ⋯ 1                      0                        \n",
       "5  0      ⋯ 1                      0                        \n",
       "6  0      ⋯ 0                      0                        \n",
       "7  0      ⋯ 1                      0                        \n",
       "8  0      ⋯ 1                      0                        \n",
       "9  0      ⋯ 1                      0                        \n",
       "10 0      ⋯ 1                      0                        \n",
       "   event_name_1SuperBowl event_name_1Thanksgiving event_name_1ValentinesDay\n",
       "1  0                     0                        0                        \n",
       "2  0                     0                        0                        \n",
       "3  0                     0                        0                        \n",
       "4  0                     0                        0                        \n",
       "5  0                     0                        0                        \n",
       "6  0                     0                        0                        \n",
       "7  0                     0                        0                        \n",
       "8  0                     0                        0                        \n",
       "9  0                     0                        0                        \n",
       "10 0                     0                        0                        \n",
       "   event_name_1VeteransDay event_type_1National event_type_1Religious\n",
       "1  0                       0                    0                    \n",
       "2  0                       0                    0                    \n",
       "3  0                       0                    0                    \n",
       "4  0                       0                    0                    \n",
       "5  0                       0                    0                    \n",
       "6  0                       1                    0                    \n",
       "7  0                       0                    0                    \n",
       "8  0                       0                    0                    \n",
       "9  0                       0                    0                    \n",
       "10 0                       0                    0                    \n",
       "   event_type_1Sin_evento event_type_1Sporting\n",
       "1  1                      0                   \n",
       "2  1                      0                   \n",
       "3  1                      0                   \n",
       "4  1                      0                   \n",
       "5  1                      0                   \n",
       "6  0                      0                   \n",
       "7  1                      0                   \n",
       "8  1                      0                   \n",
       "9  1                      0                   \n",
       "10 1                      0                   "
      ]
     },
     "metadata": {},
     "output_type": "display_data"
    }
   ],
   "source": [
    "cat_ohe %>% head(10)"
   ]
  },
  {
   "cell_type": "markdown",
   "id": "6b588db3-ce72-467d-8cbf-60340cd6deba",
   "metadata": {},
   "source": [
    "Rescatamos las variables date, store_id, item_id y ventas de df. La eliminamos también de num por la operación de escalado posterior, ya que es la target."
   ]
  },
  {
   "cell_type": "code",
   "execution_count": 25,
   "id": "905cf7a7-e015-4a7e-90c5-0c82e133ec22",
   "metadata": {},
   "outputs": [],
   "source": [
    "df_var = df_total %>% select(date, store_id, item_id, ventas)\n",
    "num = num %>% select(-ventas)"
   ]
  },
  {
   "cell_type": "markdown",
   "id": "dd169620-1c0e-44b2-9b9a-722cf29c0444",
   "metadata": {},
   "source": [
    "## Escalado Min/Max"
   ]
  },
  {
   "cell_type": "markdown",
   "id": "c745e0e4-c209-41a8-9665-05c6834ee7b1",
   "metadata": {},
   "source": [
    "Hacemos una operación de escalado MinMax entre -1 y 1 de efectos a mejorar la red neuronal."
   ]
  },
  {
   "cell_type": "markdown",
   "id": "19539444-14d1-4c9e-b91d-c45c0ad7b9d9",
   "metadata": {},
   "source": [
    "Comprobamos todas las variables generadas:"
   ]
  },
  {
   "cell_type": "code",
   "execution_count": null,
   "id": "19834517-a2de-4623-a514-905dfc118ec6",
   "metadata": {},
   "outputs": [],
   "source": [
    "colnames(num)"
   ]
  },
  {
   "cell_type": "code",
   "execution_count": null,
   "id": "a5be39b4-ae39-4fe4-8a7c-a5b5d842c5c0",
   "metadata": {},
   "outputs": [],
   "source": [
    "colnames(cat_ohe)"
   ]
  },
  {
   "cell_type": "markdown",
   "id": "57678351-b042-4a42-812c-8d6839b03d38",
   "metadata": {},
   "source": [
    "Unimos ambos dataframe para aplicar la operación de escalado, previamente comprobamos las dimensiones."
   ]
  },
  {
   "cell_type": "code",
   "execution_count": null,
   "id": "f71c69df-3022-4447-b58b-bad15e868df1",
   "metadata": {},
   "outputs": [],
   "source": [
    "dim(num)"
   ]
  },
  {
   "cell_type": "code",
   "execution_count": null,
   "id": "4336a21c-f108-4426-8b29-e07850fb4d77",
   "metadata": {},
   "outputs": [],
   "source": [
    "dim(cat_ohe)"
   ]
  },
  {
   "cell_type": "code",
   "execution_count": 45,
   "id": "d7ea2b6f-d7fe-489a-b65b-f5291da84dec",
   "metadata": {},
   "outputs": [],
   "source": [
    "df_mm = cbind(num, cat_ohe)"
   ]
  },
  {
   "cell_type": "code",
   "execution_count": 47,
   "id": "cd3e3f81-65fb-40fc-9dd0-104a0657f785",
   "metadata": {},
   "outputs": [
    {
     "data": {
      "text/html": [
       "<style>\n",
       ".list-inline {list-style: none; margin:0; padding: 0}\n",
       ".list-inline>li {display: inline-block}\n",
       ".list-inline>li:not(:last-child)::after {content: \"\\00b7\"; padding: 0 .5ex}\n",
       "</style>\n",
       "<ol class=list-inline><li>20665</li><li>128</li></ol>\n"
      ],
      "text/latex": [
       "\\begin{enumerate*}\n",
       "\\item 20665\n",
       "\\item 128\n",
       "\\end{enumerate*}\n"
      ],
      "text/markdown": [
       "1. 20665\n",
       "2. 128\n",
       "\n",
       "\n"
      ],
      "text/plain": [
       "[1] 20665   128"
      ]
     },
     "metadata": {},
     "output_type": "display_data"
    }
   ],
   "source": [
    "dim(df_mm)"
   ]
  },
  {
   "cell_type": "markdown",
   "id": "6b1b8dd2-0b74-49da-96fd-db4f4a5e4e23",
   "metadata": {},
   "source": [
    "Está correctamente generado."
   ]
  },
  {
   "cell_type": "markdown",
   "id": "99e36596-6809-492e-93fb-f06a76c99735",
   "metadata": {},
   "source": [
    "Usamos la librería scales para hacer el Min Max Scaler."
   ]
  },
  {
   "cell_type": "code",
   "execution_count": 52,
   "id": "55ae0b19-80fd-43d0-9daa-2085fb6cef12",
   "metadata": {},
   "outputs": [],
   "source": [
    "library(scales)"
   ]
  },
  {
   "cell_type": "code",
   "execution_count": 53,
   "id": "06717d4c-8536-4922-b45b-6e55918ec98c",
   "metadata": {},
   "outputs": [],
   "source": [
    "df_mm = df_mm %>% mutate_all(~ rescale(., to = c(-1, 1)))"
   ]
  },
  {
   "cell_type": "markdown",
   "id": "86fdf935-0efd-48d5-8a62-b40beafe521c",
   "metadata": {},
   "source": [
    "Comprobamos que la operación se ha efectuado correctamente."
   ]
  },
  {
   "cell_type": "code",
   "execution_count": 55,
   "id": "40e76a91-482e-47ce-9f4a-2595f0eb5f41",
   "metadata": {},
   "outputs": [
    {
     "data": {
      "text/html": [
       "-1"
      ],
      "text/latex": [
       "-1"
      ],
      "text/markdown": [
       "-1"
      ],
      "text/plain": [
       "[1] -1"
      ]
     },
     "metadata": {},
     "output_type": "display_data"
    }
   ],
   "source": [
    "min(df_mm)"
   ]
  },
  {
   "cell_type": "code",
   "execution_count": 56,
   "id": "ad033a90-30ca-4d3d-8159-540fdb90dffc",
   "metadata": {},
   "outputs": [
    {
     "data": {
      "text/html": [
       "1"
      ],
      "text/latex": [
       "1"
      ],
      "text/markdown": [
       "1"
      ],
      "text/plain": [
       "[1] 1"
      ]
     },
     "metadata": {},
     "output_type": "display_data"
    }
   ],
   "source": [
    "max(df_mm)"
   ]
  },
  {
   "cell_type": "markdown",
   "id": "936ec214-0663-4003-b45c-15c50ac1e732",
   "metadata": {},
   "source": [
    "A continuación, unimos las variables que rescatamos anteriormente en df_var y unimos todo en un último dataframem"
   ]
  },
  {
   "cell_type": "code",
   "execution_count": 57,
   "id": "1abcbe6d-b628-4a80-b95f-9a6d7ee118c7",
   "metadata": {},
   "outputs": [],
   "source": [
    "df_td = cbind(df_var, df_mm)"
   ]
  },
  {
   "cell_type": "code",
   "execution_count": 58,
   "id": "a2a77270-e3ee-4770-ab29-a5c27aa722a2",
   "metadata": {},
   "outputs": [
    {
     "data": {
      "text/html": [
       "<table class=\"dataframe\">\n",
       "<caption>A data.frame: 10 × 131</caption>\n",
       "<thead>\n",
       "\t<tr><th></th><th scope=col>date</th><th scope=col>store_id</th><th scope=col>item_id</th><th scope=col>ventas</th><th scope=col>sell_price_lag_1</th><th scope=col>sell_price_lag_2</th><th scope=col>sell_price_lag_3</th><th scope=col>sell_price_lag_4</th><th scope=col>sell_price_lag_5</th><th scope=col>sell_price_lag_6</th><th scope=col>⋯</th><th scope=col>event_name_1Sin_evento</th><th scope=col>event_name_1StPatricksDay</th><th scope=col>event_name_1SuperBowl</th><th scope=col>event_name_1Thanksgiving</th><th scope=col>event_name_1ValentinesDay</th><th scope=col>event_name_1VeteransDay</th><th scope=col>event_type_1National</th><th scope=col>event_type_1Religious</th><th scope=col>event_type_1Sin_evento</th><th scope=col>event_type_1Sporting</th></tr>\n",
       "\t<tr><th></th><th scope=col>&lt;date&gt;</th><th scope=col>&lt;chr&gt;</th><th scope=col>&lt;chr&gt;</th><th scope=col>&lt;dbl&gt;</th><th scope=col>&lt;dbl&gt;</th><th scope=col>&lt;dbl&gt;</th><th scope=col>&lt;dbl&gt;</th><th scope=col>&lt;dbl&gt;</th><th scope=col>&lt;dbl&gt;</th><th scope=col>&lt;dbl&gt;</th><th scope=col>⋯</th><th scope=col>&lt;dbl&gt;</th><th scope=col>&lt;dbl&gt;</th><th scope=col>&lt;dbl&gt;</th><th scope=col>&lt;dbl&gt;</th><th scope=col>&lt;dbl&gt;</th><th scope=col>&lt;dbl&gt;</th><th scope=col>&lt;dbl&gt;</th><th scope=col>&lt;dbl&gt;</th><th scope=col>&lt;dbl&gt;</th><th scope=col>&lt;dbl&gt;</th></tr>\n",
       "</thead>\n",
       "<tbody>\n",
       "\t<tr><th scope=row>1</th><td>2013-01-16</td><td>CA_3</td><td>FOODS_3_090</td><td>-0.49934469</td><td>-0.8743719</td><td>-0.8743719</td><td>-0.8743719</td><td>-0.8743719</td><td>-0.8743719</td><td>-0.8743719</td><td>⋯</td><td> 1</td><td>-1</td><td>-1</td><td>-1</td><td>-1</td><td>-1</td><td>-1</td><td>-1</td><td> 1</td><td>-1</td></tr>\n",
       "\t<tr><th scope=row>2</th><td>2013-01-17</td><td>CA_3</td><td>FOODS_3_090</td><td>-0.55439056</td><td>-0.8743719</td><td>-0.8743719</td><td>-0.8743719</td><td>-0.8743719</td><td>-0.8743719</td><td>-0.8743719</td><td>⋯</td><td> 1</td><td>-1</td><td>-1</td><td>-1</td><td>-1</td><td>-1</td><td>-1</td><td>-1</td><td> 1</td><td>-1</td></tr>\n",
       "\t<tr><th scope=row>3</th><td>2013-01-18</td><td>CA_3</td><td>FOODS_3_090</td><td>-0.41284404</td><td>-0.8743719</td><td>-0.8743719</td><td>-0.8743719</td><td>-0.8743719</td><td>-0.8743719</td><td>-0.8743719</td><td>⋯</td><td> 1</td><td>-1</td><td>-1</td><td>-1</td><td>-1</td><td>-1</td><td>-1</td><td>-1</td><td> 1</td><td>-1</td></tr>\n",
       "\t<tr><th scope=row>4</th><td>2013-01-19</td><td>CA_3</td><td>FOODS_3_090</td><td>-0.05111402</td><td>-0.8743719</td><td>-0.8743719</td><td>-0.8743719</td><td>-0.8743719</td><td>-0.8743719</td><td>-0.8743719</td><td>⋯</td><td> 1</td><td>-1</td><td>-1</td><td>-1</td><td>-1</td><td>-1</td><td>-1</td><td>-1</td><td> 1</td><td>-1</td></tr>\n",
       "\t<tr><th scope=row>5</th><td>2013-01-20</td><td>CA_3</td><td>FOODS_3_090</td><td>-0.33158585</td><td>-0.8743719</td><td>-0.8743719</td><td>-0.8743719</td><td>-0.8743719</td><td>-0.8743719</td><td>-0.8743719</td><td>⋯</td><td> 1</td><td>-1</td><td>-1</td><td>-1</td><td>-1</td><td>-1</td><td>-1</td><td>-1</td><td> 1</td><td>-1</td></tr>\n",
       "\t<tr><th scope=row>6</th><td>2013-01-21</td><td>CA_3</td><td>FOODS_3_090</td><td>-0.37876802</td><td>-0.8743719</td><td>-0.8743719</td><td>-0.8743719</td><td>-0.8743719</td><td>-0.8743719</td><td>-0.8743719</td><td>⋯</td><td>-1</td><td>-1</td><td>-1</td><td>-1</td><td>-1</td><td>-1</td><td> 1</td><td>-1</td><td>-1</td><td>-1</td></tr>\n",
       "\t<tr><th scope=row>7</th><td>2013-01-22</td><td>CA_3</td><td>FOODS_3_090</td><td>-0.83486239</td><td>-0.8743719</td><td>-0.8743719</td><td>-0.8743719</td><td>-0.8743719</td><td>-0.8743719</td><td>-0.8743719</td><td>⋯</td><td> 1</td><td>-1</td><td>-1</td><td>-1</td><td>-1</td><td>-1</td><td>-1</td><td>-1</td><td> 1</td><td>-1</td></tr>\n",
       "\t<tr><th scope=row>8</th><td>2013-01-23</td><td>CA_3</td><td>FOODS_3_090</td><td>-1.00000000</td><td>-0.8743719</td><td>-0.8743719</td><td>-0.8743719</td><td>-0.8743719</td><td>-0.8743719</td><td>-0.8743719</td><td>⋯</td><td> 1</td><td>-1</td><td>-1</td><td>-1</td><td>-1</td><td>-1</td><td>-1</td><td>-1</td><td> 1</td><td>-1</td></tr>\n",
       "\t<tr><th scope=row>9</th><td>2013-01-24</td><td>CA_3</td><td>FOODS_3_090</td><td>-1.00000000</td><td>-0.8743719</td><td>-0.8743719</td><td>-0.8743719</td><td>-0.8743719</td><td>-0.8743719</td><td>-0.8743719</td><td>⋯</td><td> 1</td><td>-1</td><td>-1</td><td>-1</td><td>-1</td><td>-1</td><td>-1</td><td>-1</td><td> 1</td><td>-1</td></tr>\n",
       "\t<tr><th scope=row>10</th><td>2013-01-25</td><td>CA_3</td><td>FOODS_3_090</td><td>-1.00000000</td><td>-0.8743719</td><td>-0.8743719</td><td>-0.8743719</td><td>-0.8743719</td><td>-0.8743719</td><td>-0.8743719</td><td>⋯</td><td> 1</td><td>-1</td><td>-1</td><td>-1</td><td>-1</td><td>-1</td><td>-1</td><td>-1</td><td> 1</td><td>-1</td></tr>\n",
       "</tbody>\n",
       "</table>\n"
      ],
      "text/latex": [
       "A data.frame: 10 × 131\n",
       "\\begin{tabular}{r|lllllllllllllllllllll}\n",
       "  & date & store\\_id & item\\_id & ventas & sell\\_price\\_lag\\_1 & sell\\_price\\_lag\\_2 & sell\\_price\\_lag\\_3 & sell\\_price\\_lag\\_4 & sell\\_price\\_lag\\_5 & sell\\_price\\_lag\\_6 & ⋯ & event\\_name\\_1Sin\\_evento & event\\_name\\_1StPatricksDay & event\\_name\\_1SuperBowl & event\\_name\\_1Thanksgiving & event\\_name\\_1ValentinesDay & event\\_name\\_1VeteransDay & event\\_type\\_1National & event\\_type\\_1Religious & event\\_type\\_1Sin\\_evento & event\\_type\\_1Sporting\\\\\n",
       "  & <date> & <chr> & <chr> & <dbl> & <dbl> & <dbl> & <dbl> & <dbl> & <dbl> & <dbl> & ⋯ & <dbl> & <dbl> & <dbl> & <dbl> & <dbl> & <dbl> & <dbl> & <dbl> & <dbl> & <dbl>\\\\\n",
       "\\hline\n",
       "\t1 & 2013-01-16 & CA\\_3 & FOODS\\_3\\_090 & -0.49934469 & -0.8743719 & -0.8743719 & -0.8743719 & -0.8743719 & -0.8743719 & -0.8743719 & ⋯ &  1 & -1 & -1 & -1 & -1 & -1 & -1 & -1 &  1 & -1\\\\\n",
       "\t2 & 2013-01-17 & CA\\_3 & FOODS\\_3\\_090 & -0.55439056 & -0.8743719 & -0.8743719 & -0.8743719 & -0.8743719 & -0.8743719 & -0.8743719 & ⋯ &  1 & -1 & -1 & -1 & -1 & -1 & -1 & -1 &  1 & -1\\\\\n",
       "\t3 & 2013-01-18 & CA\\_3 & FOODS\\_3\\_090 & -0.41284404 & -0.8743719 & -0.8743719 & -0.8743719 & -0.8743719 & -0.8743719 & -0.8743719 & ⋯ &  1 & -1 & -1 & -1 & -1 & -1 & -1 & -1 &  1 & -1\\\\\n",
       "\t4 & 2013-01-19 & CA\\_3 & FOODS\\_3\\_090 & -0.05111402 & -0.8743719 & -0.8743719 & -0.8743719 & -0.8743719 & -0.8743719 & -0.8743719 & ⋯ &  1 & -1 & -1 & -1 & -1 & -1 & -1 & -1 &  1 & -1\\\\\n",
       "\t5 & 2013-01-20 & CA\\_3 & FOODS\\_3\\_090 & -0.33158585 & -0.8743719 & -0.8743719 & -0.8743719 & -0.8743719 & -0.8743719 & -0.8743719 & ⋯ &  1 & -1 & -1 & -1 & -1 & -1 & -1 & -1 &  1 & -1\\\\\n",
       "\t6 & 2013-01-21 & CA\\_3 & FOODS\\_3\\_090 & -0.37876802 & -0.8743719 & -0.8743719 & -0.8743719 & -0.8743719 & -0.8743719 & -0.8743719 & ⋯ & -1 & -1 & -1 & -1 & -1 & -1 &  1 & -1 & -1 & -1\\\\\n",
       "\t7 & 2013-01-22 & CA\\_3 & FOODS\\_3\\_090 & -0.83486239 & -0.8743719 & -0.8743719 & -0.8743719 & -0.8743719 & -0.8743719 & -0.8743719 & ⋯ &  1 & -1 & -1 & -1 & -1 & -1 & -1 & -1 &  1 & -1\\\\\n",
       "\t8 & 2013-01-23 & CA\\_3 & FOODS\\_3\\_090 & -1.00000000 & -0.8743719 & -0.8743719 & -0.8743719 & -0.8743719 & -0.8743719 & -0.8743719 & ⋯ &  1 & -1 & -1 & -1 & -1 & -1 & -1 & -1 &  1 & -1\\\\\n",
       "\t9 & 2013-01-24 & CA\\_3 & FOODS\\_3\\_090 & -1.00000000 & -0.8743719 & -0.8743719 & -0.8743719 & -0.8743719 & -0.8743719 & -0.8743719 & ⋯ &  1 & -1 & -1 & -1 & -1 & -1 & -1 & -1 &  1 & -1\\\\\n",
       "\t10 & 2013-01-25 & CA\\_3 & FOODS\\_3\\_090 & -1.00000000 & -0.8743719 & -0.8743719 & -0.8743719 & -0.8743719 & -0.8743719 & -0.8743719 & ⋯ &  1 & -1 & -1 & -1 & -1 & -1 & -1 & -1 &  1 & -1\\\\\n",
       "\\end{tabular}\n"
      ],
      "text/markdown": [
       "\n",
       "A data.frame: 10 × 131\n",
       "\n",
       "| <!--/--> | date &lt;date&gt; | store_id &lt;chr&gt; | item_id &lt;chr&gt; | ventas &lt;dbl&gt; | sell_price_lag_1 &lt;dbl&gt; | sell_price_lag_2 &lt;dbl&gt; | sell_price_lag_3 &lt;dbl&gt; | sell_price_lag_4 &lt;dbl&gt; | sell_price_lag_5 &lt;dbl&gt; | sell_price_lag_6 &lt;dbl&gt; | ⋯ ⋯ | event_name_1Sin_evento &lt;dbl&gt; | event_name_1StPatricksDay &lt;dbl&gt; | event_name_1SuperBowl &lt;dbl&gt; | event_name_1Thanksgiving &lt;dbl&gt; | event_name_1ValentinesDay &lt;dbl&gt; | event_name_1VeteransDay &lt;dbl&gt; | event_type_1National &lt;dbl&gt; | event_type_1Religious &lt;dbl&gt; | event_type_1Sin_evento &lt;dbl&gt; | event_type_1Sporting &lt;dbl&gt; |\n",
       "|---|---|---|---|---|---|---|---|---|---|---|---|---|---|---|---|---|---|---|---|---|---|\n",
       "| 1 | 2013-01-16 | CA_3 | FOODS_3_090 | -0.49934469 | -0.8743719 | -0.8743719 | -0.8743719 | -0.8743719 | -0.8743719 | -0.8743719 | ⋯ |  1 | -1 | -1 | -1 | -1 | -1 | -1 | -1 |  1 | -1 |\n",
       "| 2 | 2013-01-17 | CA_3 | FOODS_3_090 | -0.55439056 | -0.8743719 | -0.8743719 | -0.8743719 | -0.8743719 | -0.8743719 | -0.8743719 | ⋯ |  1 | -1 | -1 | -1 | -1 | -1 | -1 | -1 |  1 | -1 |\n",
       "| 3 | 2013-01-18 | CA_3 | FOODS_3_090 | -0.41284404 | -0.8743719 | -0.8743719 | -0.8743719 | -0.8743719 | -0.8743719 | -0.8743719 | ⋯ |  1 | -1 | -1 | -1 | -1 | -1 | -1 | -1 |  1 | -1 |\n",
       "| 4 | 2013-01-19 | CA_3 | FOODS_3_090 | -0.05111402 | -0.8743719 | -0.8743719 | -0.8743719 | -0.8743719 | -0.8743719 | -0.8743719 | ⋯ |  1 | -1 | -1 | -1 | -1 | -1 | -1 | -1 |  1 | -1 |\n",
       "| 5 | 2013-01-20 | CA_3 | FOODS_3_090 | -0.33158585 | -0.8743719 | -0.8743719 | -0.8743719 | -0.8743719 | -0.8743719 | -0.8743719 | ⋯ |  1 | -1 | -1 | -1 | -1 | -1 | -1 | -1 |  1 | -1 |\n",
       "| 6 | 2013-01-21 | CA_3 | FOODS_3_090 | -0.37876802 | -0.8743719 | -0.8743719 | -0.8743719 | -0.8743719 | -0.8743719 | -0.8743719 | ⋯ | -1 | -1 | -1 | -1 | -1 | -1 |  1 | -1 | -1 | -1 |\n",
       "| 7 | 2013-01-22 | CA_3 | FOODS_3_090 | -0.83486239 | -0.8743719 | -0.8743719 | -0.8743719 | -0.8743719 | -0.8743719 | -0.8743719 | ⋯ |  1 | -1 | -1 | -1 | -1 | -1 | -1 | -1 |  1 | -1 |\n",
       "| 8 | 2013-01-23 | CA_3 | FOODS_3_090 | -1.00000000 | -0.8743719 | -0.8743719 | -0.8743719 | -0.8743719 | -0.8743719 | -0.8743719 | ⋯ |  1 | -1 | -1 | -1 | -1 | -1 | -1 | -1 |  1 | -1 |\n",
       "| 9 | 2013-01-24 | CA_3 | FOODS_3_090 | -1.00000000 | -0.8743719 | -0.8743719 | -0.8743719 | -0.8743719 | -0.8743719 | -0.8743719 | ⋯ |  1 | -1 | -1 | -1 | -1 | -1 | -1 | -1 |  1 | -1 |\n",
       "| 10 | 2013-01-25 | CA_3 | FOODS_3_090 | -1.00000000 | -0.8743719 | -0.8743719 | -0.8743719 | -0.8743719 | -0.8743719 | -0.8743719 | ⋯ |  1 | -1 | -1 | -1 | -1 | -1 | -1 | -1 |  1 | -1 |\n",
       "\n"
      ],
      "text/plain": [
       "   date       store_id item_id     ventas      sell_price_lag_1\n",
       "1  2013-01-16 CA_3     FOODS_3_090 -0.49934469 -0.8743719      \n",
       "2  2013-01-17 CA_3     FOODS_3_090 -0.55439056 -0.8743719      \n",
       "3  2013-01-18 CA_3     FOODS_3_090 -0.41284404 -0.8743719      \n",
       "4  2013-01-19 CA_3     FOODS_3_090 -0.05111402 -0.8743719      \n",
       "5  2013-01-20 CA_3     FOODS_3_090 -0.33158585 -0.8743719      \n",
       "6  2013-01-21 CA_3     FOODS_3_090 -0.37876802 -0.8743719      \n",
       "7  2013-01-22 CA_3     FOODS_3_090 -0.83486239 -0.8743719      \n",
       "8  2013-01-23 CA_3     FOODS_3_090 -1.00000000 -0.8743719      \n",
       "9  2013-01-24 CA_3     FOODS_3_090 -1.00000000 -0.8743719      \n",
       "10 2013-01-25 CA_3     FOODS_3_090 -1.00000000 -0.8743719      \n",
       "   sell_price_lag_2 sell_price_lag_3 sell_price_lag_4 sell_price_lag_5\n",
       "1  -0.8743719       -0.8743719       -0.8743719       -0.8743719      \n",
       "2  -0.8743719       -0.8743719       -0.8743719       -0.8743719      \n",
       "3  -0.8743719       -0.8743719       -0.8743719       -0.8743719      \n",
       "4  -0.8743719       -0.8743719       -0.8743719       -0.8743719      \n",
       "5  -0.8743719       -0.8743719       -0.8743719       -0.8743719      \n",
       "6  -0.8743719       -0.8743719       -0.8743719       -0.8743719      \n",
       "7  -0.8743719       -0.8743719       -0.8743719       -0.8743719      \n",
       "8  -0.8743719       -0.8743719       -0.8743719       -0.8743719      \n",
       "9  -0.8743719       -0.8743719       -0.8743719       -0.8743719      \n",
       "10 -0.8743719       -0.8743719       -0.8743719       -0.8743719      \n",
       "   sell_price_lag_6 ⋯ event_name_1Sin_evento event_name_1StPatricksDay\n",
       "1  -0.8743719       ⋯  1                     -1                       \n",
       "2  -0.8743719       ⋯  1                     -1                       \n",
       "3  -0.8743719       ⋯  1                     -1                       \n",
       "4  -0.8743719       ⋯  1                     -1                       \n",
       "5  -0.8743719       ⋯  1                     -1                       \n",
       "6  -0.8743719       ⋯ -1                     -1                       \n",
       "7  -0.8743719       ⋯  1                     -1                       \n",
       "8  -0.8743719       ⋯  1                     -1                       \n",
       "9  -0.8743719       ⋯  1                     -1                       \n",
       "10 -0.8743719       ⋯  1                     -1                       \n",
       "   event_name_1SuperBowl event_name_1Thanksgiving event_name_1ValentinesDay\n",
       "1  -1                    -1                       -1                       \n",
       "2  -1                    -1                       -1                       \n",
       "3  -1                    -1                       -1                       \n",
       "4  -1                    -1                       -1                       \n",
       "5  -1                    -1                       -1                       \n",
       "6  -1                    -1                       -1                       \n",
       "7  -1                    -1                       -1                       \n",
       "8  -1                    -1                       -1                       \n",
       "9  -1                    -1                       -1                       \n",
       "10 -1                    -1                       -1                       \n",
       "   event_name_1VeteransDay event_type_1National event_type_1Religious\n",
       "1  -1                      -1                   -1                   \n",
       "2  -1                      -1                   -1                   \n",
       "3  -1                      -1                   -1                   \n",
       "4  -1                      -1                   -1                   \n",
       "5  -1                      -1                   -1                   \n",
       "6  -1                       1                   -1                   \n",
       "7  -1                      -1                   -1                   \n",
       "8  -1                      -1                   -1                   \n",
       "9  -1                      -1                   -1                   \n",
       "10 -1                      -1                   -1                   \n",
       "   event_type_1Sin_evento event_type_1Sporting\n",
       "1   1                     -1                  \n",
       "2   1                     -1                  \n",
       "3   1                     -1                  \n",
       "4   1                     -1                  \n",
       "5   1                     -1                  \n",
       "6  -1                     -1                  \n",
       "7   1                     -1                  \n",
       "8   1                     -1                  \n",
       "9   1                     -1                  \n",
       "10  1                     -1                  "
      ]
     },
     "metadata": {},
     "output_type": "display_data"
    }
   ],
   "source": [
    "df_td %>% head(10)"
   ]
  },
  {
   "cell_type": "markdown",
   "id": "a38ca55e-e1d3-4e00-96c0-0a40168edd99",
   "metadata": {},
   "source": [
    "Guardamos el resultado."
   ]
  },
  {
   "cell_type": "code",
   "execution_count": null,
   "id": "ed81e19b-5647-47b1-84d4-f4bd4025b893",
   "metadata": {},
   "outputs": [],
   "source": []
  },
  {
   "cell_type": "code",
   "execution_count": null,
   "id": "891e9d58-849e-43ab-9a6a-2a43edf3c78f",
   "metadata": {},
   "outputs": [],
   "source": []
  },
  {
   "cell_type": "code",
   "execution_count": null,
   "id": "40e73c8d-1048-4516-8f3e-d7b2c9fad15b",
   "metadata": {},
   "outputs": [],
   "source": []
  },
  {
   "cell_type": "code",
   "execution_count": null,
   "id": "9bb59be7-15c7-4b27-a302-381e989234cb",
   "metadata": {},
   "outputs": [],
   "source": []
  }
 ],
 "metadata": {
  "kernelspec": {
   "display_name": "sales_forecasting",
   "language": "R",
   "name": "ir"
  },
  "language_info": {
   "codemirror_mode": "r",
   "file_extension": ".r",
   "mimetype": "text/x-r-source",
   "name": "R",
   "pygments_lexer": "r",
   "version": "4.3.3"
  }
 },
 "nbformat": 4,
 "nbformat_minor": 5
}
