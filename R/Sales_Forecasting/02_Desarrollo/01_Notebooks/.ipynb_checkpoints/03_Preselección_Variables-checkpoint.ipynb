{
 "cells": [
  {
   "cell_type": "markdown",
   "id": "4ef4172b-0510-4a04-b31a-5990338dda2d",
   "metadata": {},
   "source": [
    "# Preselección Variables"
   ]
  },
  {
   "cell_type": "markdown",
   "id": "0e5c3130-3f46-4222-bb7c-7a931c214256",
   "metadata": {},
   "source": [
    "Vamos a comprobar las variables que más aportan al modelo usando primero el método de información mutua con el algoritmo XGBoost y después comprobaremos cuales de las resultantes pudieran estar correlacionadas."
   ]
  },
  {
   "cell_type": "code",
   "execution_count": 6,
   "id": "cd32bcaf-4ac0-4627-b776-7d6e28f49899",
   "metadata": {},
   "outputs": [],
   "source": [
    "library(ggplot2)\n",
    "library(dplyr)\n",
    "library(tidyr)\n",
    "library(magrittr)\n",
    "library(xgboost)"
   ]
  },
  {
   "cell_type": "markdown",
   "id": "6ceafaa0-776e-42ec-9cb4-582926f1f233",
   "metadata": {},
   "source": [
    "Cargamos los datos del resultado generado anteriormente."
   ]
  },
  {
   "cell_type": "code",
   "execution_count": null,
   "id": "7399abd9-25f2-472e-bf9d-31dd2a629d81",
   "metadata": {},
   "outputs": [],
   "source": [
    "df_td = readRDS('../022_Variables/df_td.rds')"
   ]
  },
  {
   "cell_type": "markdown",
   "id": "ce7bd66b-29f5-42ba-96fe-f628dd60c2ec",
   "metadata": {},
   "source": [
    "Separamos en variables predictoras y target."
   ]
  },
  {
   "cell_type": "code",
   "execution_count": null,
   "id": "a4531337-4a0f-4070-83c5-bc5bceff7474",
   "metadata": {},
   "outputs": [],
   "source": [
    "X = df_td %>% select(-date, -store_id, -item_id, -ventas)\n",
    "y = df_td %>% select(ventas)"
   ]
  },
  {
   "cell_type": "markdown",
   "id": "eed78c2f-c51a-4c9c-bb77-52b04c1b5b7d",
   "metadata": {},
   "source": [
    "Los convertimos a formato matriz y vector respectivamente."
   ]
  },
  {
   "cell_type": "code",
   "execution_count": null,
   "id": "ecab4175-6110-4f43-9228-88f08d4dd4ef",
   "metadata": {},
   "outputs": [],
   "source": [
    "X = as.matrix(X)\n",
    "y = as.numeric(y[[1]])  "
   ]
  },
  {
   "cell_type": "markdown",
   "id": "8d02f543-07f9-4b95-b9d1-348db52bd5d0",
   "metadata": {},
   "source": [
    "Lo pasamos a formato de XGBoost, DMatrix."
   ]
  },
  {
   "cell_type": "code",
   "execution_count": null,
   "id": "c3df8e1a-4086-4b2e-857b-b92e31a071bf",
   "metadata": {},
   "outputs": [],
   "source": [
    "dtrain = xgb.DMatrix(data = X, label = y)"
   ]
  },
  {
   "cell_type": "markdown",
   "id": "77da7131-c277-4c7a-b31e-52b6f40c78fd",
   "metadata": {},
   "source": [
    "Entrenamos un modelo de XGBoost para la posterior preselección."
   ]
  },
  {
   "cell_type": "code",
   "execution_count": null,
   "id": "9d4406b1-f800-4a58-bbb1-178834e5c2d1",
   "metadata": {},
   "outputs": [],
   "source": [
    "xgb = xgboost(data = dtrain, \n",
    "                     nrounds = 100,\n",
    "                     objective = \"reg:squarederror\",\n",
    "                     verbose = 0)"
   ]
  },
  {
   "cell_type": "code",
   "execution_count": 7,
   "id": "e1c41140-f01d-4466-9ac7-62d97baccd93",
   "metadata": {},
   "outputs": [
    {
     "ename": "ERROR",
     "evalue": "Error in eval(expr, envir, enclos): objeto 'xgb_model' no encontrado\n",
     "output_type": "error",
     "traceback": [
      "Error in eval(expr, envir, enclos): objeto 'xgb_model' no encontrado\nTraceback:\n",
      "1. xgb.importance(feature_names = colnames(X_matrix), model = xgb_model)"
     ]
    }
   ],
   "source": [
    "#Obtener la importancia de las variables\n",
    "importance_matrix <- xgb.importance(feature_names = colnames(X_matrix), model = xgb_model)\n",
    "\n",
    "# Mostrar la tabla de importancia\n",
    "print(importance_matrix)\n",
    "\n",
    "# Graficar la importancia de las variables\n",
    "xgb.plot.importance(importance_matrix)"
   ]
  },
  {
   "cell_type": "code",
   "execution_count": null,
   "id": "6e674667-36de-46d8-9041-8b1bed00d75c",
   "metadata": {},
   "outputs": [],
   "source": []
  }
 ],
 "metadata": {
  "kernelspec": {
   "display_name": "sales_forecasting",
   "language": "R",
   "name": "ir"
  },
  "language_info": {
   "codemirror_mode": "r",
   "file_extension": ".r",
   "mimetype": "text/x-r-source",
   "name": "R",
   "pygments_lexer": "r",
   "version": "4.3.3"
  }
 },
 "nbformat": 4,
 "nbformat_minor": 5
}
