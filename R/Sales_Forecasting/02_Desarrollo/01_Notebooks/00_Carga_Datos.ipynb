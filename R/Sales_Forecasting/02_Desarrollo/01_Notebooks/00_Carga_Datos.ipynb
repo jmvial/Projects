{
 "cells": [
  {
   "cell_type": "markdown",
   "id": "d2aa4806-57b1-4eaa-970c-2e74197a056e",
   "metadata": {},
   "source": [
    "# 1. Carga de Datos"
   ]
  },
  {
   "cell_type": "markdown",
   "id": "87762047-6af9-4cc2-b71c-46eb469f0776",
   "metadata": {},
   "source": [
    "Leemos desde market.db"
   ]
  },
  {
   "cell_type": "code",
   "execution_count": 1,
   "id": "8ef0eadb-55c5-4805-b20c-fe93b1429543",
   "metadata": {
    "vscode": {
     "languageId": "r"
    }
   },
   "outputs": [
    {
     "name": "stdout",
     "output_type": "stream",
     "text": [
      "\n",
      "Attaching package: ‘dplyr’\n",
      "\n",
      "The following objects are masked from ‘package:stats’:\n",
      "\n",
      "    filter, lag\n",
      "\n",
      "The following objects are masked from ‘package:base’:\n",
      "\n",
      "    intersect, setdiff, setequal, union\n",
      "\n",
      "\n",
      "\n",
      "Attaching package: ‘dplyr’\n",
      "\n",
      "The following objects are masked from ‘package:stats’:\n",
      "\n",
      "    filter, lag\n",
      "\n",
      "The following objects are masked from ‘package:base’:\n",
      "\n",
      "    intersect, setdiff, setequal, union\n",
      "\n"
     ]
    },
    {
     "name": "stdout",
     "output_type": "stream",
     "text": [
      "\n",
      "Attaching package: ‘lubridate’\n",
      "\n",
      "The following objects are masked from ‘package:base’:\n",
      "\n",
      "    date, intersect, setdiff, union\n",
      "\n",
      "\n",
      "Attaching package: ‘tidyr’\n",
      "\n",
      "\n",
      "\n",
      "Attaching package: ‘lubridate’\n",
      "\n",
      "The following objects are masked from ‘package:base’:\n",
      "\n",
      "    date, intersect, setdiff, union\n",
      "\n",
      "\n",
      "Attaching package: ‘tidyr’\n",
      "\n"
     ]
    },
    {
     "name": "stdout",
     "output_type": "stream",
     "text": [
      "The following object is masked from ‘package:magrittr’:\n",
      "\n",
      "    extract\n",
      "\n",
      "The following object is masked from ‘package:magrittr’:\n",
      "\n",
      "    extract\n",
      "\n"
     ]
    }
   ],
   "source": [
    "library('DBI')\n",
    "library('RSQLite')\n",
    "library('magrittr')\n",
    "library('dplyr')\n",
    "library('lubridate')\n",
    "library('tidyr')\n",
    "library('ggplot2')"
   ]
  },
  {
   "cell_type": "code",
   "execution_count": 2,
   "id": "7d3057ac-edec-4c9e-a454-653878d4de05",
   "metadata": {
    "vscode": {
     "languageId": "r"
    }
   },
   "outputs": [],
   "source": [
    "con = dbConnect(RSQLite::SQLite(), \"../../01_Datos/market.db\")"
   ]
  },
  {
   "cell_type": "code",
   "execution_count": 3,
   "id": "e90b0b7c-c0b5-4efe-8e36-025b3b67ce05",
   "metadata": {
    "vscode": {
     "languageId": "r"
    }
   },
   "outputs": [
    {
     "data": {
      "text/plain": [
       "[1] \"calendar\"    \"sales\"       \"sell_prices\""
      ]
     },
     "execution_count": null,
     "metadata": {},
     "output_type": "execute_result"
    }
   ],
   "source": [
    "dbListTables(con)"
   ]
  },
  {
   "cell_type": "markdown",
   "id": "721214d8-cb68-42e8-ac27-26e563c28468",
   "metadata": {},
   "source": [
    "Vamos a leer las tablas y ver el contenido."
   ]
  },
  {
   "cell_type": "code",
   "execution_count": 4,
   "id": "c996b0ae-f537-497a-8f9a-532ea2cd6cad",
   "metadata": {
    "vscode": {
     "languageId": "r"
    }
   },
   "outputs": [],
   "source": [
    "calendar = dbReadTable(con, \"calendar\")\n",
    "sales = dbReadTable(con, \"sales\")\n",
    "sell_prices = dbReadTable(con, \"sell_prices\")"
   ]
  },
  {
   "cell_type": "code",
   "execution_count": 5,
   "id": "c31c3eb9-2d5f-4f66-b3b7-cc6c280c0776",
   "metadata": {
    "vscode": {
     "languageId": "r"
    }
   },
   "outputs": [
    {
     "data": {
      "text/plain": [
       "  index       date wm_yr_wk   weekday wday month year     d event_name_1 event_type_1 event_name_2 event_type_2\n",
       "1     0 2013-01-01    11249   Tuesday    4     1 2013 d_704      NewYear     National         <NA>         <NA>\n",
       "2     1 2013-01-02    11249 Wednesday    5     1 2013 d_705         <NA>         <NA>         <NA>         <NA>\n",
       "3     2 2013-01-03    11249  Thursday    6     1 2013 d_706         <NA>         <NA>         <NA>         <NA>\n",
       "4     3 2013-01-04    11249    Friday    7     1 2013 d_707         <NA>         <NA>         <NA>         <NA>\n",
       "5     4 2013-01-05    11250  Saturday    1     1 2013 d_708         <NA>         <NA>         <NA>         <NA>\n",
       "6     5 2013-01-06    11250    Sunday    2     1 2013 d_709         <NA>         <NA>         <NA>         <NA>"
      ]
     },
     "execution_count": null,
     "metadata": {},
     "output_type": "execute_result"
    }
   ],
   "source": [
    "calendar %>% head()"
   ]
  },
  {
   "cell_type": "code",
   "execution_count": 6,
   "id": "8a47ed4e-ea0e-4366-88f0-68abb81d4112",
   "metadata": {
    "vscode": {
     "languageId": "r"
    }
   },
   "outputs": [
    {
     "data": {
      "text/plain": [
       "     index id item_id dept_id cat_id store_id state_id d_704 d_705 d_706 d_707 d_708 d_709 d_710 d_711 d_712 d_713 d_714 d_715 d_716\n",
       "     d_717 d_718 d_719 d_720 d_721 d_722 d_723 d_724 d_725 d_726 d_727 d_728 d_729 d_730 d_731 d_732 d_733 d_734 d_735 d_736 d_737 d_738\n",
       "     d_739 d_740 d_741 d_742 d_743 d_744 d_745 d_746 d_747 d_748 d_749 d_750 d_751 d_752 d_753 d_754 d_755 d_756 d_757 d_758 d_759 d_760\n",
       "     d_761 d_762 d_763 d_764 d_765 d_766 d_767 d_768 d_769 d_770 d_771 d_772 d_773 d_774 d_775 d_776 d_777 d_778 d_779 d_780 d_781 d_782\n",
       "     d_783 d_784 d_785 d_786 d_787 d_788 d_789 d_790 d_791 d_792 d_793 d_794 d_795 d_796 d_797 d_798 d_799 d_800 d_801 d_802 d_803 d_804\n",
       "     d_805 d_806 d_807 d_808 d_809 d_810 d_811 d_812 d_813 d_814 d_815 d_816 d_817 d_818 d_819 d_820 d_821 d_822 d_823 d_824 d_825 d_826\n",
       "     d_827 d_828 d_829 d_830 d_831 d_832 d_833 d_834 d_835 d_836 d_837 d_838 d_839 d_840 d_841 d_842 d_843 d_844 d_845 d_846 d_847 d_848\n",
       "     d_849 d_850 d_851 d_852 d_853 d_854 d_855 d_856 d_857 d_858 d_859 d_860 d_861 d_862 d_863 d_864 d_865 d_866 d_867 d_868 d_869 d_870\n",
       "     d_871 d_872 d_873 d_874 d_875 d_876 d_877 d_878 d_879 d_880 d_881 d_882 d_883 d_884 d_885 d_886 d_887 d_888 d_889 d_890 d_891 d_892\n",
       "     d_893 d_894 d_895 d_896 d_897 d_898 d_899 d_900 d_901 d_902 d_903 d_904 d_905 d_906 d_907 d_908 d_909 d_910 d_911 d_912 d_913 d_914\n",
       "     d_915 d_916 d_917 d_918 d_919 d_920 d_921 d_922 d_923 d_924 d_925 d_926 d_927 d_928 d_929 d_930 d_931 d_932 d_933 d_934 d_935 d_936\n",
       "     d_937 d_938 d_939 d_940 d_941 d_942 d_943 d_944 d_945 d_946 d_947 d_948 d_949 d_950 d_951 d_952 d_953 d_954 d_955 d_956 d_957 d_958\n",
       "     d_959 d_960 d_961 d_962 d_963 d_964 d_965 d_966 d_967 d_968 d_969 d_970 d_971 d_972 d_973 d_974 d_975 d_976 d_977 d_978 d_979 d_980\n",
       "     d_981 d_982 d_983 d_984 d_985 d_986 d_987 d_988 d_989 d_990 d_991 d_992 d_993 d_994 d_995 d_996 d_997 d_998 d_999 d_1000 d_1001\n",
       "     d_1002 d_1003 d_1004 d_1005 d_1006 d_1007 d_1008 d_1009 d_1010 d_1011 d_1012 d_1013 d_1014 d_1015 d_1016 d_1017 d_1018 d_1019\n",
       "     d_1020 d_1021 d_1022 d_1023 d_1024 d_1025 d_1026 d_1027 d_1028 d_1029 d_1030 d_1031 d_1032 d_1033 d_1034 d_1035 d_1036 d_1037\n",
       "     d_1038 d_1039 d_1040 d_1041 d_1042 d_1043 d_1044 d_1045 d_1046 d_1047 d_1048 d_1049 d_1050 d_1051 d_1052 d_1053 d_1054 d_1055\n",
       "     d_1056 d_1057 d_1058 d_1059 d_1060 d_1061 d_1062 d_1063 d_1064 d_1065 d_1066 d_1067 d_1068 d_1069 d_1070 d_1071 d_1072 d_1073\n",
       "     d_1074 d_1075 d_1076 d_1077 d_1078 d_1079 d_1080 d_1081 d_1082 d_1083 d_1084 d_1085 d_1086 d_1087 d_1088 d_1089 d_1090 d_1091\n",
       "     d_1092 d_1093 d_1094 d_1095 d_1096 d_1097 d_1098 d_1099 d_1100 d_1101 d_1102 d_1103 d_1104 d_1105 d_1106 d_1107 d_1108 d_1109\n",
       "     d_1110 d_1111 d_1112 d_1113 d_1114 d_1115 d_1116 d_1117 d_1118 d_1119 d_1120 d_1121 d_1122 d_1123 d_1124 d_1125 d_1126 d_1127\n",
       "     d_1128 d_1129 d_1130 d_1131 d_1132 d_1133 d_1134 d_1135 d_1136 d_1137 d_1138 d_1139 d_1140 d_1141 d_1142 d_1143 d_1144 d_1145\n",
       "     d_1146 d_1147 d_1148 d_1149 d_1150 d_1151 d_1152 d_1153 d_1154 d_1155 d_1156 d_1157 d_1158 d_1159 d_1160 d_1161 d_1162 d_1163\n",
       "     d_1164 d_1165 d_1166 d_1167 d_1168 d_1169 d_1170 d_1171 d_1172 d_1173 d_1174 d_1175 d_1176 d_1177 d_1178 d_1179 d_1180 d_1181\n",
       "     d_1182 d_1183 d_1184 d_1185 d_1186 d_1187 d_1188 d_1189 d_1190 d_1191 d_1192 d_1193 d_1194 d_1195 d_1196 d_1197 d_1198 d_1199\n",
       "     d_1200 d_1201 d_1202 d_1203 d_1204 d_1205 d_1206 d_1207 d_1208 d_1209 d_1210 d_1211 d_1212 d_1213 d_1214 d_1215 d_1216 d_1217\n",
       "     d_1218 d_1219 d_1220 d_1221 d_1222 d_1223 d_1224 d_1225 d_1226 d_1227 d_1228 d_1229 d_1230 d_1231 d_1232 d_1233 d_1234 d_1235\n",
       "     d_1236 d_1237 d_1238 d_1239 d_1240 d_1241 d_1242 d_1243 d_1244 d_1245 d_1246 d_1247 d_1248 d_1249 d_1250 d_1251 d_1252 d_1253\n",
       "     d_1254 d_1255 d_1256 d_1257 d_1258 d_1259 d_1260 d_1261 d_1262 d_1263 d_1264 d_1265 d_1266 d_1267 d_1268 d_1269 d_1270 d_1271\n",
       "     d_1272 d_1273 d_1274 d_1275 d_1276 d_1277 d_1278 d_1279 d_1280 d_1281 d_1282 d_1283 d_1284 d_1285 d_1286 d_1287 d_1288 d_1289\n",
       "     d_1290 d_1291 d_1292 d_1293 d_1294 d_1295 d_1296 d_1297 d_1298 d_1299 d_1300 d_1301 d_1302 d_1303 d_1304 d_1305 d_1306 d_1307\n",
       "     d_1308 d_1309 d_1310 d_1311 d_1312 d_1313 d_1314 d_1315 d_1316 d_1317 d_1318 d_1319 d_1320 d_1321 d_1322 d_1323 d_1324 d_1325\n",
       "     d_1326 d_1327 d_1328 d_1329 d_1330 d_1331 d_1332 d_1333 d_1334 d_1335 d_1336 d_1337 d_1338 d_1339 d_1340 d_1341 d_1342 d_1343\n",
       "     d_1344 d_1345 d_1346 d_1347 d_1348 d_1349 d_1350 d_1351 d_1352 d_1353 d_1354 d_1355 d_1356 d_1357 d_1358 d_1359 d_1360 d_1361\n",
       "     d_1362 d_1363 d_1364 d_1365 d_1366 d_1367 d_1368 d_1369 d_1370 d_1371 d_1372 d_1373 d_1374 d_1375 d_1376 d_1377 d_1378 d_1379\n",
       "     d_1380 d_1381 d_1382 d_1383 d_1384 d_1385 d_1386 d_1387 d_1388 d_1389 d_1390 d_1391 d_1392 d_1393 d_1394 d_1395 d_1396 d_1397\n",
       "     d_1398 d_1399 d_1400 d_1401 d_1402 d_1403 d_1404 d_1405 d_1406 d_1407 d_1408 d_1409 d_1410 d_1411 d_1412 d_1413 d_1414 d_1415\n",
       "     d_1416 d_1417 d_1418 d_1419 d_1420 d_1421 d_1422 d_1423 d_1424 d_1425 d_1426 d_1427 d_1428 d_1429 d_1430 d_1431 d_1432 d_1433\n",
       "     d_1434 d_1435 d_1436 d_1437 d_1438 d_1439 d_1440 d_1441 d_1442 d_1443 d_1444 d_1445 d_1446 d_1447 d_1448 d_1449 d_1450 d_1451\n",
       "     d_1452 d_1453 d_1454 d_1455 d_1456 d_1457 d_1458 d_1459 d_1460 d_1461 d_1462 d_1463 d_1464 d_1465 d_1466 d_1467 d_1468 d_1469\n",
       "     d_1470 d_1471 d_1472 d_1473 d_1474 d_1475 d_1476 d_1477 d_1478 d_1479 d_1480 d_1481 d_1482 d_1483 d_1484 d_1485 d_1486 d_1487\n",
       "     d_1488 d_1489 d_1490 d_1491 d_1492 d_1493 d_1494 d_1495 d_1496 d_1497 d_1498 d_1499 d_1500 d_1501 d_1502 d_1503 d_1504 d_1505\n",
       "     d_1506 d_1507 d_1508 d_1509 d_1510 d_1511 d_1512 d_1513 d_1514 d_1515 d_1516 d_1517 d_1518 d_1519 d_1520 d_1521 d_1522 d_1523\n",
       "     d_1524 d_1525 d_1526 d_1527 d_1528 d_1529 d_1530 d_1531 d_1532 d_1533 d_1534 d_1535 d_1536 d_1537 d_1538 d_1539 d_1540 d_1541\n",
       "     d_1542 d_1543 d_1544 d_1545 d_1546 d_1547 d_1548 d_1549 d_1550 d_1551 d_1552 d_1553 d_1554 d_1555 d_1556 d_1557 d_1558 d_1559\n",
       "     d_1560 d_1561 d_1562 d_1563 d_1564 d_1565 d_1566 d_1567 d_1568 d_1569 d_1570 d_1571 d_1572 d_1573 d_1574 d_1575 d_1576 d_1577\n",
       "     d_1578 d_1579 d_1580 d_1581 d_1582 d_1583 d_1584 d_1585 d_1586 d_1587 d_1588 d_1589 d_1590 d_1591 d_1592 d_1593 d_1594 d_1595\n",
       "     d_1596 d_1597 d_1598 d_1599 d_1600 d_1601 d_1602 d_1603 d_1604 d_1605 d_1606 d_1607 d_1608 d_1609 d_1610 d_1611 d_1612 d_1613\n",
       "     d_1614 d_1615 d_1616 d_1617 d_1618 d_1619 d_1620 d_1621 d_1622 d_1623 d_1624 d_1625 d_1626 d_1627 d_1628 d_1629 d_1630 d_1631\n",
       "     d_1632 d_1633 d_1634 d_1635 d_1636 d_1637 d_1638 d_1639 d_1640 d_1641 d_1642 d_1643 d_1644 d_1645 d_1646 d_1647 d_1648 d_1649\n",
       "     d_1650 d_1651 d_1652 d_1653 d_1654 d_1655 d_1656 d_1657 d_1658 d_1659 d_1660 d_1661 d_1662 d_1663 d_1664 d_1665 d_1666 d_1667\n",
       "     d_1668 d_1669 d_1670 d_1671 d_1672 d_1673 d_1674 d_1675 d_1676 d_1677 d_1678 d_1679 d_1680 d_1681 d_1682 d_1683 d_1684 d_1685\n",
       "     d_1686 d_1687 d_1688 d_1689 d_1690 d_1691 d_1692 d_1693 d_1694 d_1695 d_1696 d_1697 d_1698 d_1699 d_1700 d_1701 d_1702 d_1703\n",
       "     d_1704 d_1705 d_1706 d_1707 d_1708 d_1709 d_1710 d_1711 d_1712 d_1713 d_1714 d_1715 d_1716 d_1717 d_1718 d_1719 d_1720 d_1721\n",
       "     d_1722 d_1723 d_1724 d_1725 d_1726 d_1727 d_1728 d_1729 d_1730 d_1731 d_1732 d_1733 d_1734 d_1735 d_1736 d_1737 d_1738 d_1739\n",
       "     d_1740 d_1741 d_1742 d_1743 d_1744 d_1745 d_1746 d_1747 d_1748 d_1749 d_1750 d_1751 d_1752 d_1753 d_1754 d_1755 d_1756 d_1757\n",
       "     d_1758 d_1759 d_1760 d_1761 d_1762 d_1763 d_1764 d_1765 d_1766 d_1767 d_1768 d_1769 d_1770 d_1771 d_1772 d_1773 d_1774 d_1775\n",
       "     d_1776 d_1777 d_1778 d_1779 d_1780 d_1781 d_1782 d_1783 d_1784 d_1785 d_1786 d_1787 d_1788 d_1789 d_1790 d_1791 d_1792 d_1793\n",
       "     d_1794 d_1795 d_1796 d_1797 d_1798\n",
       " [ reached 'max' / getOption(\"max.print\") -- omitted 6 rows ]"
      ]
     },
     "execution_count": null,
     "metadata": {},
     "output_type": "execute_result"
    }
   ],
   "source": [
    "sales %>% head()"
   ]
  },
  {
   "cell_type": "code",
   "execution_count": 7,
   "id": "b007a2d7-f97e-4738-9fe0-0ef411ca1134",
   "metadata": {
    "vscode": {
     "languageId": "r"
    }
   },
   "outputs": [
    {
     "data": {
      "text/plain": [
       "    index store_id     item_id wm_yr_wk sell_price\n",
       "1 1862524     CA_3 FOODS_3_090    11249       1.25\n",
       "2 1862525     CA_3 FOODS_3_090    11250       1.25\n",
       "3 1862526     CA_3 FOODS_3_090    11251       1.25\n",
       "4 1862527     CA_3 FOODS_3_090    11252       1.25\n",
       "5 1862528     CA_3 FOODS_3_090    11301       1.38\n",
       "6 1862529     CA_3 FOODS_3_090    11302       1.38"
      ]
     },
     "execution_count": null,
     "metadata": {},
     "output_type": "execute_result"
    }
   ],
   "source": [
    "sell_prices %>% head()"
   ]
  },
  {
   "cell_type": "markdown",
   "id": "799cd665-6c8b-47bf-a3ea-0e1ca949c916",
   "metadata": {},
   "source": [
    "En ambas tres tablas, eliminamos la columna index porque no es significativa. De sales también eliminamos id porque es información redundante."
   ]
  },
  {
   "cell_type": "code",
   "execution_count": 8,
   "id": "0857f8c0-67a6-4ed8-8a6d-4862bc85d194",
   "metadata": {
    "vscode": {
     "languageId": "r"
    }
   },
   "outputs": [],
   "source": [
    "calendar = calendar %>% dplyr::select(-index)\n",
    "sales = sales %>% dplyr::select(-index, -id)\n",
    "sell_prices = sell_prices %>% dplyr::select(-index)"
   ]
  },
  {
   "cell_type": "markdown",
   "id": "ca5c0fdd-75a8-4312-bfa9-c59dddcbabd0",
   "metadata": {},
   "source": [
    "Ahora, haremos pasaremos de formato transaccional a tabular para normalizar algunas tablas. En sales, la estructura viene como los días de ventas y las ventas por columnas, las pasamos a filas."
   ]
  },
  {
   "cell_type": "code",
   "execution_count": 9,
   "id": "c36cb119-a9cf-43b5-8fb7-69b3134ba0a4",
   "metadata": {
    "vscode": {
     "languageId": "r"
    }
   },
   "outputs": [],
   "source": [
    "sales = pivot_longer(sales, \n",
    "                      cols = starts_with(\"d_\"), \n",
    "                      names_to = \"d\", \n",
    "                      values_to = \"ventas\")"
   ]
  },
  {
   "cell_type": "markdown",
   "id": "e080df44-6d4c-4e03-92ff-59d27cdbe5ab",
   "metadata": {},
   "source": [
    "Unimos las tablas por los campos comunes, en primer lugar sales y calendar por el campo en común \"d\" que hemos transformado en sales en el anterior paso."
   ]
  },
  {
   "cell_type": "code",
   "execution_count": 10,
   "id": "91c3f7e8-1a76-4be5-8d40-01c86ab8dbc6",
   "metadata": {
    "vscode": {
     "languageId": "r"
    }
   },
   "outputs": [],
   "source": [
    "df = sales %>% left_join(calendar, by = \"d\")"
   ]
  },
  {
   "cell_type": "markdown",
   "id": "14014bb2-1789-4b1f-8d3a-77a553c9cdcc",
   "metadata": {},
   "source": [
    "Visualizamos:"
   ]
  },
  {
   "cell_type": "code",
   "execution_count": 11,
   "id": "4aae5415-411b-401d-9135-ea7931227587",
   "metadata": {
    "vscode": {
     "languageId": "r"
    }
   },
   "outputs": [
    {
     "data": {
      "text/plain": [
       "\u001b[38;5;246m# A tibble: 6 × 17\u001b[39m\n",
       "  item_id   dept_id cat_id store_id state_id d     ventas date  wm_yr_wk weekday  wday month  year event_name_1 event_type_1 event_name_2\n",
       "  \u001b[3m\u001b[38;5;246m<chr>\u001b[39m\u001b[23m     \u001b[3m\u001b[38;5;246m<chr>\u001b[39m\u001b[23m   \u001b[3m\u001b[38;5;246m<chr>\u001b[39m\u001b[23m  \u001b[3m\u001b[38;5;246m<chr>\u001b[39m\u001b[23m    \u001b[3m\u001b[38;5;246m<chr>\u001b[39m\u001b[23m    \u001b[3m\u001b[38;5;246m<chr>\u001b[39m\u001b[23m  \u001b[3m\u001b[38;5;246m<int>\u001b[39m\u001b[23m \u001b[3m\u001b[38;5;246m<chr>\u001b[39m\u001b[23m    \u001b[3m\u001b[38;5;246m<int>\u001b[39m\u001b[23m \u001b[3m\u001b[38;5;246m<chr>\u001b[39m\u001b[23m   \u001b[3m\u001b[38;5;246m<int>\u001b[39m\u001b[23m \u001b[3m\u001b[38;5;246m<int>\u001b[39m\u001b[23m \u001b[3m\u001b[38;5;246m<int>\u001b[39m\u001b[23m \u001b[3m\u001b[38;5;246m<chr>\u001b[39m\u001b[23m        \u001b[3m\u001b[38;5;246m<chr>\u001b[39m\u001b[23m        \u001b[3m\u001b[38;5;246m<chr>\u001b[39m\u001b[23m       \n",
       "\u001b[38;5;250m1\u001b[39m FOODS_3_… FOODS_3 FOODS  CA_3     CA       d_704      0 2013…    \u001b[4m1\u001b[24m\u001b[4m1\u001b[24m249 Tuesday     4     1  \u001b[4m2\u001b[24m013 NewYear      National     \u001b[31mNA\u001b[39m          \n",
       "\u001b[38;5;250m2\u001b[39m FOODS_3_… FOODS_3 FOODS  CA_3     CA       d_705    224 2013…    \u001b[4m1\u001b[24m\u001b[4m1\u001b[24m249 Wednes…     5     1  \u001b[4m2\u001b[24m013 \u001b[31mNA\u001b[39m           \u001b[31mNA\u001b[39m           \u001b[31mNA\u001b[39m          \n",
       "\u001b[38;5;250m3\u001b[39m FOODS_3_… FOODS_3 FOODS  CA_3     CA       d_706    241 2013…    \u001b[4m1\u001b[24m\u001b[4m1\u001b[24m249 Thursd…     6     1  \u001b[4m2\u001b[24m013 \u001b[31mNA\u001b[39m           \u001b[31mNA\u001b[39m           \u001b[31mNA\u001b[39m          \n",
       "\u001b[38;5;250m4\u001b[39m FOODS_3_… FOODS_3 FOODS  CA_3     CA       d_707    232 2013…    \u001b[4m1\u001b[24m\u001b[4m1\u001b[24m249 Friday      7     1  \u001b[4m2\u001b[24m013 \u001b[31mNA\u001b[39m           \u001b[31mNA\u001b[39m           \u001b[31mNA\u001b[39m          \n",
       "\u001b[38;5;250m5\u001b[39m FOODS_3_… FOODS_3 FOODS  CA_3     CA       d_708    301 2013…    \u001b[4m1\u001b[24m\u001b[4m1\u001b[24m250 Saturd…     1     1  \u001b[4m2\u001b[24m013 \u001b[31mNA\u001b[39m           \u001b[31mNA\u001b[39m           \u001b[31mNA\u001b[39m          \n",
       "\u001b[38;5;250m6\u001b[39m FOODS_3_… FOODS_3 FOODS  CA_3     CA       d_709    270 2013…    \u001b[4m1\u001b[24m\u001b[4m1\u001b[24m250 Sunday      2     1  \u001b[4m2\u001b[24m013 \u001b[31mNA\u001b[39m           \u001b[31mNA\u001b[39m           \u001b[31mNA\u001b[39m          \n",
       "\u001b[38;5;246m# ℹ 1 more variable: event_type_2 <chr>\u001b[39m"
      ]
     },
     "execution_count": null,
     "metadata": {},
     "output_type": "execute_result"
    }
   ],
   "source": [
    "df %>%  head()"
   ]
  },
  {
   "cell_type": "markdown",
   "id": "49124992-4d68-435f-93e3-a95ce611b17e",
   "metadata": {},
   "source": [
    "Actualizamos con sell_prices, que tiene en común con df los campos \"store_id\", \"item_id\" y \"wm-yr_wk\""
   ]
  },
  {
   "cell_type": "code",
   "execution_count": 12,
   "id": "f432169a-2398-448f-939e-ac53fb45164d",
   "metadata": {
    "vscode": {
     "languageId": "r"
    }
   },
   "outputs": [],
   "source": [
    "df = df %>% left_join(sell_prices, by = c(\"store_id\", \"item_id\", \"wm_yr_wk\"))"
   ]
  },
  {
   "cell_type": "markdown",
   "id": "61799688-c90d-4c2c-ac80-afd4954899ee",
   "metadata": {},
   "source": [
    "Vamos a comprobar que todos los campos se han integrado correctamente."
   ]
  },
  {
   "cell_type": "code",
   "execution_count": 13,
   "id": "33bcf5e5-6a71-4e33-9ac2-a8b7ee86f9b6",
   "metadata": {
    "vscode": {
     "languageId": "r"
    }
   },
   "outputs": [
    {
     "data": {
      "text/plain": [
       "\u001b[38;5;246m# A tibble: 10 × 5\u001b[39m\n",
       "   store_id item_id     wm_yr_wk d     sell_price\n",
       "   \u001b[3m\u001b[38;5;246m<chr>\u001b[39m\u001b[23m    \u001b[3m\u001b[38;5;246m<chr>\u001b[39m\u001b[23m          \u001b[3m\u001b[38;5;246m<int>\u001b[39m\u001b[23m \u001b[3m\u001b[38;5;246m<chr>\u001b[39m\u001b[23m      \u001b[3m\u001b[38;5;246m<dbl>\u001b[39m\u001b[23m\n",
       "\u001b[38;5;250m 1\u001b[39m CA_3     FOODS_3_090    \u001b[4m1\u001b[24m\u001b[4m1\u001b[24m249 d_704       1.25\n",
       "\u001b[38;5;250m 2\u001b[39m CA_3     FOODS_3_090    \u001b[4m1\u001b[24m\u001b[4m1\u001b[24m249 d_705       1.25\n",
       "\u001b[38;5;250m 3\u001b[39m CA_3     FOODS_3_090    \u001b[4m1\u001b[24m\u001b[4m1\u001b[24m249 d_706       1.25\n",
       "\u001b[38;5;250m 4\u001b[39m CA_3     FOODS_3_090    \u001b[4m1\u001b[24m\u001b[4m1\u001b[24m249 d_707       1.25\n",
       "\u001b[38;5;250m 5\u001b[39m CA_3     FOODS_3_090    \u001b[4m1\u001b[24m\u001b[4m1\u001b[24m250 d_708       1.25\n",
       "\u001b[38;5;250m 6\u001b[39m CA_3     FOODS_3_090    \u001b[4m1\u001b[24m\u001b[4m1\u001b[24m250 d_709       1.25\n",
       "\u001b[38;5;250m 7\u001b[39m CA_3     FOODS_3_090    \u001b[4m1\u001b[24m\u001b[4m1\u001b[24m250 d_710       1.25\n",
       "\u001b[38;5;250m 8\u001b[39m CA_3     FOODS_3_090    \u001b[4m1\u001b[24m\u001b[4m1\u001b[24m250 d_711       1.25\n",
       "\u001b[38;5;250m 9\u001b[39m CA_3     FOODS_3_090    \u001b[4m1\u001b[24m\u001b[4m1\u001b[24m250 d_712       1.25\n",
       "\u001b[38;5;250m10\u001b[39m CA_3     FOODS_3_090    \u001b[4m1\u001b[24m\u001b[4m1\u001b[24m250 d_713       1.25"
      ]
     },
     "execution_count": null,
     "metadata": {},
     "output_type": "execute_result"
    }
   ],
   "source": [
    "df %>% select(store_id, item_id, wm_yr_wk, d, sell_price) %>%\n",
    "arrange(store_id, item_id, wm_yr_wk, d) %>% \n",
    "head(10)"
   ]
  },
  {
   "cell_type": "markdown",
   "id": "7d0ceda0-85b5-48ec-b2ec-df0b622723bb",
   "metadata": {},
   "source": [
    "Vamos ahora a poner las columnas en un orden más adecuado."
   ]
  },
  {
   "cell_type": "code",
   "execution_count": 14,
   "id": "1499be87-3c61-4a96-bf56-8a71899bb2f4",
   "metadata": {
    "vscode": {
     "languageId": "r"
    }
   },
   "outputs": [],
   "source": [
    "columns_order = c('date', 'state_id', 'store_id', 'dept_id', 'cat_id', 'item_id', 'wm_yr_wk', 'd', 'ventas',\n",
    "                      'sell_price', 'year', 'month', 'wday', 'weekday', 'event_name_1', 'event_type_1', 'event_name_2',\n",
    "                      'event_type_2')"
   ]
  },
  {
   "cell_type": "code",
   "execution_count": 15,
   "id": "519ace60-96fa-4d4c-81f7-e14bb110af10",
   "metadata": {
    "vscode": {
     "languageId": "r"
    }
   },
   "outputs": [],
   "source": [
    "df = df[, columns_order]"
   ]
  },
  {
   "cell_type": "code",
   "execution_count": 16,
   "id": "b6d376cf-b0b2-41b0-a2b4-46e531297d29",
   "metadata": {
    "vscode": {
     "languageId": "r"
    }
   },
   "outputs": [
    {
     "data": {
      "text/plain": [
       "\u001b[38;5;246m# A tibble: 6 × 18\u001b[39m\n",
       "  date      state_id store_id dept_id cat_id item_id wm_yr_wk d     ventas sell_price  year month  wday weekday event_name_1 event_type_1\n",
       "  \u001b[3m\u001b[38;5;246m<chr>\u001b[39m\u001b[23m     \u001b[3m\u001b[38;5;246m<chr>\u001b[39m\u001b[23m    \u001b[3m\u001b[38;5;246m<chr>\u001b[39m\u001b[23m    \u001b[3m\u001b[38;5;246m<chr>\u001b[39m\u001b[23m   \u001b[3m\u001b[38;5;246m<chr>\u001b[39m\u001b[23m  \u001b[3m\u001b[38;5;246m<chr>\u001b[39m\u001b[23m      \u001b[3m\u001b[38;5;246m<int>\u001b[39m\u001b[23m \u001b[3m\u001b[38;5;246m<chr>\u001b[39m\u001b[23m  \u001b[3m\u001b[38;5;246m<int>\u001b[39m\u001b[23m      \u001b[3m\u001b[38;5;246m<dbl>\u001b[39m\u001b[23m \u001b[3m\u001b[38;5;246m<int>\u001b[39m\u001b[23m \u001b[3m\u001b[38;5;246m<int>\u001b[39m\u001b[23m \u001b[3m\u001b[38;5;246m<int>\u001b[39m\u001b[23m \u001b[3m\u001b[38;5;246m<chr>\u001b[39m\u001b[23m   \u001b[3m\u001b[38;5;246m<chr>\u001b[39m\u001b[23m        \u001b[3m\u001b[38;5;246m<chr>\u001b[39m\u001b[23m       \n",
       "\u001b[38;5;250m1\u001b[39m 2013-01-… CA       CA_3     FOODS_3 FOODS  FOODS_…    \u001b[4m1\u001b[24m\u001b[4m1\u001b[24m249 d_704      0       1.25  \u001b[4m2\u001b[24m013     1     4 Tuesday NewYear      National    \n",
       "\u001b[38;5;250m2\u001b[39m 2013-01-… CA       CA_3     FOODS_3 FOODS  FOODS_…    \u001b[4m1\u001b[24m\u001b[4m1\u001b[24m249 d_705    224       1.25  \u001b[4m2\u001b[24m013     1     5 Wednes… \u001b[31mNA\u001b[39m           \u001b[31mNA\u001b[39m          \n",
       "\u001b[38;5;250m3\u001b[39m 2013-01-… CA       CA_3     FOODS_3 FOODS  FOODS_…    \u001b[4m1\u001b[24m\u001b[4m1\u001b[24m249 d_706    241       1.25  \u001b[4m2\u001b[24m013     1     6 Thursd… \u001b[31mNA\u001b[39m           \u001b[31mNA\u001b[39m          \n",
       "\u001b[38;5;250m4\u001b[39m 2013-01-… CA       CA_3     FOODS_3 FOODS  FOODS_…    \u001b[4m1\u001b[24m\u001b[4m1\u001b[24m249 d_707    232       1.25  \u001b[4m2\u001b[24m013     1     7 Friday  \u001b[31mNA\u001b[39m           \u001b[31mNA\u001b[39m          \n",
       "\u001b[38;5;250m5\u001b[39m 2013-01-… CA       CA_3     FOODS_3 FOODS  FOODS_…    \u001b[4m1\u001b[24m\u001b[4m1\u001b[24m250 d_708    301       1.25  \u001b[4m2\u001b[24m013     1     1 Saturd… \u001b[31mNA\u001b[39m           \u001b[31mNA\u001b[39m          \n",
       "\u001b[38;5;250m6\u001b[39m 2013-01-… CA       CA_3     FOODS_3 FOODS  FOODS_…    \u001b[4m1\u001b[24m\u001b[4m1\u001b[24m250 d_709    270       1.25  \u001b[4m2\u001b[24m013     1     2 Sunday  \u001b[31mNA\u001b[39m           \u001b[31mNA\u001b[39m          \n",
       "\u001b[38;5;246m# ℹ 2 more variables: event_name_2 <chr>, event_type_2 <chr>\u001b[39m"
      ]
     },
     "execution_count": null,
     "metadata": {},
     "output_type": "execute_result"
    }
   ],
   "source": [
    "df %>% head()"
   ]
  },
  {
   "cell_type": "markdown",
   "id": "4c67f607-067f-44c9-a1d6-e69503a9ad6d",
   "metadata": {},
   "source": [
    "Vamos a establecer la columna date, como datetime."
   ]
  },
  {
   "cell_type": "code",
   "execution_count": 17,
   "id": "ed24598f-de6c-41ab-a6cc-51c71aff5120",
   "metadata": {
    "vscode": {
     "languageId": "r"
    }
   },
   "outputs": [],
   "source": [
    "df$date = ymd(df$date)"
   ]
  },
  {
   "cell_type": "markdown",
   "id": "d670aae9-8b37-459e-a8ab-4a4b5ed6d939",
   "metadata": {},
   "source": [
    "Guardamos el dataset en formato .rds."
   ]
  },
  {
   "cell_type": "code",
   "execution_count": 18,
   "id": "89e839f7-5b8b-4546-9ee1-c42fc5e4fccb",
   "metadata": {
    "vscode": {
     "languageId": "r"
    }
   },
   "outputs": [],
   "source": [
    "saveRDS(df, file = \"../02_Variables/df.rds\")"
   ]
  },
  {
   "cell_type": "code",
   "execution_count": null,
   "id": "2489f7a8",
   "metadata": {
    "vscode": {
     "languageId": "r"
    }
   },
   "outputs": [],
   "source": []
  }
 ],
 "metadata": {
  "kernelspec": {
   "display_name": "sales_forecasting",
   "language": "R",
   "name": "ir"
  },
  "language_info": {
   "codemirror_mode": "r",
   "file_extension": ".r",
   "mimetype": "text/x-r-source",
   "name": "R",
   "pygments_lexer": "r",
   "version": "4.3.3"
  }
 },
 "nbformat": 4,
 "nbformat_minor": 5
}
