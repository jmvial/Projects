{
 "cells": [
  {
   "cell_type": "code",
   "execution_count": 1,
   "id": "02853372-e1aa-4528-b25e-2a826e0728f3",
   "metadata": {
    "vscode": {
     "languageId": "r"
    }
   },
   "outputs": [
    {
     "name": "stdout",
     "output_type": "stream",
     "text": [
      "\n",
      "Attaching package: ‘dplyr’\n",
      "\n",
      "The following objects are masked from ‘package:stats’:\n",
      "\n",
      "    filter, lag\n",
      "\n",
      "The following objects are masked from ‘package:base’:\n",
      "\n",
      "    intersect, setdiff, setequal, union\n",
      "\n",
      "\n",
      "\n",
      "Attaching package: ‘dplyr’\n",
      "\n",
      "The following objects are masked from ‘package:stats’:\n",
      "\n",
      "    filter, lag\n",
      "\n",
      "The following objects are masked from ‘package:base’:\n",
      "\n",
      "    intersect, setdiff, setequal, union\n",
      "\n"
     ]
    },
    {
     "name": "stdout",
     "output_type": "stream",
     "text": [
      "\n",
      "Attaching package: ‘lubridate’\n",
      "\n",
      "The following objects are masked from ‘package:base’:\n",
      "\n",
      "    date, intersect, setdiff, union\n",
      "\n",
      "\n",
      "\n",
      "Attaching package: ‘lubridate’\n",
      "\n",
      "The following objects are masked from ‘package:base’:\n",
      "\n",
      "    date, intersect, setdiff, union\n",
      "\n"
     ]
    },
    {
     "name": "stdout",
     "output_type": "stream",
     "text": [
      "\n",
      "Attaching package: ‘tidyr’\n",
      "\n",
      "The following object is masked from ‘package:magrittr’:\n",
      "\n",
      "    extract\n",
      "\n",
      "\n",
      "\n",
      "Attaching package: ‘tidyr’\n",
      "\n",
      "The following object is masked from ‘package:magrittr’:\n",
      "\n",
      "    extract\n",
      "\n"
     ]
    }
   ],
   "source": [
    "library('magrittr')\n",
    "library('dplyr')\n",
    "library('lubridate')\n",
    "library('tidyr')\n",
    "library('ggplot2')"
   ]
  },
  {
   "cell_type": "markdown",
   "id": "610b92c8-18ad-4acd-b932-60c4c0298d2a",
   "metadata": {},
   "source": [
    "Recuperamos el archivo de trabajo en .rds."
   ]
  },
  {
   "cell_type": "code",
   "execution_count": 2,
   "id": "e500d724-2c8c-451d-b756-0263456d0c20",
   "metadata": {
    "vscode": {
     "languageId": "r"
    }
   },
   "outputs": [],
   "source": [
    "df = readRDS('../02_Variables/df.rds')"
   ]
  },
  {
   "cell_type": "code",
   "execution_count": 3,
   "id": "e0a79191-e3f1-4083-92b5-c4c00e942adf",
   "metadata": {
    "vscode": {
     "languageId": "r"
    }
   },
   "outputs": [
    {
     "data": {
      "text/plain": [
       "\u001b[38;5;246m# A tibble: 6 × 18\u001b[39m\n",
       "  date       state_id store_id dept_id cat_id item_id     wm_yr_wk d     ventas sell_price  year month  wday weekday   event_name_1\n",
       "  \u001b[3m\u001b[38;5;246m<date>\u001b[39m\u001b[23m     \u001b[3m\u001b[38;5;246m<chr>\u001b[39m\u001b[23m    \u001b[3m\u001b[38;5;246m<chr>\u001b[39m\u001b[23m    \u001b[3m\u001b[38;5;246m<chr>\u001b[39m\u001b[23m   \u001b[3m\u001b[38;5;246m<chr>\u001b[39m\u001b[23m  \u001b[3m\u001b[38;5;246m<chr>\u001b[39m\u001b[23m          \u001b[3m\u001b[38;5;246m<int>\u001b[39m\u001b[23m \u001b[3m\u001b[38;5;246m<chr>\u001b[39m\u001b[23m  \u001b[3m\u001b[38;5;246m<int>\u001b[39m\u001b[23m      \u001b[3m\u001b[38;5;246m<dbl>\u001b[39m\u001b[23m \u001b[3m\u001b[38;5;246m<int>\u001b[39m\u001b[23m \u001b[3m\u001b[38;5;246m<int>\u001b[39m\u001b[23m \u001b[3m\u001b[38;5;246m<int>\u001b[39m\u001b[23m \u001b[3m\u001b[38;5;246m<chr>\u001b[39m\u001b[23m     \u001b[3m\u001b[38;5;246m<chr>\u001b[39m\u001b[23m       \n",
       "\u001b[38;5;250m1\u001b[39m 2013-01-01 CA       CA_3     FOODS_3 FOODS  FOODS_3_090    \u001b[4m1\u001b[24m\u001b[4m1\u001b[24m249 d_704      0       1.25  \u001b[4m2\u001b[24m013     1     4 Tuesday   NewYear     \n",
       "\u001b[38;5;250m2\u001b[39m 2013-01-02 CA       CA_3     FOODS_3 FOODS  FOODS_3_090    \u001b[4m1\u001b[24m\u001b[4m1\u001b[24m249 d_705    224       1.25  \u001b[4m2\u001b[24m013     1     5 Wednesday \u001b[31mNA\u001b[39m          \n",
       "\u001b[38;5;250m3\u001b[39m 2013-01-03 CA       CA_3     FOODS_3 FOODS  FOODS_3_090    \u001b[4m1\u001b[24m\u001b[4m1\u001b[24m249 d_706    241       1.25  \u001b[4m2\u001b[24m013     1     6 Thursday  \u001b[31mNA\u001b[39m          \n",
       "\u001b[38;5;250m4\u001b[39m 2013-01-04 CA       CA_3     FOODS_3 FOODS  FOODS_3_090    \u001b[4m1\u001b[24m\u001b[4m1\u001b[24m249 d_707    232       1.25  \u001b[4m2\u001b[24m013     1     7 Friday    \u001b[31mNA\u001b[39m          \n",
       "\u001b[38;5;250m5\u001b[39m 2013-01-05 CA       CA_3     FOODS_3 FOODS  FOODS_3_090    \u001b[4m1\u001b[24m\u001b[4m1\u001b[24m250 d_708    301       1.25  \u001b[4m2\u001b[24m013     1     1 Saturday  \u001b[31mNA\u001b[39m          \n",
       "\u001b[38;5;250m6\u001b[39m 2013-01-06 CA       CA_3     FOODS_3 FOODS  FOODS_3_090    \u001b[4m1\u001b[24m\u001b[4m1\u001b[24m250 d_709    270       1.25  \u001b[4m2\u001b[24m013     1     2 Sunday    \u001b[31mNA\u001b[39m          \n",
       "\u001b[38;5;246m# ℹ 3 more variables: event_type_1 <chr>, event_name_2 <chr>, event_type_2 <chr>\u001b[39m"
      ]
     },
     "execution_count": null,
     "metadata": {},
     "output_type": "execute_result"
    }
   ],
   "source": [
    "df %>% head()"
   ]
  },
  {
   "cell_type": "markdown",
   "id": "c7ea8088-760e-4300-835d-632a3b4c965c",
   "metadata": {},
   "source": [
    "Visualizamos información y tipos de variables."
   ]
  },
  {
   "cell_type": "code",
   "execution_count": 4,
   "id": "7160cf4c-3412-4f55-b268-503ffdaf33f7",
   "metadata": {
    "vscode": {
     "languageId": "r"
    }
   },
   "outputs": [
    {
     "name": "stdout",
     "output_type": "stream",
     "text": [
      "tibble [21,900 × 18] (S3: tbl_df/tbl/data.frame)\n",
      " $ date        : Date[1:21900], format: tibble [21,900 × 18] (S3: tbl_df/tbl/data.frame)\n",
      " $ date        : Date[1:21900], format: "
     ]
    },
    {
     "name": "stdout",
     "output_type": "stream",
     "text": [
      "\"2013-01-01\" \"2013-01-02\" \"2013-01-03\" \"2013-01-04\" ...\n",
      " $ state_id    : chr [1:21900] \"CA\" \"CA\" \"CA\" \"CA\" ...\n",
      " $ store_id    : chr [1:21900] \"CA_3\" \"CA_3\" \"CA_3\" \"CA_3\" ...\n",
      " $ dept_id     : chr [1:21900] \"FOODS_3\" \"FOODS_3\" \"FOODS_3\" \"FOODS_3\" ...\n",
      " $ cat_id      : chr [1:21900] \"FOODS\" \"FOODS\" \"FOODS\" \"FOODS\" ...\n",
      " $ item_id     : chr [1:21900] \"FOODS_3_090\" \"FOODS_3_090\" \"FOODS_3_090\" \"FOODS_3_090\" ...\n",
      " $ wm_yr_wk    : int [1:21900] 11249 11249 11249 11249 11250 11250 11250 11250 11250 11250 ...\n",
      " $ d           : chr [1:21900] \"d_704\" \"d_705\" \"d_706\" \"d_707\" ...\n",
      " $ ventas      : int [1:21900] 0 224 241 232 301 270 188 215 197 245 ...\n",
      " $ sell_price  : num [1:21900] 1.25 1.25 1.25 1.25 1.25 1.25 1.25 1.25 1.25 1.25 ...\n",
      " $ year        : int [1:21900] 2013 2013 2013 2013 2013 2013 2013 2013 2013 2013 ...\n",
      " $ month       : int [1:21900] 1 1 1 1 1 1 1 1 1 1 ...\n",
      " $ wday        : int [1:21900] 4 5 6 7 1 2 3 4 5 6 ...\n",
      " $ weekday     : chr [1:21900] \"Tuesday\" \"Wednesday\" \"Thursday\" \"Friday\" ...\n",
      " $ event_name_1: chr [1:21900] \"NewYear\" NA NA NA ...\n",
      " $ event_type_1: chr [1:21900] \"National\" NA NA NA ...\n",
      " $ event_name_2: chr [1:21900] NA NA NA NA ...\n",
      " $ event_type_2: chr [1:21900] NA NA NA NA ...\n",
      "\"2013-01-01\" \"2013-01-02\" \"2013-01-03\" \"2013-01-04\" ...\n",
      " $ state_id    : chr [1:21900] \"CA\" \"CA\" \"CA\" \"CA\" ...\n",
      " $ store_id    : chr [1:21900] \"CA_3\" \"CA_3\" \"CA_3\" \"CA_3\" ...\n",
      " $ dept_id     : chr [1:21900] \"FOODS_3\" \"FOODS_3\" \"FOODS_3\" \"FOODS_3\" ...\n",
      " $ cat_id      : chr [1:21900] \"FOODS\" \"FOODS\" \"FOODS\" \"FOODS\" ...\n",
      " $ item_id     : chr [1:21900] \"FOODS_3_090\" \"FOODS_3_090\" \"FOODS_3_090\" \"FOODS_3_090\" ...\n",
      " $ wm_yr_wk    : int [1:21900] 11249 11249 11249 11249 11250 11250 11250 11250 11250 11250 ...\n",
      " $ d           : chr [1:21900] \"d_704\" \"d_705\" \"d_706\" \"d_707\" ...\n",
      " $ ventas      : int [1:21900] 0 224 241 232 301 270 188 215 197 245 ...\n",
      " $ sell_price  : num [1:21900] 1.25 1.25 1.25 1.25 1.25 1.25 1.25 1.25 1.25 1.25 ...\n",
      " $ year        : int [1:21900] 2013 2013 2013 2013 2013 2013 2013 2013 2013 2013 ...\n",
      " $ month       : int [1:21900] 1 1 1 1 1 1 1 1 1 1 ...\n",
      " $ wday        : int [1:21900] 4 5 6 7 1 2 3 4 5 6 ...\n",
      " $ weekday     : chr [1:21900] \"Tuesday\" \"Wednesday\" \"Thursday\" \"Friday\" ...\n",
      " $ event_name_1: chr [1:21900] \"NewYear\" NA NA NA ...\n",
      " $ event_type_1: chr [1:21900] \"National\" NA NA NA ...\n",
      " $ event_name_2: chr [1:21900] NA NA NA NA ...\n",
      " $ event_type_2: chr [1:21900] NA NA NA NA ...\n"
     ]
    }
   ],
   "source": [
    "str(df)"
   ]
  },
  {
   "cell_type": "markdown",
   "id": "b1647ae5-c493-4492-8601-e0be4e2cb144",
   "metadata": {},
   "source": [
    "Ponemos year, month y wday como variables de tipo chr."
   ]
  },
  {
   "cell_type": "code",
   "execution_count": 5,
   "id": "9f5eabfa-3e3d-4352-9ac3-f5c653069d06",
   "metadata": {
    "vscode": {
     "languageId": "r"
    }
   },
   "outputs": [],
   "source": [
    "df = df %>% mutate(across(c(year, month, wday), as.character))"
   ]
  },
  {
   "cell_type": "markdown",
   "id": "363fef89-a629-40c4-b076-7e766d44e12e",
   "metadata": {},
   "source": [
    "Comprobamos:"
   ]
  },
  {
   "cell_type": "code",
   "execution_count": 6,
   "id": "e8c8c49e-da05-4117-8ac8-6d433cf4b58e",
   "metadata": {
    "vscode": {
     "languageId": "r"
    }
   },
   "outputs": [
    {
     "name": "stdout",
     "output_type": "stream",
     "text": [
      "tibble [21,900 × 18] (S3: tbl_df/tbl/data.frame)\n",
      " $ date        : Date[1:21900], format: \"2013-01-01\" \"2013-01-02\" \"2013-01-03\" \"2013-01-04\" ...\n",
      " $ state_id    : chr [1:21900] \"CA\" \"CA\" \"CA\" \"CA\" ...\n",
      " $ store_id    : chr [1:21900] \"CA_3\" \"CA_3\" \"CA_3\" \"CA_3\" ...\n",
      " $ dept_id     : chr [1:21900] \"FOODS_3\" \"FOODS_3\" \"FOODS_3\" \"FOODS_3\" ...\n",
      " $ cat_id      : chr [1:21900] \"FOODS\" \"FOODS\" \"FOODS\" \"FOODS\" ...\n",
      " $ item_id     : chr [1:21900] \"FOODS_3_090\" \"FOODS_3_090\" \"FOODS_3_090\" \"FOODS_3_090\" ...\n",
      " $ wm_yr_wk    : int [1:21900] 11249 11249 11249 11249 11250 11250 11250 11250 11250 11250 ...\n",
      " $ d           : chr [1:21900] \"d_704\" \"d_705\" \"d_706\" \"d_707\" ...\n",
      " $ ventas      : int [1:21900] 0 224 241 232 301 270 188 215 197 245 ...\n",
      " $ sell_price  : num [1:21900] 1.25 1.25 1.25 1.25 1.25 1.25 1.25 1.25 1.25 1.25 ...\n",
      " $ year        : chr [1:21900] \"2013\" \"2013\" \"2013\" \"2013\" ...\n",
      " $ month       : chr [1:21900] \"1\" \"1\" \"1\" \"1\" ...\n",
      " $ wday        : chr [1:21900] \"4\" \"5\" \"6\" \"7\" ...\n",
      " $ weekday     : chr [1:21900] \"Tuesday\" \"Wednesday\" \"Thursday\" \"Friday\" ...\n",
      " $ event_name_1: chr [1:21900] \"NewYear\" NA NA NA ...\n",
      " $ event_type_1: chr [1:21900] \"National\" NA NA NA ...\n",
      " $ event_name_2: chr [1:21900] NA NA NA NA ...\n",
      " $ event_type_2: chr [1:21900] NA NA NA NA ...\n",
      "tibble [21,900 × 18] (S3: tbl_df/tbl/data.frame)\n",
      " $ date        : Date[1:21900], format: \"2013-01-01\" \"2013-01-02\" \"2013-01-03\" \"2013-01-04\" ...\n",
      " $ state_id    : chr [1:21900] \"CA\" \"CA\" \"CA\" \"CA\" ...\n",
      " $ store_id    : chr [1:21900] \"CA_3\" \"CA_3\" \"CA_3\" \"CA_3\" ...\n",
      " $ dept_id     : chr [1:21900] \"FOODS_3\" \"FOODS_3\" \"FOODS_3\" \"FOODS_3\" ...\n",
      " $ cat_id      : chr [1:21900] \"FOODS\" \"FOODS\" \"FOODS\" \"FOODS\" ...\n",
      " $ item_id     : chr [1:21900] \"FOODS_3_090\" \"FOODS_3_090\" \"FOODS_3_090\" \"FOODS_3_090\" ...\n",
      " $ wm_yr_wk    : int [1:21900] 11249 11249 11249 11249 11250 11250 11250 11250 11250 11250 ...\n",
      " $ d           : chr [1:21900] \"d_704\" \"d_705\" \"d_706\" \"d_707\" ...\n",
      " $ ventas      : int [1:21900] 0 224 241 232 301 270 188 215 197 245 ...\n",
      " $ sell_price  : num [1:21900] 1.25 1.25 1.25 1.25 1.25 1.25 1.25 1.25 1.25 1.25 ...\n",
      " $ year        : chr [1:21900] \"2013\" \"2013\" \"2013\" \"2013\" ...\n",
      " $ month       : chr [1:21900] \"1\" \"1\" \"1\" \"1\" ...\n",
      " $ wday        : chr [1:21900] \"4\" \"5\" \"6\" \"7\" ...\n",
      " $ weekday     : chr [1:21900] \"Tuesday\" \"Wednesday\" \"Thursday\" \"Friday\" ...\n",
      " $ event_name_1: chr [1:21900] \"NewYear\" NA NA NA ...\n",
      " $ event_type_1: chr [1:21900] \"National\" NA NA NA ...\n",
      " $ event_name_2: chr [1:21900] NA NA NA NA ...\n",
      " $ event_type_2: chr [1:21900] NA NA NA NA ...\n"
     ]
    }
   ],
   "source": [
    "str(df)"
   ]
  },
  {
   "cell_type": "markdown",
   "id": "2224b2e2-e572-4ba1-9db7-4f9a7be1d670",
   "metadata": {},
   "source": [
    "Vemos sí existen valores únicos que no aporten como variables:"
   ]
  },
  {
   "cell_type": "code",
   "execution_count": 7,
   "id": "4aac5e52-76db-4468-8d02-935227811956",
   "metadata": {
    "vscode": {
     "languageId": "r"
    }
   },
   "outputs": [
    {
     "data": {
      "text/plain": [
       "    state_id      dept_id       cat_id     store_id         year event_type_2 event_name_2 event_type_1         wday      weekday \n",
       "           1            1            1            2            3            3            4            5            7            7 \n",
       "     item_id        month   sell_price event_name_1     wm_yr_wk       ventas         date            d \n",
       "          10           12           25           31          157          301         1095         1095 "
      ]
     },
     "execution_count": null,
     "metadata": {},
     "output_type": "execute_result"
    }
   ],
   "source": [
    "sapply(df, n_distinct) %>% sort()"
   ]
  },
  {
   "cell_type": "markdown",
   "id": "5e309542-10c9-444d-ab32-ac245cd7c57f",
   "metadata": {},
   "source": [
    "Vemos que hay valores únicos en las variables state_id, dept_id y cat_id, por tanto las eliminamos."
   ]
  },
  {
   "cell_type": "code",
   "execution_count": 8,
   "id": "81b6d7fc-179f-4f71-af46-88a4b8cb8b88",
   "metadata": {
    "vscode": {
     "languageId": "r"
    }
   },
   "outputs": [],
   "source": [
    "df = df %>% select(-state_id, -cat_id, -dept_id)"
   ]
  },
  {
   "cell_type": "markdown",
   "id": "73168833-65f1-47b1-8257-2ed27f8f4bb9",
   "metadata": {},
   "source": [
    "Comprobamos sí existen duplicados:"
   ]
  },
  {
   "cell_type": "code",
   "execution_count": 9,
   "id": "c3fe18d7-220a-463f-a594-b618f68d3db2",
   "metadata": {
    "vscode": {
     "languageId": "r"
    }
   },
   "outputs": [
    {
     "data": {
      "text/plain": [
       "[1] 0"
      ]
     },
     "execution_count": null,
     "metadata": {},
     "output_type": "execute_result"
    }
   ],
   "source": [
    "sum(duplicated(df))"
   ]
  },
  {
   "cell_type": "markdown",
   "id": "5a4f421b-114f-456d-a1b6-a1946983d12f",
   "metadata": {},
   "source": [
    "A partir de ahora, separaremos el dataset (df), en variables categóricas y numéricas para procesarlas mejor por separado."
   ]
  },
  {
   "cell_type": "code",
   "execution_count": 10,
   "id": "a52531f3-e5d8-4892-98ef-1c125503998c",
   "metadata": {
    "vscode": {
     "languageId": "r"
    }
   },
   "outputs": [],
   "source": [
    "num = df %>% select(where(is.numeric))\n",
    "cat = df %>% select_if(~ !is.numeric(.))"
   ]
  },
  {
   "cell_type": "markdown",
   "id": "5fce9251-f1d3-40fa-a727-387f6b5fb410",
   "metadata": {},
   "source": [
    "## Categóricas"
   ]
  },
  {
   "cell_type": "markdown",
   "id": "e1428b13-7c94-4223-90cc-f921510b2b6c",
   "metadata": {},
   "source": [
    "Verificamos los valores nulos de cat:"
   ]
  },
  {
   "cell_type": "code",
   "execution_count": 11,
   "id": "0bf80d68-f2c9-484e-841a-091c8bfd20e4",
   "metadata": {
    "vscode": {
     "languageId": "r"
    }
   },
   "outputs": [
    {
     "data": {
      "text/plain": [
       "event_name_2 event_type_2 event_name_1 event_type_1         date     store_id      item_id            d         year        month \n",
       "       21840        21840        20160        20160            0            0            0            0            0            0 \n",
       "        wday      weekday \n",
       "           0            0 "
      ]
     },
     "execution_count": null,
     "metadata": {},
     "output_type": "execute_result"
    }
   ],
   "source": [
    "sort(colSums(is.na(cat)), decreasing = TRUE)"
   ]
  },
  {
   "cell_type": "markdown",
   "id": "cafa7e8f-6a61-49db-949e-4e64f72191b2",
   "metadata": {},
   "source": [
    "Comprobamos las variables donde han aparecido valores nulos:"
   ]
  },
  {
   "cell_type": "code",
   "execution_count": 12,
   "id": "c26f79bf-66e7-46f8-894f-1002856af8bf",
   "metadata": {
    "vscode": {
     "languageId": "r"
    }
   },
   "outputs": [
    {
     "data": {
      "text/plain": [
       "\n",
       "       Chanukah End           Christmas       Cinco De Mayo         ColumbusDay              Easter         Eid al-Fitr \n",
       "                 60                  60                  40                  60                  60                  60 \n",
       "          EidAlAdha        Father's day           Halloween     IndependenceDay            LaborDay           LentStart \n",
       "                 60                  40                  60                  60                  60                  60 \n",
       "          LentWeek2 MartinLutherKingDay         MemorialDay        Mother's day        NBAFinalsEnd      NBAFinalsStart \n",
       "                 60                  60                  60                  60                  60                  60 \n",
       "            NewYear   OrthodoxChristmas      OrthodoxEaster          Pesach End       PresidentsDay           Purim End \n",
       "                 60                  60                  40                  60                  60                  60 \n",
       "     Ramadan starts       StPatricksDay           SuperBowl        Thanksgiving       ValentinesDay         VeteransDay \n",
       "                 60                  60                  60                  60                  60                  60 \n",
       "               <NA> \n",
       "              20160 "
      ]
     },
     "execution_count": null,
     "metadata": {},
     "output_type": "execute_result"
    }
   ],
   "source": [
    "table(cat$event_name_1, useNA = \"always\")"
   ]
  },
  {
   "cell_type": "code",
   "execution_count": 13,
   "id": "f576e684-d91e-44f5-a708-e9f09efa5b07",
   "metadata": {
    "vscode": {
     "languageId": "r"
    }
   },
   "outputs": [
    {
     "data": {
      "text/plain": [
       "\n",
       " Cultural  National Religious  Sporting      <NA> \n",
       "      380       600       580       180     20160 "
      ]
     },
     "execution_count": null,
     "metadata": {},
     "output_type": "execute_result"
    }
   ],
   "source": [
    "table(cat$event_type_1, useNA = \"always\")"
   ]
  },
  {
   "cell_type": "code",
   "execution_count": 14,
   "id": "d40d0d43-767b-472e-8d6e-38cc1252f440",
   "metadata": {
    "vscode": {
     "languageId": "r"
    }
   },
   "outputs": [
    {
     "data": {
      "text/plain": [
       "\n",
       " Cinco De Mayo   Father's day OrthodoxEaster           <NA> \n",
       "            20             20             20          21840 "
      ]
     },
     "execution_count": null,
     "metadata": {},
     "output_type": "execute_result"
    }
   ],
   "source": [
    "table(cat$event_name_2, useNA = \"always\")"
   ]
  },
  {
   "cell_type": "code",
   "execution_count": 15,
   "id": "44392752-4ae1-4358-9da6-d7b3d97daddd",
   "metadata": {
    "vscode": {
     "languageId": "r"
    }
   },
   "outputs": [
    {
     "data": {
      "text/plain": [
       "\n",
       " Cultural Religious      <NA> \n",
       "       40        20     21840 "
      ]
     },
     "execution_count": null,
     "metadata": {},
     "output_type": "execute_result"
    }
   ],
   "source": [
    "table(cat$event_type_2, useNA = \"always\")"
   ]
  },
  {
   "cell_type": "markdown",
   "id": "f719bd8f-1996-4a72-94bc-987869268561",
   "metadata": {},
   "source": [
    "Vemos que la información que aparece en 2, es redundante e incompleta con respecto a 1 que ya la incluye, y además más adicional sobre otros eventos."
   ]
  },
  {
   "cell_type": "markdown",
   "id": "9cf47ebf-cde4-4fc3-b35f-baeba7125139",
   "metadata": {},
   "source": [
    "Vamos a comprobar sí hay alguna relación coherente con tabla cruzada."
   ]
  },
  {
   "cell_type": "code",
   "execution_count": 16,
   "id": "294797f3-260a-4f47-b1a7-3e2addc243a7",
   "metadata": {
    "vscode": {
     "languageId": "r"
    }
   },
   "outputs": [
    {
     "data": {
      "text/plain": [
       "                     \n",
       "                      Cinco De Mayo Father's day OrthodoxEaster\n",
       "  Chanukah End                    0            0              0\n",
       "  Christmas                       0            0              0\n",
       "  Cinco De Mayo                   0            0              0\n",
       "  ColumbusDay                     0            0              0\n",
       "  Easter                          0            0             20\n",
       "  Eid al-Fitr                     0            0              0\n",
       "  EidAlAdha                       0            0              0\n",
       "  Father's day                    0            0              0\n",
       "  Halloween                       0            0              0\n",
       "  IndependenceDay                 0            0              0\n",
       "  LaborDay                        0            0              0\n",
       "  LentStart                       0            0              0\n",
       "  LentWeek2                       0            0              0\n",
       "  MartinLutherKingDay             0            0              0\n",
       "  MemorialDay                     0            0              0\n",
       "  Mother's day                    0            0              0\n",
       "  NBAFinalsEnd                    0           20              0\n",
       "  NBAFinalsStart                  0            0              0\n",
       "  NewYear                         0            0              0\n",
       "  OrthodoxChristmas               0            0              0\n",
       "  OrthodoxEaster                 20            0              0\n",
       "  Pesach End                      0            0              0\n",
       "  PresidentsDay                   0            0              0\n",
       "  Purim End                       0            0              0\n",
       "  Ramadan starts                  0            0              0\n",
       "  StPatricksDay                   0            0              0\n",
       "  SuperBowl                       0            0              0\n",
       "  Thanksgiving                    0            0              0\n",
       "  ValentinesDay                   0            0              0\n",
       "  VeteransDay                     0            0              0"
      ]
     },
     "execution_count": null,
     "metadata": {},
     "output_type": "execute_result"
    }
   ],
   "source": [
    "table(cat$event_name_1, cat$event_name_2)"
   ]
  },
  {
   "cell_type": "markdown",
   "id": "8c4250d3-66ab-4b77-9ef4-d93ad9b28825",
   "metadata": {},
   "source": [
    "Parece que no hay ningún tipo de correlación coherente. Al no estar la variable además muy informada, nos quedamos con 1."
   ]
  },
  {
   "cell_type": "code",
   "execution_count": 17,
   "id": "59e8de98-ad5b-40b1-9261-059655665af8",
   "metadata": {
    "vscode": {
     "languageId": "r"
    }
   },
   "outputs": [],
   "source": [
    "cat = cat %>% select(-event_type_2, -event_name_2)"
   ]
  },
  {
   "cell_type": "markdown",
   "id": "b8b38c48-0cd0-4661-a2e6-73f361815a60",
   "metadata": {},
   "source": [
    "Con respecto a los nulos de la variable 1, en vez de eliminarlos, los imputaremos por el valor \"Sin evento\""
   ]
  },
  {
   "cell_type": "code",
   "execution_count": 18,
   "id": "ed20d781-c98a-44f1-9850-3f44202576c4",
   "metadata": {
    "vscode": {
     "languageId": "r"
    }
   },
   "outputs": [],
   "source": [
    "var_imputar_valor = c('event_name_1', 'event_type_1')\n",
    "valor = 'Sin_evento'"
   ]
  },
  {
   "cell_type": "code",
   "execution_count": 19,
   "id": "5ab2a0c0-ff48-4bbc-b635-24951e778e0c",
   "metadata": {
    "vscode": {
     "languageId": "r"
    }
   },
   "outputs": [],
   "source": [
    "cat = cat %>% mutate(across(all_of(var_imputar_valor), ~ replace_na(., valor)))"
   ]
  },
  {
   "cell_type": "markdown",
   "id": "465480bf-e7bd-4fbe-8871-93c9c7212eef",
   "metadata": {},
   "source": [
    "Comprobamos de nuevo los valores nulos, para ver que la correción ha sido eficaz."
   ]
  },
  {
   "cell_type": "code",
   "execution_count": 20,
   "id": "663f71a5-6ee1-4abe-bdcc-e04a0598b62e",
   "metadata": {
    "vscode": {
     "languageId": "r"
    }
   },
   "outputs": [
    {
     "data": {
      "text/plain": [
       "        date     store_id      item_id            d         year        month         wday      weekday event_name_1 event_type_1 \n",
       "           0            0            0            0            0            0            0            0            0            0 "
      ]
     },
     "execution_count": null,
     "metadata": {},
     "output_type": "execute_result"
    }
   ],
   "source": [
    "na_count = sort(colSums(is.na(cat)), decreasing = TRUE)\n",
    "na_count"
   ]
  },
  {
   "cell_type": "markdown",
   "id": "69294240-0bab-409c-9337-27c78f711384",
   "metadata": {},
   "source": [
    "Pasamos a ver el recuento de categorías por variable en cat."
   ]
  },
  {
   "cell_type": "code",
   "execution_count": 21,
   "id": "2124563e-b447-4127-ace0-6fc27ee19b71",
   "metadata": {
    "vscode": {
     "languageId": "r"
    }
   },
   "outputs": [
    {
     "name": "stdout",
     "output_type": "stream",
     "text": [
      "date \n",
      "\u001b[38;5;246m# A tibble: 1,095 × 2\u001b[39m\n",
      "   date       count\n",
      "   \u001b[3m\u001b[38;5;246m<date>\u001b[39m\u001b[23m     \u001b[3m\u001b[38;5;246m<int>\u001b[39m\u001b[23m\n",
      "\u001b[38;5;250m 1\u001b[39m 2013-01-01    20\n",
      "\u001b[38;5;250m 2\u001b[39m 2013-01-02    20\n",
      "\u001b[38;5;250m 3\u001b[39m 2013-01-03    20\n",
      "\u001b[38;5;250m 4\u001b[39m 2013-01-04    20\n",
      "\u001b[38;5;250m 5\u001b[39m 2013-01-05    20\n",
      "\u001b[38;5;250m 6\u001b[39m 2013-01-06    20\n",
      "\u001b[38;5;250m 7\u001b[39m 2013-01-07    20\n",
      "\u001b[38;5;250m 8\u001b[39m 2013-01-08    20\n",
      "\u001b[38;5;250m 9\u001b[39m 2013-01-09    20\n",
      "\u001b[38;5;250m10\u001b[39m 2013-01-10    20\n",
      "\u001b[38;5;246m# ℹ 1,085 more rows\u001b[39m\n",
      "\u001b[38;5;246m# ℹ Use `print(n = ...)` to see more rows\u001b[39m\n",
      "\n",
      "\n",
      "store_id \n",
      "\u001b[38;5;246m# A tibble: 2 × 2\u001b[39m\n",
      "  store_id count\n",
      "  \u001b[3m\u001b[38;5;246m<chr>\u001b[39m\u001b[23m    \u001b[3m\u001b[38;5;246m<int>\u001b[39m\u001b[23m\n",
      "\u001b[38;5;250m1\u001b[39m CA_3     \u001b[4m1\u001b[24m\u001b[4m0\u001b[24m950\n",
      "\u001b[38;5;250m2\u001b[39m CA_4     \u001b[4m1\u001b[24m\u001b[4m0\u001b[24m950\n",
      "\n",
      "\n",
      "item_id \n",
      "\u001b[38;5;246m# A tibble: 10 × 2\u001b[39m\n",
      "   item_id     count\n",
      "   \u001b[3m\u001b[38;5;246m<chr>\u001b[39m\u001b[23m       \u001b[3m\u001b[38;5;246m<int>\u001b[39m\u001b[23m\n",
      "\u001b[38;5;250m 1\u001b[39m FOODS_3_090  \u001b[4m2\u001b[24m190\n",
      "\u001b[38;5;250m 2\u001b[39m FOODS_3_120  \u001b[4m2\u001b[24m190\n",
      "\u001b[38;5;250m 3\u001b[39m FOODS_3_202  \u001b[4m2\u001b[24m190\n",
      "\u001b[38;5;250m 4\u001b[39m FOODS_3_252  \u001b[4m2\u001b[24m190\n",
      "\u001b[38;5;250m 5\u001b[39m FOODS_3_288  \u001b[4m2\u001b[24m190\n",
      "\u001b[38;5;250m 6\u001b[39m FOODS_3_329  \u001b[4m2\u001b[24m190\n",
      "\u001b[38;5;250m 7\u001b[39m FOODS_3_555  \u001b[4m2\u001b[24m190\n",
      "\u001b[38;5;250m 8\u001b[39m FOODS_3_586  \u001b[4m2\u001b[24m190\n",
      "\u001b[38;5;250m 9\u001b[39m FOODS_3_587  \u001b[4m2\u001b[24m190\n",
      "\u001b[38;5;250m10\u001b[39m FOODS_3_714  \u001b[4m2\u001b[24m190\n",
      "\n",
      "\n",
      "d \n",
      "date \n",
      "\u001b[38;5;246m# A tibble: 1,095 × 2\u001b[39m\n",
      "   date       count\n",
      "   \u001b[3m\u001b[38;5;246m<date>\u001b[39m\u001b[23m     \u001b[3m\u001b[38;5;246m<int>\u001b[39m\u001b[23m\n",
      "\u001b[38;5;250m 1\u001b[39m 2013-01-01    20\n",
      "\u001b[38;5;250m 2\u001b[39m 2013-01-02    20\n",
      "\u001b[38;5;250m 3\u001b[39m 2013-01-03    20\n",
      "\u001b[38;5;250m 4\u001b[39m 2013-01-04    20\n",
      "\u001b[38;5;250m 5\u001b[39m 2013-01-05    20\n",
      "\u001b[38;5;250m 6\u001b[39m 2013-01-06    20\n",
      "\u001b[38;5;250m 7\u001b[39m 2013-01-07    20\n",
      "\u001b[38;5;250m 8\u001b[39m 2013-01-08    20\n",
      "\u001b[38;5;250m 9\u001b[39m 2013-01-09    20\n",
      "\u001b[38;5;250m10\u001b[39m 2013-01-10    20\n",
      "\u001b[38;5;246m# ℹ 1,085 more rows\u001b[39m\n",
      "\u001b[38;5;246m# ℹ Use `print(n = ...)` to see more rows\u001b[39m\n",
      "\n",
      "\n",
      "store_id \n",
      "\u001b[38;5;246m# A tibble: 2 × 2\u001b[39m\n",
      "  store_id count\n",
      "  \u001b[3m\u001b[38;5;246m<chr>\u001b[39m\u001b[23m    \u001b[3m\u001b[38;5;246m<int>\u001b[39m\u001b[23m\n",
      "\u001b[38;5;250m1\u001b[39m CA_3     \u001b[4m1\u001b[24m\u001b[4m0\u001b[24m950\n",
      "\u001b[38;5;250m2\u001b[39m CA_4     \u001b[4m1\u001b[24m\u001b[4m0\u001b[24m950\n",
      "\n",
      "\n",
      "item_id \n",
      "\u001b[38;5;246m# A tibble: 10 × 2\u001b[39m\n",
      "   item_id     count\n",
      "   \u001b[3m\u001b[38;5;246m<chr>\u001b[39m\u001b[23m       \u001b[3m\u001b[38;5;246m<int>\u001b[39m\u001b[23m\n",
      "\u001b[38;5;250m 1\u001b[39m FOODS_3_090  \u001b[4m2\u001b[24m190\n",
      "\u001b[38;5;250m 2\u001b[39m FOODS_3_120  \u001b[4m2\u001b[24m190\n",
      "\u001b[38;5;250m 3\u001b[39m FOODS_3_202  \u001b[4m2\u001b[24m190\n",
      "\u001b[38;5;250m 4\u001b[39m FOODS_3_252  \u001b[4m2\u001b[24m190\n",
      "\u001b[38;5;250m 5\u001b[39m FOODS_3_288  \u001b[4m2\u001b[24m190\n",
      "\u001b[38;5;250m 6\u001b[39m FOODS_3_329  \u001b[4m2\u001b[24m190\n",
      "\u001b[38;5;250m 7\u001b[39m FOODS_3_555  \u001b[4m2\u001b[24m190\n",
      "\u001b[38;5;250m 8\u001b[39m FOODS_3_586  \u001b[4m2\u001b[24m190\n",
      "\u001b[38;5;250m 9\u001b[39m FOODS_3_587  \u001b[4m2\u001b[24m190\n",
      "\u001b[38;5;250m10\u001b[39m FOODS_3_714  \u001b[4m2\u001b[24m190\n",
      "\n",
      "\n",
      "d \n"
     ]
    },
    {
     "name": "stdout",
     "output_type": "stream",
     "text": [
      "\u001b[38;5;246m# A tibble: 1,095 × 2\u001b[39m\n",
      "   d      count\n",
      "   \u001b[3m\u001b[38;5;246m<chr>\u001b[39m\u001b[23m  \u001b[3m\u001b[38;5;246m<int>\u001b[39m\u001b[23m\n",
      "\u001b[38;5;250m 1\u001b[39m d_1000    20\n",
      "\u001b[38;5;250m 2\u001b[39m d_1001    20\n",
      "\u001b[38;5;250m 3\u001b[39m d_1002    20\n",
      "\u001b[38;5;250m 4\u001b[39m d_1003    20\n",
      "\u001b[38;5;250m 5\u001b[39m d_1004    20\n",
      "\u001b[38;5;250m 6\u001b[39m d_1005    20\n",
      "\u001b[38;5;250m 7\u001b[39m d_1006    20\n",
      "\u001b[38;5;250m 8\u001b[39m d_1007    20\n",
      "\u001b[38;5;250m 9\u001b[39m d_1008    20\n",
      "\u001b[38;5;250m10\u001b[39m d_1009    20\n",
      "\u001b[38;5;246m# ℹ 1,085 more rows\u001b[39m\n",
      "\u001b[38;5;246m# ℹ Use `print(n = ...)` to see more rows\u001b[39m\n",
      "\n",
      "\n",
      "year \n",
      "\u001b[38;5;246m# A tibble: 3 × 2\u001b[39m\n",
      "  year  count\n",
      "  \u001b[3m\u001b[38;5;246m<chr>\u001b[39m\u001b[23m \u001b[3m\u001b[38;5;246m<int>\u001b[39m\u001b[23m\n",
      "\u001b[38;5;250m1\u001b[39m 2013   \u001b[4m7\u001b[24m300\n",
      "\u001b[38;5;250m2\u001b[39m 2014   \u001b[4m7\u001b[24m300\n",
      "\u001b[38;5;250m3\u001b[39m 2015   \u001b[4m7\u001b[24m300\n",
      "\n",
      "\n",
      "month \n",
      "\u001b[38;5;246m# A tibble: 12 × 2\u001b[39m\n",
      "   month count\n",
      "   \u001b[3m\u001b[38;5;246m<chr>\u001b[39m\u001b[23m \u001b[3m\u001b[38;5;246m<int>\u001b[39m\u001b[23m\n",
      "\u001b[38;5;250m 1\u001b[39m 1      \u001b[4m1\u001b[24m860\n",
      "\u001b[38;5;250m 2\u001b[39m 10     \u001b[4m1\u001b[24m860\n",
      "\u001b[38;5;250m 3\u001b[39m 12     \u001b[4m1\u001b[24m860\n",
      "\u001b[38;5;250m 4\u001b[39m 3      \u001b[4m1\u001b[24m860\n",
      "\u001b[38;5;250m 5\u001b[39m 5      \u001b[4m1\u001b[24m860\n",
      "\u001b[38;5;250m 6\u001b[39m 7      \u001b[4m1\u001b[24m860\n",
      "\u001b[38;5;250m 7\u001b[39m 8      \u001b[4m1\u001b[24m860\n",
      "\u001b[38;5;250m 8\u001b[39m 11     \u001b[4m1\u001b[24m800\n",
      "\u001b[38;5;250m 9\u001b[39m 4      \u001b[4m1\u001b[24m800\n",
      "\u001b[38;5;250m10\u001b[39m 6      \u001b[4m1\u001b[24m800\n",
      "\u001b[38;5;250m11\u001b[39m 9      \u001b[4m1\u001b[24m800\n",
      "\u001b[38;5;250m12\u001b[39m 2      \u001b[4m1\u001b[24m680\n",
      "\n",
      "\n",
      "wday \n",
      "\u001b[38;5;246m# A tibble: 7 × 2\u001b[39m\n",
      "  wday  count\n",
      "  \u001b[3m\u001b[38;5;246m<chr>\u001b[39m\u001b[23m \u001b[3m\u001b[38;5;246m<int>\u001b[39m\u001b[23m\n",
      "\u001b[38;5;250m1\u001b[39m 4      \u001b[4m3\u001b[24m140\n",
      "\u001b[38;5;250m2\u001b[39m 5      \u001b[4m3\u001b[24m140\n",
      "\u001b[38;5;250m3\u001b[39m 6      \u001b[4m3\u001b[24m140\n",
      "\u001b[38;5;250m4\u001b[39m 1      \u001b[4m3\u001b[24m120\n",
      "\u001b[38;5;250m5\u001b[39m 2      \u001b[4m3\u001b[24m120\n",
      "\u001b[38;5;250m6\u001b[39m 3      \u001b[4m3\u001b[24m120\n",
      "\u001b[38;5;250m7\u001b[39m 7      \u001b[4m3\u001b[24m120\n",
      "\n",
      "\n",
      "weekday \n",
      "\u001b[38;5;246m# A tibble: 7 × 2\u001b[39m\n",
      "  weekday   count\n",
      "  \u001b[3m\u001b[38;5;246m<chr>\u001b[39m\u001b[23m     \u001b[3m\u001b[38;5;246m<int>\u001b[39m\u001b[23m\n",
      "\u001b[38;5;250m1\u001b[39m Thursday   \u001b[4m3\u001b[24m140\n",
      "\u001b[38;5;250m2\u001b[39m Tuesday    \u001b[4m3\u001b[24m140\n",
      "\u001b[38;5;250m3\u001b[39m Wednesday  \u001b[4m3\u001b[24m140\n",
      "\u001b[38;5;250m4\u001b[39m Friday     \u001b[4m3\u001b[24m120\n",
      "\u001b[38;5;250m5\u001b[39m Monday     \u001b[4m3\u001b[24m120\n",
      "\u001b[38;5;250m6\u001b[39m Saturday   \u001b[4m3\u001b[24m120\n",
      "\u001b[38;5;250m7\u001b[39m Sunday     \u001b[4m3\u001b[24m120\n",
      "\n",
      "\n",
      "event_name_1 \n",
      "\u001b[38;5;246m# A tibble: 31 × 2\u001b[39m\n",
      "\u001b[38;5;246m# A tibble: 1,095 × 2\u001b[39m\n",
      "   d      count\n",
      "   \u001b[3m\u001b[38;5;246m<chr>\u001b[39m\u001b[23m  \u001b[3m\u001b[38;5;246m<int>\u001b[39m\u001b[23m\n",
      "\u001b[38;5;250m 1\u001b[39m d_1000    20\n",
      "\u001b[38;5;250m 2\u001b[39m d_1001    20\n",
      "\u001b[38;5;250m 3\u001b[39m d_1002    20\n",
      "\u001b[38;5;250m 4\u001b[39m d_1003    20\n",
      "\u001b[38;5;250m 5\u001b[39m d_1004    20\n",
      "\u001b[38;5;250m 6\u001b[39m d_1005    20\n",
      "\u001b[38;5;250m 7\u001b[39m d_1006    20\n",
      "\u001b[38;5;250m 8\u001b[39m d_1007    20\n",
      "\u001b[38;5;250m 9\u001b[39m d_1008    20\n",
      "\u001b[38;5;250m10\u001b[39m d_1009    20\n",
      "\u001b[38;5;246m# ℹ 1,085 more rows\u001b[39m\n",
      "\u001b[38;5;246m# ℹ Use `print(n = ...)` to see more rows\u001b[39m\n",
      "\n",
      "\n",
      "year \n",
      "\u001b[38;5;246m# A tibble: 3 × 2\u001b[39m\n",
      "  year  count\n",
      "  \u001b[3m\u001b[38;5;246m<chr>\u001b[39m\u001b[23m \u001b[3m\u001b[38;5;246m<int>\u001b[39m\u001b[23m\n",
      "\u001b[38;5;250m1\u001b[39m 2013   \u001b[4m7\u001b[24m300\n",
      "\u001b[38;5;250m2\u001b[39m 2014   \u001b[4m7\u001b[24m300\n",
      "\u001b[38;5;250m3\u001b[39m 2015   \u001b[4m7\u001b[24m300\n",
      "\n",
      "\n",
      "month \n",
      "\u001b[38;5;246m# A tibble: 12 × 2\u001b[39m\n",
      "   month count\n",
      "   \u001b[3m\u001b[38;5;246m<chr>\u001b[39m\u001b[23m \u001b[3m\u001b[38;5;246m<int>\u001b[39m\u001b[23m\n",
      "\u001b[38;5;250m 1\u001b[39m 1      \u001b[4m1\u001b[24m860\n",
      "\u001b[38;5;250m 2\u001b[39m 10     \u001b[4m1\u001b[24m860\n",
      "\u001b[38;5;250m 3\u001b[39m 12     \u001b[4m1\u001b[24m860\n",
      "\u001b[38;5;250m 4\u001b[39m 3      \u001b[4m1\u001b[24m860\n",
      "\u001b[38;5;250m 5\u001b[39m 5      \u001b[4m1\u001b[24m860\n",
      "\u001b[38;5;250m 6\u001b[39m 7      \u001b[4m1\u001b[24m860\n",
      "\u001b[38;5;250m 7\u001b[39m 8      \u001b[4m1\u001b[24m860\n",
      "\u001b[38;5;250m 8\u001b[39m 11     \u001b[4m1\u001b[24m800\n",
      "\u001b[38;5;250m 9\u001b[39m 4      \u001b[4m1\u001b[24m800\n",
      "\u001b[38;5;250m10\u001b[39m 6      \u001b[4m1\u001b[24m800\n",
      "\u001b[38;5;250m11\u001b[39m 9      \u001b[4m1\u001b[24m800\n",
      "\u001b[38;5;250m12\u001b[39m 2      \u001b[4m1\u001b[24m680\n",
      "\n",
      "\n",
      "wday \n",
      "\u001b[38;5;246m# A tibble: 7 × 2\u001b[39m\n",
      "  wday  count\n",
      "  \u001b[3m\u001b[38;5;246m<chr>\u001b[39m\u001b[23m \u001b[3m\u001b[38;5;246m<int>\u001b[39m\u001b[23m\n",
      "\u001b[38;5;250m1\u001b[39m 4      \u001b[4m3\u001b[24m140\n",
      "\u001b[38;5;250m2\u001b[39m 5      \u001b[4m3\u001b[24m140\n",
      "\u001b[38;5;250m3\u001b[39m 6      \u001b[4m3\u001b[24m140\n",
      "\u001b[38;5;250m4\u001b[39m 1      \u001b[4m3\u001b[24m120\n",
      "\u001b[38;5;250m5\u001b[39m 2      \u001b[4m3\u001b[24m120\n",
      "\u001b[38;5;250m6\u001b[39m 3      \u001b[4m3\u001b[24m120\n",
      "\u001b[38;5;250m7\u001b[39m 7      \u001b[4m3\u001b[24m120\n",
      "\n",
      "\n",
      "weekday \n",
      "\u001b[38;5;246m# A tibble: 7 × 2\u001b[39m\n",
      "  weekday   count\n",
      "  \u001b[3m\u001b[38;5;246m<chr>\u001b[39m\u001b[23m     \u001b[3m\u001b[38;5;246m<int>\u001b[39m\u001b[23m\n",
      "\u001b[38;5;250m1\u001b[39m Thursday   \u001b[4m3\u001b[24m140\n",
      "\u001b[38;5;250m2\u001b[39m Tuesday    \u001b[4m3\u001b[24m140\n",
      "\u001b[38;5;250m3\u001b[39m Wednesday  \u001b[4m3\u001b[24m140\n",
      "\u001b[38;5;250m4\u001b[39m Friday     \u001b[4m3\u001b[24m120\n",
      "\u001b[38;5;250m5\u001b[39m Monday     \u001b[4m3\u001b[24m120\n",
      "\u001b[38;5;250m6\u001b[39m Saturday   \u001b[4m3\u001b[24m120\n",
      "\u001b[38;5;250m7\u001b[39m Sunday     \u001b[4m3\u001b[24m120\n",
      "\n",
      "\n",
      "event_name_1 \n",
      "\u001b[38;5;246m# A tibble: 31 × 2\u001b[39m\n"
     ]
    },
    {
     "name": "stdout",
     "output_type": "stream",
     "text": [
      "   event_name_1    count\n",
      "   \u001b[3m\u001b[38;5;246m<chr>\u001b[39m\u001b[23m           \u001b[3m\u001b[38;5;246m<int>\u001b[39m\u001b[23m\n",
      "\u001b[38;5;250m 1\u001b[39m Sin_evento      \u001b[4m2\u001b[24m\u001b[4m0\u001b[24m160\n",
      "\u001b[38;5;250m 2\u001b[39m Chanukah End       60\n",
      "\u001b[38;5;250m 3\u001b[39m Christmas          60\n",
      "\u001b[38;5;250m 4\u001b[39m ColumbusDay        60\n",
      "\u001b[38;5;250m 5\u001b[39m Easter             60\n",
      "\u001b[38;5;250m 6\u001b[39m Eid al-Fitr        60\n",
      "\u001b[38;5;250m 7\u001b[39m EidAlAdha          60\n",
      "\u001b[38;5;250m 8\u001b[39m Halloween          60\n",
      "\u001b[38;5;250m 9\u001b[39m IndependenceDay    60\n",
      "\u001b[38;5;250m10\u001b[39m LaborDay           60\n",
      "\u001b[38;5;246m# ℹ 21 more rows\u001b[39m\n",
      "\u001b[38;5;246m# ℹ Use `print(n = ...)` to see more rows\u001b[39m\n",
      "\n",
      "\n",
      "event_type_1 \n",
      "\u001b[38;5;246m# A tibble: 5 × 2\u001b[39m\n",
      "  event_type_1 count\n",
      "  \u001b[3m\u001b[38;5;246m<chr>\u001b[39m\u001b[23m        \u001b[3m\u001b[38;5;246m<int>\u001b[39m\u001b[23m\n",
      "\u001b[38;5;250m1\u001b[39m Sin_evento   \u001b[4m2\u001b[24m\u001b[4m0\u001b[24m160\n",
      "\u001b[38;5;250m2\u001b[39m National       600\n",
      "\u001b[38;5;250m3\u001b[39m Religious      580\n",
      "\u001b[38;5;250m4\u001b[39m Cultural       380\n",
      "\u001b[38;5;250m5\u001b[39m Sporting       180\n",
      "\n",
      "\n",
      "   event_name_1    count\n",
      "   \u001b[3m\u001b[38;5;246m<chr>\u001b[39m\u001b[23m           \u001b[3m\u001b[38;5;246m<int>\u001b[39m\u001b[23m\n",
      "\u001b[38;5;250m 1\u001b[39m Sin_evento      \u001b[4m2\u001b[24m\u001b[4m0\u001b[24m160\n",
      "\u001b[38;5;250m 2\u001b[39m Chanukah End       60\n",
      "\u001b[38;5;250m 3\u001b[39m Christmas          60\n",
      "\u001b[38;5;250m 4\u001b[39m ColumbusDay        60\n",
      "\u001b[38;5;250m 5\u001b[39m Easter             60\n",
      "\u001b[38;5;250m 6\u001b[39m Eid al-Fitr        60\n",
      "\u001b[38;5;250m 7\u001b[39m EidAlAdha          60\n",
      "\u001b[38;5;250m 8\u001b[39m Halloween          60\n",
      "\u001b[38;5;250m 9\u001b[39m IndependenceDay    60\n",
      "\u001b[38;5;250m10\u001b[39m LaborDay           60\n",
      "\u001b[38;5;246m# ℹ 21 more rows\u001b[39m\n",
      "\u001b[38;5;246m# ℹ Use `print(n = ...)` to see more rows\u001b[39m\n",
      "\n",
      "\n",
      "event_type_1 \n",
      "\u001b[38;5;246m# A tibble: 5 × 2\u001b[39m\n",
      "  event_type_1 count\n",
      "  \u001b[3m\u001b[38;5;246m<chr>\u001b[39m\u001b[23m        \u001b[3m\u001b[38;5;246m<int>\u001b[39m\u001b[23m\n",
      "\u001b[38;5;250m1\u001b[39m Sin_evento   \u001b[4m2\u001b[24m\u001b[4m0\u001b[24m160\n",
      "\u001b[38;5;250m2\u001b[39m National       600\n",
      "\u001b[38;5;250m3\u001b[39m Religious      580\n",
      "\u001b[38;5;250m4\u001b[39m Cultural       380\n",
      "\u001b[38;5;250m5\u001b[39m Sporting       180\n",
      "\n",
      "\n"
     ]
    }
   ],
   "source": [
    "for (variable in names(cat)) {\n",
    "  \n",
    "  cat(paste(variable, \"\\n\"))\n",
    "  \n",
    "  print(cat %>%\n",
    "          count(!!sym(variable), name = \"count\") %>%\n",
    "          arrange(desc(count)))\n",
    "    \n",
    "  cat(\"\\n\\n\")\n",
    "}"
   ]
  },
  {
   "cell_type": "markdown",
   "id": "9e571f45-a685-42c9-a77d-b310073d9ae6",
   "metadata": {},
   "source": [
    "No hay categorías raras o a destacar, que requieran de acciones adicionales."
   ]
  },
  {
   "cell_type": "markdown",
   "id": "54384d02-a135-45a2-8430-b5fe5a79ed54",
   "metadata": {},
   "source": [
    "## Numéricas"
   ]
  },
  {
   "cell_type": "markdown",
   "id": "44414089-59ef-4acf-a533-7a21def40448",
   "metadata": {},
   "source": [
    "Observamos primero los estadísticos básicos."
   ]
  },
  {
   "cell_type": "code",
   "execution_count": 22,
   "id": "6d08bb3b-b7ea-4a36-a6a5-071afc334327",
   "metadata": {
    "vscode": {
     "languageId": "r"
    }
   },
   "outputs": [
    {
     "data": {
      "text/plain": [
       "    wm_yr_wk         ventas         sell_price   \n",
       " Min.   :11249   Min.   :  0.00   Min.   :1.000  \n",
       " 1st Qu.:11336   1st Qu.:  6.00   1st Qu.:1.500  \n",
       " Median :11422   Median : 18.00   Median :1.580  \n",
       " Mean   :11419   Mean   : 28.68   Mean   :2.398  \n",
       " 3rd Qu.:11509   3rd Qu.: 37.00   3rd Qu.:2.980  \n",
       " Max.   :11548   Max.   :763.00   Max.   :4.980  \n",
       "                                  NA's   :71     "
      ]
     },
     "execution_count": null,
     "metadata": {},
     "output_type": "execute_result"
    }
   ],
   "source": [
    "summary(num)"
   ]
  },
  {
   "cell_type": "markdown",
   "id": "f727a198-159e-4745-8a16-18b9ff5e4603",
   "metadata": {},
   "source": [
    "Y los nulos."
   ]
  },
  {
   "cell_type": "code",
   "execution_count": 23,
   "id": "07c18f42-e516-42d1-bc49-0f9561dcb90a",
   "metadata": {
    "vscode": {
     "languageId": "r"
    }
   },
   "outputs": [
    {
     "data": {
      "text/plain": [
       "sell_price   wm_yr_wk     ventas \n",
       "        71          0          0 "
      ]
     },
     "execution_count": null,
     "metadata": {},
     "output_type": "execute_result"
    }
   ],
   "source": [
    "sort(colSums(is.na(num)), decreasing = TRUE)"
   ]
  },
  {
   "cell_type": "markdown",
   "id": "5cb9cc06-c032-46fc-85a1-52902818dcec",
   "metadata": {},
   "source": [
    "Vamos a intentar encontrar algún patrón agrupando por otras variables que tengan relación."
   ]
  },
  {
   "cell_type": "code",
   "execution_count": 24,
   "id": "2a357e9c-4a53-4e8c-805b-e51c7385b715",
   "metadata": {
    "vscode": {
     "languageId": "r"
    }
   },
   "outputs": [
    {
     "data": {
      "text/plain": [
       "\u001b[38;5;246m# A tibble: 10 × 2\u001b[39m\n",
       "   item_id     na_count\n",
       "   \u001b[3m\u001b[38;5;246m<chr>\u001b[39m\u001b[23m          \u001b[3m\u001b[38;5;246m<int>\u001b[39m\u001b[23m\n",
       "\u001b[38;5;250m 1\u001b[39m FOODS_3_288       71\n",
       "\u001b[38;5;250m 2\u001b[39m FOODS_3_090        0\n",
       "\u001b[38;5;250m 3\u001b[39m FOODS_3_120        0\n",
       "\u001b[38;5;250m 4\u001b[39m FOODS_3_202        0\n",
       "\u001b[38;5;250m 5\u001b[39m FOODS_3_252        0\n",
       "\u001b[38;5;250m 6\u001b[39m FOODS_3_329        0\n",
       "\u001b[38;5;250m 7\u001b[39m FOODS_3_555        0\n",
       "\u001b[38;5;250m 8\u001b[39m FOODS_3_586        0\n",
       "\u001b[38;5;250m 9\u001b[39m FOODS_3_587        0\n",
       "\u001b[38;5;250m10\u001b[39m FOODS_3_714        0"
      ]
     },
     "execution_count": null,
     "metadata": {},
     "output_type": "execute_result"
    }
   ],
   "source": [
    "df %>% group_by(item_id) %>% summarise(na_count = sum(is.na(sell_price))) %>% arrange(desc(na_count))"
   ]
  },
  {
   "cell_type": "code",
   "execution_count": 25,
   "id": "2fb3fc7c-d6f4-4cce-8ac1-85ad0faa5866",
   "metadata": {
    "vscode": {
     "languageId": "r"
    }
   },
   "outputs": [
    {
     "data": {
      "text/plain": [
       "\u001b[38;5;246m# A tibble: 10 × 2\u001b[39m\n",
       "   ventas na_count\n",
       "    \u001b[3m\u001b[38;5;246m<int>\u001b[39m\u001b[23m    \u001b[3m\u001b[38;5;246m<int>\u001b[39m\u001b[23m\n",
       "\u001b[38;5;250m 1\u001b[39m      0       71\n",
       "\u001b[38;5;250m 2\u001b[39m      1        0\n",
       "\u001b[38;5;250m 3\u001b[39m      2        0\n",
       "\u001b[38;5;250m 4\u001b[39m      3        0\n",
       "\u001b[38;5;250m 5\u001b[39m      4        0\n",
       "\u001b[38;5;250m 6\u001b[39m      5        0\n",
       "\u001b[38;5;250m 7\u001b[39m      6        0\n",
       "\u001b[38;5;250m 8\u001b[39m      7        0\n",
       "\u001b[38;5;250m 9\u001b[39m      8        0\n",
       "\u001b[38;5;250m10\u001b[39m      9        0"
      ]
     },
     "execution_count": null,
     "metadata": {},
     "output_type": "execute_result"
    }
   ],
   "source": [
    "df %>% group_by(ventas) %>% summarise(na_count = sum(is.na(sell_price))) %>% arrange(desc(na_count)) %>% head(10)"
   ]
  },
  {
   "cell_type": "markdown",
   "id": "935b71d8-2275-46cf-82af-5b3e851636cc",
   "metadata": {},
   "source": [
    "Los nulos ocurren en un tipo de producto y en el día que no existen ventas."
   ]
  },
  {
   "cell_type": "markdown",
   "id": "a05a4d40-92b2-4588-97cc-09876b86b287",
   "metadata": {},
   "source": [
    "Para corregir estos nulos, vamos a segmentar por producto y coger la moda de cada uno de ellos. Para ello agregamos temporalmente la variable producto que se encuentra en el dataset de las variables categóricas y operamos."
   ]
  },
  {
   "cell_type": "code",
   "execution_count": 26,
   "id": "90a11584-d14e-45b7-b003-7fe997f79a3f",
   "metadata": {
    "vscode": {
     "languageId": "r"
    }
   },
   "outputs": [],
   "source": [
    "num = bind_cols(num, cat %>% select(item_id))"
   ]
  },
  {
   "cell_type": "code",
   "execution_count": 27,
   "id": "c29b540b-5b2c-4b70-8ddf-36cf3607789d",
   "metadata": {
    "vscode": {
     "languageId": "r"
    }
   },
   "outputs": [
    {
     "data": {
      "text/plain": [
       "\u001b[38;5;246m# A tibble: 6 × 4\u001b[39m\n",
       "  wm_yr_wk ventas sell_price item_id    \n",
       "     \u001b[3m\u001b[38;5;246m<int>\u001b[39m\u001b[23m  \u001b[3m\u001b[38;5;246m<int>\u001b[39m\u001b[23m      \u001b[3m\u001b[38;5;246m<dbl>\u001b[39m\u001b[23m \u001b[3m\u001b[38;5;246m<chr>\u001b[39m\u001b[23m      \n",
       "\u001b[38;5;250m1\u001b[39m    \u001b[4m1\u001b[24m\u001b[4m1\u001b[24m249      0       1.25 FOODS_3_090\n",
       "\u001b[38;5;250m2\u001b[39m    \u001b[4m1\u001b[24m\u001b[4m1\u001b[24m249    224       1.25 FOODS_3_090\n",
       "\u001b[38;5;250m3\u001b[39m    \u001b[4m1\u001b[24m\u001b[4m1\u001b[24m249    241       1.25 FOODS_3_090\n",
       "\u001b[38;5;250m4\u001b[39m    \u001b[4m1\u001b[24m\u001b[4m1\u001b[24m249    232       1.25 FOODS_3_090\n",
       "\u001b[38;5;250m5\u001b[39m    \u001b[4m1\u001b[24m\u001b[4m1\u001b[24m250    301       1.25 FOODS_3_090\n",
       "\u001b[38;5;250m6\u001b[39m    \u001b[4m1\u001b[24m\u001b[4m1\u001b[24m250    270       1.25 FOODS_3_090"
      ]
     },
     "execution_count": null,
     "metadata": {},
     "output_type": "execute_result"
    }
   ],
   "source": [
    "num %>% head()"
   ]
  },
  {
   "cell_type": "markdown",
   "id": "ff69fc80-060c-4f4f-9f7a-c421d79bdfa4",
   "metadata": {},
   "source": [
    "Creamos una función para imputar valores por la moda."
   ]
  },
  {
   "cell_type": "code",
   "execution_count": 28,
   "id": "140123df-94f4-489a-af10-069e4235370b",
   "metadata": {
    "vscode": {
     "languageId": "r"
    }
   },
   "outputs": [],
   "source": [
    "imputar_moda = function(registros) {\n",
    "  \n",
    "  moda = as.numeric(names(sort(table(registros$sell_price), decreasing = TRUE)[1]))\n",
    "    \n",
    "  registros = registros %>%\n",
    "    mutate(sell_price = ifelse(is.na(sell_price), moda, sell_price))\n",
    "  \n",
    "  return(registros)\n",
    "}"
   ]
  },
  {
   "cell_type": "markdown",
   "id": "db77ba15-5b16-4494-8263-620d7dada1ab",
   "metadata": {},
   "source": [
    "Aplicamos."
   ]
  },
  {
   "cell_type": "code",
   "execution_count": 29,
   "id": "a0901e9e-dfb8-4a43-940c-14fabbc18358",
   "metadata": {
    "vscode": {
     "languageId": "r"
    }
   },
   "outputs": [],
   "source": [
    "num = num %>% group_by(item_id) %>% group_modify(~ imputar_moda(.x)) %>% ungroup()"
   ]
  },
  {
   "cell_type": "markdown",
   "id": "0aeec8c3-dfca-47b6-8431-40c68eaf4fc0",
   "metadata": {},
   "source": [
    "Comprobamos la imputación agrupando por producto y precio, después revisamos los valores nulos."
   ]
  },
  {
   "cell_type": "code",
   "execution_count": 30,
   "id": "440ec515-199b-4d5a-85e2-64b99907c919",
   "metadata": {
    "vscode": {
     "languageId": "r"
    }
   },
   "outputs": [
    {
     "data": {
      "text/plain": [
       "\u001b[38;5;246m# A tibble: 33 × 3\u001b[39m\n",
       "   item_id     sell_price     n\n",
       "   \u001b[3m\u001b[38;5;246m<chr>\u001b[39m\u001b[23m            \u001b[3m\u001b[38;5;246m<dbl>\u001b[39m\u001b[23m \u001b[3m\u001b[38;5;246m<int>\u001b[39m\u001b[23m\n",
       "\u001b[38;5;250m 1\u001b[39m FOODS_3_090       1.48   658\n",
       "\u001b[38;5;250m 2\u001b[39m FOODS_3_090       1.38   546\n",
       "\u001b[38;5;250m 3\u001b[39m FOODS_3_090       1.44   504\n",
       "\u001b[38;5;250m 4\u001b[39m FOODS_3_090       1      307\n",
       "\u001b[38;5;250m 5\u001b[39m FOODS_3_090       1.5    125\n",
       "\u001b[38;5;250m 6\u001b[39m FOODS_3_090       1.25    50\n",
       "\u001b[38;5;250m 7\u001b[39m FOODS_3_120       4.98  \u001b[4m2\u001b[24m190\n",
       "\u001b[38;5;250m 8\u001b[39m FOODS_3_202       4.58   749\n",
       "\u001b[38;5;250m 9\u001b[39m FOODS_3_202       4.38   525\n",
       "\u001b[38;5;250m10\u001b[39m FOODS_3_202       4.28   386\n",
       "\u001b[38;5;246m# ℹ 23 more rows\u001b[39m\n",
       "\u001b[38;5;246m# ℹ Use `print(n = ...)` to see more rows\u001b[39m"
      ]
     },
     "execution_count": null,
     "metadata": {},
     "output_type": "execute_result"
    }
   ],
   "source": [
    "num %>% count(item_id, sell_price) %>% arrange(item_id, desc(n))"
   ]
  },
  {
   "cell_type": "markdown",
   "id": "46afe319-6b6d-4c63-aebc-f64a829a48eb",
   "metadata": {},
   "source": [
    "Todos los valores de sell price entran dentro de rangos coherentes. Eliminamos la columna producto de num."
   ]
  },
  {
   "cell_type": "code",
   "execution_count": 31,
   "id": "b2df794f-9ee6-4451-bdb3-f9580621910c",
   "metadata": {
    "vscode": {
     "languageId": "r"
    }
   },
   "outputs": [],
   "source": [
    "num = num %>% select(-item_id)"
   ]
  },
  {
   "cell_type": "code",
   "execution_count": 32,
   "id": "c6bcc7a2-427c-452c-959b-90299ad6be6c",
   "metadata": {
    "vscode": {
     "languageId": "r"
    }
   },
   "outputs": [
    {
     "data": {
      "text/plain": [
       "  wm_yr_wk     ventas sell_price \n",
       "         0          0          0 "
      ]
     },
     "execution_count": null,
     "metadata": {},
     "output_type": "execute_result"
    }
   ],
   "source": [
    "sort(colSums(is.na(num)), decreasing = TRUE)"
   ]
  },
  {
   "cell_type": "markdown",
   "id": "af1b1084-bd96-4b7e-882b-1cbcb74c366a",
   "metadata": {},
   "source": [
    "Los nulos se han gestionado correctamente."
   ]
  },
  {
   "cell_type": "markdown",
   "id": "f9dc58f2-a30d-4f7b-9a68-ae2400600d42",
   "metadata": {},
   "source": [
    "Vamos a observar datos atípicos observando su comportamiento respecto a la desviación típica."
   ]
  },
  {
   "cell_type": "markdown",
   "id": "891931f0-383d-49cf-9836-74c6ad36adf2",
   "metadata": {},
   "source": [
    "Definimos una función para encontrar los índices de los valores que superan el umbral de desviaciones típicas que especifiquemos."
   ]
  },
  {
   "cell_type": "code",
   "execution_count": 33,
   "id": "31aa3e3c-cc1f-4d1a-a694-56408a26540b",
   "metadata": {
    "vscode": {
     "languageId": "r"
    }
   },
   "outputs": [],
   "source": [
    "atipicos_desv_tip = function(variable, num_desv_tip = 4) {\n",
    "    \n",
    "  variable = na.omit(variable)\n",
    "  \n",
    "  media = mean(variable)\n",
    "  sd = sd(variable)\n",
    "  umbral = sd * num_desv_tip\n",
    "    \n",
    "  lim_inf = media - umbral\n",
    "  lim_sup = media + umbral\n",
    "    \n",
    "  indices = which(variable < lim_inf | variable > lim_sup)\n",
    "  \n",
    "  return(indices)\n",
    "}"
   ]
  },
  {
   "cell_type": "markdown",
   "id": "b885f8be-63ee-4e26-8dbf-11f9dfca44c9",
   "metadata": {},
   "source": [
    "Otra función, para una vez encontrados los índices, hacer el conteo:"
   ]
  },
  {
   "cell_type": "code",
   "execution_count": 34,
   "id": "a8f1e7c5-54ac-4ff8-ae02-b29352385fa0",
   "metadata": {
    "vscode": {
     "languageId": "r"
    }
   },
   "outputs": [],
   "source": [
    "conteo_atipicos = function(df, variable, num_desv_tip = 4) {\n",
    "\n",
    "  columna = df[[variable]]\n",
    "  \n",
    "  indices_atipicos = atipicos_desv_tip(columna, num_desv_tip)\n",
    "  \n",
    "  conteo = table(columna[indices_atipicos])\n",
    "  \n",
    "  return(conteo)\n",
    "}"
   ]
  },
  {
   "cell_type": "markdown",
   "id": "b8bef7d6-0a5a-4934-b63a-067cf2ec6775",
   "metadata": {},
   "source": [
    "Especificamos las variables sobre las cuales explorar el número de atípicos."
   ]
  },
  {
   "cell_type": "code",
   "execution_count": 35,
   "id": "9fd2feea-4c16-41d6-aaaa-cd38cf0827fb",
   "metadata": {
    "vscode": {
     "languageId": "r"
    }
   },
   "outputs": [],
   "source": [
    "var_atipicos_dt = c(\"ventas\", \"sell_price\")"
   ]
  },
  {
   "cell_type": "code",
   "execution_count": 36,
   "id": "2c165179-604b-4c40-b2cd-0a52173349e3",
   "metadata": {
    "vscode": {
     "languageId": "r"
    }
   },
   "outputs": [
    {
     "name": "stdout",
     "output_type": "stream",
     "text": [
      "\n",
      " ventas :\n",
      "\n",
      "184 185 186 187 188 189 191 192 193 194 195 196 197 198 200 201 202 203 204 205 206 207 208 210 211 212 213 214 215 216 217 219 221 224 \n",
      "  3   2   2   2   4   4   2   6   5   2   3   3   2   4   3   2   3   5   2   4   3   2   4   4   3   2   2   2   2   4   3   3   1   2 \n",
      "225 226 227 228 229 230 231 232 233 234 235 237 239 241 243 244 245 246 249 250 252 254 255 256 257 258 260 261 264 265 266 268 270 272 \n",
      "  2   4   2   2   1   1   1   2   2   3   2   1   1   3   2   1   4   1   2   1   2   1   1   2   4   1   1   2   1   1   1   3   1   1 \n",
      "275 276 278 281 286 287 289 290 291 292 294 300 301 303 305 310 317 323 324 325 328 331 335 337 340 351 357 362 374 376 381 384 391 439 \n",
      "  1   2   2   1   1   1   1   1   1   1   1   3   1   1   1   2   1   1   1   1   1   1   1   1   1   1   1   2   1   1   1   1   1   1 \n",
      "446 461 469 470 489 491 498 504 532 544 554 613 620 709 763 \n",
      "  1   1   1   1   1   1   1   1   1   1   1   1   1   2   1 \n",
      "\n",
      " sell_price :\n",
      "< table of extent 0 >\n",
      "\n",
      "\n",
      " ventas :\n",
      "\n",
      "184 185 186 187 188 189 191 192 193 194 195 196 197 198 200 201 202 203 204 205 206 207 208 210 211 212 213 214 215 216 217 219 221 224 \n",
      "  3   2   2   2   4   4   2   6   5   2   3   3   2   4   3   2   3   5   2   4   3   2   4   4   3   2   2   2   2   4   3   3   1   2 \n",
      "225 226 227 228 229 230 231 232 233 234 235 237 239 241 243 244 245 246 249 250 252 254 255 256 257 258 260 261 264 265 266 268 270 272 \n",
      "  2   4   2   2   1   1   1   2   2   3   2   1   1   3   2   1   4   1   2   1   2   1   1   2   4   1   1   2   1   1   1   3   1   1 \n",
      "275 276 278 281 286 287 289 290 291 292 294 300 301 303 305 310 317 323 324 325 328 331 335 337 340 351 357 362 374 376 381 384 391 439 \n",
      "  1   2   2   1   1   1   1   1   1   1   1   3   1   1   1   2   1   1   1   1   1   1   1   1   1   1   1   2   1   1   1   1   1   1 \n",
      "446 461 469 470 489 491 498 504 532 544 554 613 620 709 763 \n",
      "  1   1   1   1   1   1   1   1   1   1   1   1   1   2   1 \n",
      "\n",
      " sell_price :\n",
      "< table of extent 0 >\n"
     ]
    }
   ],
   "source": [
    "for (variable in var_atipicos_dt) {\n",
    "  cat(\"\\n\", variable, \":\\n\")\n",
    "  print(conteo_atipicos(num, variable, num_desv_tip = 4))\n",
    "}"
   ]
  },
  {
   "cell_type": "code",
   "execution_count": 37,
   "id": "c3dd0123-ec4e-4a54-b017-563ff643a48d",
   "metadata": {
    "vscode": {
     "languageId": "r"
    }
   },
   "outputs": [
    {
     "data": {
      "image/png": "[encoded data removed]"
     },
     "metadata": {},
     "output_type": "display_data"
    }
   ],
   "source": [
    "options(repr.plot.width=20, repr.plot.height=10)\n",
    "\n",
    "ggplot(num, aes(x = ventas)) +\n",
    "  geom_histogram(binwidth = 10, fill = \"skyblue\", color = \"black\", alpha = 0.7) +\n",
    "  labs(title = \"Distribución de Ventas\", x = \"Ventas\", y = \"Frecuencia\") +\n",
    "  theme_minimal() +\n",
    "  theme(\n",
    "    plot.title = element_text(hjust = 0.5, size = 20),\n",
    "    axis.text.x = element_text(size = 15), \n",
    "    axis.text.y = element_text(size = 15),  \n",
    "    axis.title.x = element_text(size = 20),\n",
    "    axis.title.y = element_text(size = 20)\n",
    "  )"
   ]
  },
  {
   "cell_type": "markdown",
   "id": "6ca93826-2192-43ef-993e-69762cfd7d4e",
   "metadata": {},
   "source": [
    "Se puede ver que la tendencia de las compras se acumula en la parte izquierda desde 0 a 200 compras y después se atenua, disminuyendo la frecuencia en valores más elevados. En escenarios de retail puede deberse a ventas a mayoristas, siendo estos menores que los usuarios individuales que concentran la mayor parte de las compras."
   ]
  },
  {
   "cell_type": "markdown",
   "id": "9439ec1f-7c1c-4782-94b4-d19b1d0e8f3a",
   "metadata": {},
   "source": [
    "Guardamos las variables tras el procesado."
   ]
  },
  {
   "cell_type": "code",
   "execution_count": 38,
   "id": "a3bbb133-a113-4be2-8ab3-0968f30a91d6",
   "metadata": {
    "vscode": {
     "languageId": "r"
    }
   },
   "outputs": [],
   "source": [
    "saveRDS(num, file = \"../02_Variables/num.rds\")\n",
    "saveRDS(cat, file = \"../02_Variables/cat.rds\")"
   ]
  },
  {
   "cell_type": "code",
   "execution_count": null,
   "id": "0089002b",
   "metadata": {
    "vscode": {
     "languageId": "r"
    }
   },
   "outputs": [],
   "source": []
  }
 ],
 "metadata": {
  "kernelspec": {
   "display_name": "sales_forecasting",
   "language": "R",
   "name": "ir"
  },
  "language_info": {
   "codemirror_mode": "r",
   "file_extension": ".r",
   "mimetype": "text/x-r-source",
   "name": "R",
   "pygments_lexer": "r",
   "version": "4.3.3"
  }
 },
 "nbformat": 4,
 "nbformat_minor": 5
}
