{
 "cells": [
  {
   "cell_type": "code",
   "execution_count": 1,
   "id": "a5cb8dfb-9351-4ba8-ac56-05045e3bc8be",
   "metadata": {
    "vscode": {
     "languageId": "r"
    }
   },
   "outputs": [
    {
     "name": "stdout",
     "output_type": "stream",
     "text": [
      "\n",
      "Attaching package: ‘dplyr’\n",
      "\n",
      "The following objects are masked from ‘package:stats’:\n",
      "\n",
      "    filter, lag\n",
      "\n",
      "The following objects are masked from ‘package:base’:\n",
      "\n",
      "    intersect, setdiff, setequal, union\n",
      "\n",
      "\n",
      "Attaching package: ‘magrittr’\n",
      "\n",
      "The following object is masked from ‘package:tidyr’:\n",
      "\n",
      "    extract\n",
      "\n",
      "\n",
      "\n",
      "Attaching package: ‘dplyr’\n",
      "\n",
      "The following objects are masked from ‘package:stats’:\n",
      "\n",
      "    filter, lag\n",
      "\n",
      "The following objects are masked from ‘package:base’:\n",
      "\n",
      "    intersect, setdiff, setequal, union\n",
      "\n",
      "\n",
      "Attaching package: ‘magrittr’\n",
      "\n",
      "The following object is masked from ‘package:tidyr’:\n",
      "\n",
      "    extract\n",
      "\n"
     ]
    },
    {
     "name": "stdout",
     "output_type": "stream",
     "text": [
      "\n",
      "Attaching package: ‘zoo’\n",
      "\n",
      "The following objects are masked from ‘package:base’:\n",
      "\n",
      "    as.Date, as.Date.numeric\n",
      "\n",
      "\n",
      "Attaching package: ‘purrr’\n",
      "\n",
      "The following object is masked from ‘package:magrittr’:\n",
      "\n",
      "    set_names\n",
      "\n",
      "\n",
      "Attaching package: ‘scales’\n",
      "\n",
      "The following object is masked from ‘package:purrr’:\n",
      "\n",
      "    discard\n",
      "\n",
      "\n",
      "\n",
      "Attaching package: ‘zoo’\n",
      "\n",
      "The following objects are masked from ‘package:base’:\n",
      "\n",
      "    as.Date, as.Date.numeric\n",
      "\n",
      "\n",
      "Attaching package: ‘purrr’\n",
      "\n",
      "The following object is masked from ‘package:magrittr’:\n",
      "\n",
      "    set_names\n",
      "\n",
      "\n",
      "Attaching package: ‘scales’\n",
      "\n",
      "The following object is masked from ‘package:purrr’:\n",
      "\n",
      "    discard\n",
      "\n"
     ]
    }
   ],
   "source": [
    "library(ggplot2)\n",
    "library(dplyr)\n",
    "library(tidyr)\n",
    "library(magrittr)\n",
    "library(zoo)\n",
    "library(purrr)\n",
    "library(scales)\n",
    "library(stringr)"
   ]
  },
  {
   "cell_type": "markdown",
   "id": "42c84e8c-4356-477d-b957-27d2b6cd3746",
   "metadata": {},
   "source": [
    "Cargamos los datos:"
   ]
  },
  {
   "cell_type": "code",
   "execution_count": 2,
   "id": "e8cc873b-9a67-40af-9741-fc4a09fcbb3d",
   "metadata": {
    "vscode": {
     "languageId": "r"
    }
   },
   "outputs": [],
   "source": [
    "cat = readRDS('../02_Variables/cat.rds')\n",
    "num = readRDS('../02_Variables/num.rds')"
   ]
  },
  {
   "cell_type": "markdown",
   "id": "d31af277-8ea3-4a78-96a8-e466718489fa",
   "metadata": {},
   "source": [
    "Unimos ambas dos variables de nuevo en un dataframe."
   ]
  },
  {
   "cell_type": "code",
   "execution_count": 3,
   "id": "1daf7633-0bfc-49bd-8a86-a508f4ba71e5",
   "metadata": {
    "vscode": {
     "languageId": "r"
    }
   },
   "outputs": [],
   "source": [
    "df = bind_cols(cat, num)"
   ]
  },
  {
   "cell_type": "code",
   "execution_count": 4,
   "id": "0e229145-4b36-4fcb-a7e7-9041e9ae0321",
   "metadata": {
    "vscode": {
     "languageId": "r"
    }
   },
   "outputs": [
    {
     "data": {
      "text/plain": [
       " [1] \"date\"         \"store_id\"     \"item_id\"      \"d\"            \"year\"         \"month\"        \"wday\"         \"weekday\"     \n",
       " [9] \"event_name_1\" \"event_type_1\" \"wm_yr_wk\"     \"ventas\"       \"sell_price\"  "
      ]
     },
     "execution_count": null,
     "metadata": {},
     "output_type": "execute_result"
    }
   ],
   "source": [
    "df %>% colnames()"
   ]
  },
  {
   "cell_type": "markdown",
   "id": "bd68e1f3-9fee-4f30-bb1c-918495ecfca2",
   "metadata": {},
   "source": [
    "Vamos a crear primero variables sintéticas que nos ayudarán con la fase de forecasting. Después haremos transformaciones sobre las propias variables para que sean aptas para el modelo de Deep Learning."
   ]
  },
  {
   "cell_type": "markdown",
   "id": "e5d73756-0d7a-44ab-9591-c30e3ddc827c",
   "metadata": {},
   "source": [
    "Identificamos los momentos donde haya podido haber rotura de stock,, es decir, ventas cero durante un periodo."
   ]
  },
  {
   "cell_type": "markdown",
   "id": "d8881436-21dc-4c12-86f7-72f865cbcf65",
   "metadata": {},
   "source": [
    "Definimos una función para identificar la rotura de stock, donde primeramente se identifiquen los días donde no haya habido ventas con un flag de 1/0, después a través del parámetro n que establecemos en 5 días como primera aproximación, definimos la rotura de stock, cuando en 5 días no ha habido ventas, para hacer conteo de esto, hacemos una suma móvil donde capturemos la información de esos cinco días (ó n), después confirmamos sí hay (ó no), rotura de stock."
   ]
  },
  {
   "cell_type": "markdown",
   "id": "ab7ed645",
   "metadata": {
    "vscode": {
     "languageId": "r"
    }
   },
   "source": [
    "Creamos también funciones de ventanas móviles (media, mínimo y máximo)."
   ]
  },
  {
   "cell_type": "code",
   "execution_count": 5,
   "id": "3719470f-850d-40b5-8d51-9f131203aa80",
   "metadata": {
    "vscode": {
     "languageId": "r"
    }
   },
   "outputs": [],
   "source": [
    "rotura_stock = function(ventas, n = 5) {\n",
    " \n",
    "  cero_ventas = ifelse(ventas == 0, 1, 0)\n",
    "  \n",
    "  num_ceros = zoo::rollsum(cero_ventas, k = n, fill = 0, align = \"right\")\n",
    "  \n",
    "  rotura_stock = ifelse(num_ceros == n, 1, 0)\n",
    "  \n",
    "  return(rotura_stock)\n",
    "}"
   ]
  },
  {
   "cell_type": "code",
   "execution_count": 6,
   "id": "f99a0567",
   "metadata": {
    "vscode": {
     "languageId": "r"
    }
   },
   "outputs": [],
   "source": [
    "crear_lags = function(df, variable, num_lags = 7) {\n",
    "  \n",
    "  variable_name = deparse(substitute(variable))\n",
    "  \n",
    "  lags = data.frame(matrix(ncol = num_lags, nrow = nrow(df)))\n",
    "  colnames(lags) = paste0(variable_name, \"_lag_\", 1:num_lags)\n",
    " \n",
    "  for (elemento in 1:num_lags) {\n",
    "    lag_name = colnames(lags)[elemento]\n",
    "    lags[[lag_name]] = dplyr::lag(df[[variable_name]], n = elemento)\n",
    "  }\n",
    "  \n",
    "  return(lags)\n",
    "}"
   ]
  },
  {
   "cell_type": "code",
   "execution_count": 7,
   "id": "3d777efc",
   "metadata": {
    "vscode": {
     "languageId": "r"
    }
   },
   "outputs": [],
   "source": [
    "min_movil = function(df, variable, num_periodos = 7) {\n",
    "  \n",
    "  variable_name = deparse(substitute(variable))\n",
    "  \n",
    "  minm = data.frame(matrix(ncol = num_periodos - 1, nrow = nrow(df)))\n",
    "  colnames(minm) = paste0(variable_name, \"_min_\", 2:num_periodos)\n",
    " \n",
    "  for (elemento in 2:num_periodos) {\n",
    "    min_name = colnames(minm)[elemento - 1]\n",
    "    minm[[min_name]] = rollapply(df[[variable_name]], width = elemento, FUN = min, fill = NA, align = 'right')\n",
    "  }\n",
    "  \n",
    "  return(minm)\n",
    "}"
   ]
  },
  {
   "cell_type": "code",
   "execution_count": 8,
   "id": "36d5e125",
   "metadata": {
    "vscode": {
     "languageId": "r"
    }
   },
   "outputs": [],
   "source": [
    "max_movil = function(df, variable, num_periodos = 7) {\n",
    "  \n",
    "  variable_name = deparse(substitute(variable))\n",
    "  \n",
    "  maxm = data.frame(matrix(ncol = num_periodos - 1, nrow = nrow(df)))\n",
    "  colnames(maxm) = paste0(variable_name, \"_max_\", 2:num_periodos)\n",
    " \n",
    "  for (elemento in 2:num_periodos) {\n",
    "    max_name = colnames(maxm)[elemento - 1]\n",
    "    maxm[[max_name]] = rollapply(df[[variable_name]], width = elemento, FUN = max, fill = NA, align = 'right')\n",
    "  }\n",
    "  \n",
    "  return(maxm)\n",
    "}"
   ]
  },
  {
   "cell_type": "code",
   "execution_count": 9,
   "id": "9f0e5e96",
   "metadata": {
    "vscode": {
     "languageId": "r"
    }
   },
   "outputs": [],
   "source": [
    "media_movil = function(df, variable, num_periodos = 7) {\n",
    "  \n",
    "  variable_name = deparse(substitute(variable))\n",
    "  \n",
    "  media = data.frame(matrix(ncol = num_periodos - 1, nrow = nrow(df)))\n",
    "  colnames(media) = paste0(variable_name, \"_media_\", 2:num_periodos)\n",
    " \n",
    "  for (elemento in 2:num_periodos) {\n",
    "    media_name = colnames(media)[elemento - 1]\n",
    "    media[[media_name]] = rollapply(df[[variable_name]], width = elemento, FUN = mean, fill = NA, align = 'right')\n",
    "  }\n",
    "  \n",
    "  return(media)\n",
    "}"
   ]
  },
  {
   "cell_type": "markdown",
   "id": "a5cdbb13",
   "metadata": {
    "vscode": {
     "languageId": "r"
    }
   },
   "source": [
    "Vamos a segmentar df por tienda y producto, previamente a crear las variables."
   ]
  },
  {
   "cell_type": "code",
   "execution_count": 10,
   "id": "0a172571",
   "metadata": {
    "vscode": {
     "languageId": "r"
    }
   },
   "outputs": [],
   "source": [
    "nombre_tiendas = df$store_id %>% unique()"
   ]
  },
  {
   "cell_type": "code",
   "execution_count": 11,
   "id": "f0ea094e",
   "metadata": {
    "vscode": {
     "languageId": "r"
    }
   },
   "outputs": [],
   "source": [
    "nombre_productos = df$item_id %>% unique()"
   ]
  },
  {
   "cell_type": "code",
   "execution_count": 12,
   "id": "63243add",
   "metadata": {
    "vscode": {
     "languageId": "r"
    }
   },
   "outputs": [],
   "source": [
    "lista_df_tienda_producto = list()"
   ]
  },
  {
   "cell_type": "code",
   "execution_count": 13,
   "id": "e1611dc3",
   "metadata": {
    "vscode": {
     "languageId": "r"
    }
   },
   "outputs": [],
   "source": [
    "for (ntienda in nombre_tiendas){\n",
    "\n",
    "  df_tienda = df %>% filter(store_id == ntienda)\n",
    "\n",
    "  for (nproducto in nombre_productos){\n",
    "\n",
    "    df_producto = df_tienda %>% filter(item_id == nproducto)\n",
    "\n",
    "    nombre = paste0(\"df\", \"_\" , ntienda , \"_\" , nproducto)\n",
    "\n",
    "    lista_df_tienda_producto[[nombre]] = df_producto\n",
    "\n",
    "\n",
    "  }\n",
    "\n",
    "\n",
    "}"
   ]
  },
  {
   "cell_type": "markdown",
   "id": "53cd32a6",
   "metadata": {
    "vscode": {
     "languageId": "r"
    }
   },
   "source": [
    "Comprobamos la creación."
   ]
  },
  {
   "cell_type": "code",
   "execution_count": 14,
   "id": "77381710",
   "metadata": {
    "vscode": {
     "languageId": "r"
    }
   },
   "outputs": [
    {
     "data": {
      "text/plain": [
       " [1] \"df_CA_3_FOODS_3_090\" \"df_CA_3_FOODS_3_120\" \"df_CA_3_FOODS_3_202\" \"df_CA_3_FOODS_3_252\" \"df_CA_3_FOODS_3_288\" \"df_CA_3_FOODS_3_329\"\n",
       " [7] \"df_CA_3_FOODS_3_555\" \"df_CA_3_FOODS_3_586\" \"df_CA_3_FOODS_3_587\" \"df_CA_3_FOODS_3_714\" \"df_CA_4_FOODS_3_090\" \"df_CA_4_FOODS_3_120\"\n",
       "[13] \"df_CA_4_FOODS_3_202\" \"df_CA_4_FOODS_3_252\" \"df_CA_4_FOODS_3_288\" \"df_CA_4_FOODS_3_329\" \"df_CA_4_FOODS_3_555\" \"df_CA_4_FOODS_3_586\"\n",
       "[19] \"df_CA_4_FOODS_3_587\" \"df_CA_4_FOODS_3_714\""
      ]
     },
     "execution_count": null,
     "metadata": {},
     "output_type": "execute_result"
    }
   ],
   "source": [
    "lista_df_tienda_producto %>% names()"
   ]
  },
  {
   "cell_type": "markdown",
   "id": "be409675",
   "metadata": {
    "vscode": {
     "languageId": "r"
    }
   },
   "source": [
    "Creamos las variables sintéticas en cada uno de los dataframes, procesamos, unimos, eliminamos nulos creados y duplicados y volvemos a guardar."
   ]
  },
  {
   "cell_type": "code",
   "execution_count": 15,
   "id": "4fc2751b",
   "metadata": {
    "vscode": {
     "languageId": "r"
    }
   },
   "outputs": [],
   "source": [
    "lista_df_tienda_producto_2 = list()\n",
    "\n",
    "for (dataframe in names(lista_df_tienda_producto)){\n",
    "\n",
    "  nombre_dataframe = dataframe\n",
    "\n",
    "  df_bucle = lista_df_tienda_producto[[nombre_dataframe]]\n",
    "\n",
    "  df_bucle = df_bucle %>% arrange(store_id, item_id, date) %>%  group_by(store_id, item_id) %>% mutate(\n",
    "    rotura_stock_3 = rotura_stock(ventas, 3),\n",
    "    rotura_stock_7 = rotura_stock(ventas, 7) ) %>% ungroup()\n",
    "  \n",
    "  lags_sell_price = crear_lags(df_bucle, sell_price, 7)\n",
    "  lags_ventas = crear_lags(df_bucle, ventas, 7)\n",
    "  lags_rotura_stock_3 = crear_lags(df_bucle, rotura_stock_3, 1)\n",
    "  lags_rotura_stock_7 = crear_lags(df_bucle, rotura_stock_7, 1)\n",
    "\n",
    "  media_movil_df = media_movil(df_bucle, ventas, 7)\n",
    "  min_movil_df = min_movil(df_bucle, ventas, 7)\n",
    "  max_movil_df = max_movil(df_bucle, ventas, 7)\n",
    "\n",
    "  df_final = bind_cols(df_bucle,\n",
    "    lags_sell_price,\n",
    "    lags_ventas,\n",
    "    lags_rotura_stock_3,\n",
    "    lags_rotura_stock_7,\n",
    "    media_movil_df,\n",
    "    min_movil_df,\n",
    "    max_movil_df)\n",
    "  \n",
    "  df_final = df_final[, !duplicated(names(df_final))]\n",
    "\n",
    "  df_final = df_final %>% drop_na()\n",
    "\n",
    "  variables_eliminar = c('d','wm_yr_wk','sell_price','rotura_stock_3','rotura_stock_7')\n",
    "\n",
    "  df_final = df_final %>% select(-all_of(variables_eliminar))\n",
    "\n",
    "  lista_df_tienda_producto_2[[nombre_dataframe]] = df_final\n",
    "\n",
    "\n",
    "}"
   ]
  },
  {
   "cell_type": "markdown",
   "id": "3d45a41e",
   "metadata": {
    "vscode": {
     "languageId": "r"
    }
   },
   "source": [
    "Previamente a hacer Min Max Scaling, guardamos los valores máximos y mínimos para poder revertirlo, una vez hecho el forecasting más adelante."
   ]
  },
  {
   "cell_type": "code",
   "execution_count": 16,
   "id": "51dece1e",
   "metadata": {
    "vscode": {
     "languageId": "r"
    }
   },
   "outputs": [],
   "source": [
    "lista_min_max_ventas = list()\n",
    "\n",
    "for (dataframe in names(lista_df_tienda_producto_2)){\n",
    "\n",
    "  nombre_dataframe = dataframe\n",
    "\n",
    "  df_bucle = lista_df_tienda_producto_2[[nombre_dataframe]]\n",
    "\n",
    "  min_bucle = df_bucle$ventas %>% min()\n",
    "  max_bucle = df_bucle$ventas %>% max()\n",
    "\n",
    "  nombre_min = paste0(\"min\",\"_\", str_remove(nombre_dataframe,\"df_\"))\n",
    "  nombre_max = paste0(\"max\",\"_\", str_remove(nombre_dataframe,\"df_\"))\n",
    "\n",
    "  lista_min_max_ventas[[nombre_min]] = min_bucle\n",
    "  lista_min_max_ventas[[nombre_max]] = max_bucle\n",
    "  \n",
    "  \n",
    "}"
   ]
  },
  {
   "cell_type": "markdown",
   "id": "a5fd5e45",
   "metadata": {
    "vscode": {
     "languageId": "r"
    }
   },
   "source": [
    "Guardamos también los valores reales de ventas en el histórico para la fase finald de visualización tras el forecasting."
   ]
  },
  {
   "cell_type": "code",
   "execution_count": 17,
   "id": "88be6f48",
   "metadata": {
    "vscode": {
     "languageId": "r"
    }
   },
   "outputs": [],
   "source": [
    "saveRDS(lista_df_tienda_producto_2, file = \"../02_Variables/lista_df_valores_reales.rds\")"
   ]
  },
  {
   "cell_type": "markdown",
   "id": "9d562ae9",
   "metadata": {
    "vscode": {
     "languageId": "r"
    }
   },
   "source": [
    "A continuación, procedemos a aplicar One Hot Encoding y Min Max Scaling a los dataframes generados."
   ]
  },
  {
   "cell_type": "code",
   "execution_count": 18,
   "id": "39b867fe",
   "metadata": {
    "vscode": {
     "languageId": "r"
    }
   },
   "outputs": [],
   "source": [
    "lista_df_tienda_producto_3 = list()\n",
    "\n",
    "for (dataframe in names(lista_df_tienda_producto_2)){\n",
    "\n",
    "  nombre_dataframe = dataframe\n",
    "\n",
    "  df_bucle = lista_df_tienda_producto_2[[nombre_dataframe]]\n",
    "\n",
    "  num = df_bucle %>% select(where(is.numeric))\n",
    "  cat = df_bucle %>% select_if(~ !is.numeric(.))\n",
    "\n",
    "  var_ohe = c('year', 'month', 'wday', 'weekday', 'event_name_1', 'event_type_1')\n",
    "\n",
    "  var_ohe_matrix = paste(\"~\", paste(var_ohe, collapse = \" + \"), \"- 1\")\n",
    "  cat_ohe_matrix = model.matrix(as.formula(var_ohe_matrix), data = cat)\n",
    "\n",
    "  cat_ohe = as.data.frame(cat_ohe_matrix)\n",
    "\n",
    "  df_var = df_bucle %>% select(date, store_id, item_id)\n",
    "\n",
    "  df_mm = cbind(num, cat_ohe)\n",
    "\n",
    "  df_mm = df_mm %>% mutate(across(everything(), ~ rescale(.x, to = c(-1, 1))))\n",
    "\n",
    "  df_td = cbind(df_var, df_mm)\n",
    "\n",
    "  lista_df_tienda_producto_3[[nombre_dataframe]] = df_td\n",
    "\n",
    "  \n",
    "}"
   ]
  },
  {
   "cell_type": "markdown",
   "id": "a38ca55e-e1d3-4e00-96c0-0a40168edd99",
   "metadata": {},
   "source": [
    "Guardamos los resultados, antes del proceso de preselección de variables."
   ]
  },
  {
   "cell_type": "code",
   "execution_count": 19,
   "id": "ed81e19b-5647-47b1-84d4-f4bd4025b893",
   "metadata": {
    "vscode": {
     "languageId": "r"
    }
   },
   "outputs": [],
   "source": [
    "saveRDS(lista_df_tienda_producto_3, file = \"../02_Variables/lista_df_preseleccion_var.rds\")\n",
    "saveRDS(lista_min_max_ventas, file = \"../02_Variables/lista_min_max_ventas.rds\")"
   ]
  },
  {
   "cell_type": "code",
   "execution_count": null,
   "id": "645b0cb9",
   "metadata": {
    "vscode": {
     "languageId": "r"
    }
   },
   "outputs": [],
   "source": []
  }
 ],
 "metadata": {
  "kernelspec": {
   "display_name": "sales_forecasting",
   "language": "R",
   "name": "ir"
  },
  "language_info": {
   "codemirror_mode": "r",
   "file_extension": ".r",
   "mimetype": "text/x-r-source",
   "name": "R",
   "pygments_lexer": "r",
   "version": "4.3.3"
  }
 },
 "nbformat": 4,
 "nbformat_minor": 5
}
