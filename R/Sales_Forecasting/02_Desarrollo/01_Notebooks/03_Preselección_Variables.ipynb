{
 "cells": [
  {
   "cell_type": "markdown",
   "metadata": {},
   "source": [
    "# Preselección de Variables"
   ]
  },
  {
   "cell_type": "code",
   "execution_count": 1,
   "metadata": {},
   "outputs": [
    {
     "name": "stdout",
     "output_type": "stream",
     "text": [
      "\n",
      "Attaching package: ‘dplyr’\n",
      "\n",
      "The following objects are masked from ‘package:stats’:\n",
      "\n",
      "    filter, lag\n",
      "\n",
      "The following objects are masked from ‘package:base’:\n",
      "\n",
      "    intersect, setdiff, setequal, union\n",
      "\n",
      "\n",
      "\n",
      "Attaching package: ‘dplyr’\n",
      "\n",
      "The following objects are masked from ‘package:stats’:\n",
      "\n",
      "    filter, lag\n",
      "\n",
      "The following objects are masked from ‘package:base’:\n",
      "\n",
      "    intersect, setdiff, setequal, union\n",
      "\n"
     ]
    },
    {
     "name": "stdout",
     "output_type": "stream",
     "text": [
      "\n",
      "Attaching package: ‘magrittr’\n",
      "\n",
      "The following object is masked from ‘package:tidyr’:\n",
      "\n",
      "    extract\n",
      "\n",
      "\n",
      "Attaching package: ‘zoo’\n",
      "\n",
      "The following objects are masked from ‘package:base’:\n",
      "\n",
      "    as.Date, as.Date.numeric\n",
      "\n",
      "\n",
      "Attaching package: ‘purrr’\n",
      "\n",
      "The following object is masked from ‘package:magrittr’:\n",
      "\n",
      "    set_names\n",
      "\n",
      "\n",
      "Attaching package: ‘scales’\n",
      "\n",
      "The following object is masked from ‘package:purrr’:\n",
      "\n",
      "    discard\n",
      "\n",
      "\n",
      "\n",
      "Attaching package: ‘magrittr’\n",
      "\n",
      "The following object is masked from ‘package:tidyr’:\n",
      "\n",
      "    extract\n",
      "\n",
      "\n",
      "Attaching package: ‘zoo’\n",
      "\n",
      "The following objects are masked from ‘package:base’:\n",
      "\n",
      "    as.Date, as.Date.numeric\n",
      "\n",
      "\n",
      "Attaching package: ‘purrr’\n",
      "\n",
      "The following object is masked from ‘package:magrittr’:\n",
      "\n",
      "    set_names\n",
      "\n",
      "\n",
      "Attaching package: ‘scales’\n",
      "\n",
      "The following object is masked from ‘package:purrr’:\n",
      "\n",
      "    discard\n",
      "\n"
     ]
    },
    {
     "name": "stdout",
     "output_type": "stream",
     "text": [
      "\n",
      "Attaching package: ‘xgboost’\n",
      "\n",
      "The following object is masked from ‘package:dplyr’:\n",
      "\n",
      "    slice\n",
      "\n",
      "\n",
      "\n",
      "Attaching package: ‘xgboost’\n",
      "\n",
      "The following object is masked from ‘package:dplyr’:\n",
      "\n",
      "    slice\n",
      "\n"
     ]
    }
   ],
   "source": [
    "library(ggplot2)\n",
    "library(dplyr)\n",
    "library(tidyr)\n",
    "library(magrittr)\n",
    "library(zoo)\n",
    "library(purrr)\n",
    "library(scales)\n",
    "library(xgboost)"
   ]
  },
  {
   "cell_type": "code",
   "execution_count": 2,
   "metadata": {},
   "outputs": [],
   "source": [
    "lista_df_preseleccion_var = readRDS('../02_Variables/lista_df_preseleccion_var.rds')"
   ]
  },
  {
   "cell_type": "code",
   "execution_count": 3,
   "metadata": {},
   "outputs": [],
   "source": [
    "lista_vectores = list()\n",
    "lista_df_post_seleccion = list()"
   ]
  },
  {
   "cell_type": "code",
   "execution_count": 4,
   "metadata": {},
   "outputs": [],
   "source": [
    "params = list(\n",
    "  objective = \"reg:squarederror\",\n",
    "  eval_metric = \"rmse\",\n",
    "  lambda = 2,          \n",
    "  alpha = 2,           \n",
    "  max_depth = 4,       \n",
    "  min_child_weight = 5, \n",
    "  eta = 0.01,\n",
    "  subsample = 0.7,     \n",
    "  colsample_bytree = 0.7, \n",
    "  gamma = 1          \n",
    ")"
   ]
  },
  {
   "cell_type": "code",
   "execution_count": 5,
   "metadata": {},
   "outputs": [],
   "source": [
    "for (dataframe in names(lista_df_preseleccion_var)){\n",
    "\n",
    "  nombre_dataframe = dataframe\n",
    "\n",
    "  df_bucle = lista_df_preseleccion_var[[nombre_dataframe]]\n",
    "\n",
    "  x = df_bucle %>% select(-date, -store_id, -item_id, -ventas)\n",
    "  y = df_bucle %>% select(ventas)\n",
    "\n",
    "  x = as.matrix(x)\n",
    "  y = as.numeric(y[[1]])\n",
    "\n",
    "  dtrain = xgb.DMatrix(data = x, label = y)\n",
    "\n",
    "  xgb_model = xgb.train(\n",
    "    params = params,\n",
    "    data = dtrain,\n",
    "    nrounds = 100,\n",
    "    verbose = 0 )\n",
    "  \n",
    "  importance_matrix = xgb.importance(feature_names = colnames(x), model = xgb_model)\n",
    "\n",
    "  importance_df = as.data.frame(importance_matrix)\n",
    "  \n",
    "  importance_df = importance_df[order(importance_df$Gain, decreasing = TRUE), ]\n",
    "\n",
    "  variables_seleccionadas = importance_df$Feature\n",
    "\n",
    "  df_var_selec = df_bucle %>% select(all_of(variables_seleccionadas), ventas, date)\n",
    "\n",
    "  lista_vectores[[nombre_dataframe]] = variables_seleccionadas\n",
    "  lista_df_post_seleccion[[nombre_dataframe]] = df_var_selec\n",
    "\n",
    "}"
   ]
  },
  {
   "cell_type": "code",
   "execution_count": 6,
   "metadata": {},
   "outputs": [],
   "source": [
    "conteo_variables = lista_vectores %>% unlist() %>% table()\n",
    "conteo_variables = sort(conteo_variables, decreasing = TRUE)"
   ]
  },
  {
   "cell_type": "code",
   "execution_count": 7,
   "metadata": {},
   "outputs": [
    {
     "data": {
      "image/png": "[encoded data removed]"
     },
     "metadata": {},
     "output_type": "display_data"
    }
   ],
   "source": [
    "# Convertir conteo_variables a un data.frame\n",
    "df_conteo = as.data.frame(conteo_variables)\n",
    "\n",
    "# Renombrar columnas para facilitar el gráfico\n",
    "colnames(df_conteo) = c(\"Variable\", \"Frecuencia\")\n",
    "\n",
    "# Crear el gráfico de barras\n",
    "ggplot(df_conteo, aes(x = reorder(Variable, -Frecuencia), y = Frecuencia)) +\n",
    "  geom_bar(stat = \"identity\", fill = \"skyblue\") +\n",
    "  labs(title = \"Frecuencia de Variables\", x = \"Variables\", y = \"Frecuencia\") +\n",
    "  theme(axis.text.x = element_text(angle = 45, hjust = 1))"
   ]
  },
  {
   "cell_type": "markdown",
   "metadata": {},
   "source": [
    "Guardamos el resultado."
   ]
  },
  {
   "cell_type": "code",
   "execution_count": 8,
   "metadata": {},
   "outputs": [],
   "source": [
    "saveRDS(lista_df_post_seleccion, file = \"../02_Variables/lista_df_ps.rds\")"
   ]
  },
  {
   "cell_type": "code",
   "execution_count": 41,
   "metadata": {},
   "outputs": [],
   "source": []
  }
 ],
 "metadata": {
  "language_info": {
   "name": "r"
  }
 },
 "nbformat": 4,
 "nbformat_minor": 2
}
