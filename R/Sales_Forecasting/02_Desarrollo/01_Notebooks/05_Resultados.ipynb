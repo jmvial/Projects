{
 "cells": [
  {
   "cell_type": "code",
   "execution_count": 3,
   "metadata": {
    "vscode": {
     "languageId": "r"
    }
   },
   "outputs": [],
   "source": [
    "library(ggplot2)\n",
    "library(dplyr)\n",
    "library(tidyr)\n",
    "library(magrittr)\n",
    "library(zoo)\n",
    "library(purrr)\n",
    "library(scales)\n",
    "library(keras3)\n",
    "library(stringr)"
   ]
  },
  {
   "cell_type": "code",
   "execution_count": 4,
   "metadata": {
    "vscode": {
     "languageId": "r"
    }
   },
   "outputs": [],
   "source": [
    "lista_df_valores_reales = readRDS('../02_Variables/lista_df_valores_reales.rds')\n",
    "lista_df_forecast = readRDS('../02_Variables/lista_df_forecast.rds')"
   ]
  },
  {
   "cell_type": "code",
   "execution_count": 5,
   "metadata": {
    "vscode": {
     "languageId": "r"
    }
   },
   "outputs": [],
   "source": [
    "elementos = lista_df_valores_reales %>% length()"
   ]
  },
  {
   "cell_type": "code",
   "execution_count": 6,
   "metadata": {
    "vscode": {
     "languageId": "r"
    }
   },
   "outputs": [],
   "source": [
    "plot_series = function(df_real, df_forecast) {\n",
    "\n",
    "  ggplot() +\n",
    "\n",
    "  geom_line(data = df_real, aes(x = date, y = ventas, color = \"Real\"), size = 0.4, alpha = 0.9, linetype = \"longdash\") +\n",
    "  geom_line(data = df_forecast, aes(x = Fecha, y = Prediccion, color = \"Predicted\"), size = 1, alpha = 0.8) +\n",
    "  labs(\n",
    "    title = \"CA3 202 Sales Forecasting\",\n",
    "    x = \"Date\",\n",
    "    y = \"Sales\",\n",
    "    color = \"Legend\"\n",
    "  ) +\n",
    "  scale_color_manual(values = c(\"Real\" = \"#0056A0\", \"Predicted\" = \"#FF0000\")) +\n",
    "  scale_x_date(labels = date_format(\"%Y-%m-%d\"), breaks = \"1 month\") +\n",
    "  theme_minimal(base_size = 15) +\n",
    "  theme(\n",
    "    plot.background = element_rect(fill = \"gray95\", color = NA),\n",
    "    panel.background = element_rect(fill = \"gray90\", color = NA),\n",
    "    axis.text.x = element_text(angle = 45, hjust = 1, size = 12, color = \"black\"),\n",
    "    axis.title = element_text(size = 14, face = \"bold\"),\n",
    "    legend.title = element_text(size = 12, face = \"bold\"),\n",
    "    legend.text = element_text(size = 12),\n",
    "    plot.title = element_text(size = 18, face = \"bold\", hjust = 0.5, color = \"#333333\"),\n",
    "    panel.grid.major = element_line(color = \"gray80\"),\n",
    "    panel.grid.minor = element_blank(),\n",
    "    legend.position = \"top\",\n",
    "    legend.background = element_rect(fill = \"gray90\", color = NA)\n",
    "  )\n",
    "\n",
    "\n",
    "}"
   ]
  },
  {
   "cell_type": "code",
   "execution_count": 8,
   "metadata": {
    "vscode": {
     "languageId": "r"
    }
   },
   "outputs": [],
   "source": [
    "lista_visualizacion = list()\n",
    "\n",
    "for(i in seq_len(elementos)) {\n",
    "\n",
    "  df_real = lista_df_valores_reales[[i]]\n",
    "  df_forecast = lista_df_forecast[[i]]\n",
    "\n",
    "  nombre_bucle = names(lista_df_forecast)[i]\n",
    "\n",
    "  p = plot_series(df_real, df_forecast)\n",
    "\n",
    "  lista_visualizacion[[nombre_bucle]] = p\n",
    "\n",
    "\n",
    "}"
   ]
  },
  {
   "cell_type": "markdown",
   "metadata": {
    "vscode": {
     "languageId": "r"
    }
   },
   "source": [
    "Guardamos los archivos."
   ]
  },
  {
   "cell_type": "markdown",
   "metadata": {
    "vscode": {
     "languageId": "r"
    }
   },
   "source": [
    "folder_path = \"../../03_Resultados\"\n",
    "\n",
    "for (nombre_grafico in names(lista_visualizacion)) {\n",
    "\n",
    "  ruta_archivo = file.path(folder_path, paste0(nombre_grafico, \".png\"))\n",
    "\n",
    "  ggsave(filename = ruta_archivo, plot = lista_visualizacion[[nombre_grafico]])\n",
    "  \n",
    "}\n"
   ]
  },
  {
   "cell_type": "code",
   "execution_count": 10,
   "metadata": {
    "vscode": {
     "languageId": "r"
    }
   },
   "outputs": [],
   "source": [
    "saveRDS(lista_visualizacion, file = \"../02_Variables/lista_visualizacion.rds\")"
   ]
  },
  {
   "cell_type": "code",
   "execution_count": null,
   "metadata": {
    "vscode": {
     "languageId": "r"
    }
   },
   "outputs": [],
   "source": []
  }
 ],
 "metadata": {
  "language_info": {
   "name": "python"
  }
 },
 "nbformat": 4,
 "nbformat_minor": 2
}
